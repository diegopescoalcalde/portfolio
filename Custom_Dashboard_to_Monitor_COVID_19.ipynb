{
  "nbformat": 4,
  "nbformat_minor": 0,
  "metadata": {
    "colab": {
      "name": "Custom_Dashboard_to_Monitor_COVID-19.ipynb",
      "provenance": [],
      "authorship_tag": "ABX9TyPHGtER74cGQc0FWO5c7281",
      "include_colab_link": true
    },
    "kernelspec": {
      "name": "python3",
      "display_name": "Python 3"
    }
  },
  "cells": [
    {
      "cell_type": "markdown",
      "metadata": {
        "id": "view-in-github",
        "colab_type": "text"
      },
      "source": [
        "<a href=\"https://colab.research.google.com/github/diegopescoalcalde/portfolio/blob/master/Custom_Dashboard_to_Monitor_COVID_19.ipynb\" target=\"_parent\"><img src=\"https://colab.research.google.com/assets/colab-badge.svg\" alt=\"Open In Colab\"/></a>"
      ]
    },
    {
      "cell_type": "markdown",
      "metadata": {
        "id": "7teTKQV3Bbvj",
        "colab_type": "text"
      },
      "source": [
        "\n",
        "# **Custom Dashboard to Monitor COVID-19**\n",
        "---\n",
        "*by [Diego Pesco Alcalde](https://www.linkedin.com/in/diegopesco/)*\n",
        "\n",
        "<br>\n",
        "\n",
        "\n",
        "![COVID](https://static.vecteezy.com/system/resources/thumbnails/001/040/238/original/covid-19-pandemic-outbreak-illustration-with-world-map.jpg)\n",
        "\n",
        "<br>\n",
        "\n",
        "**More than 450000 people have already died of COVID-19 in the world until today (June 29th, 2020).** The pandemic outbreak will surely be part of History classes in the future, just as the bubonic plague and the influenza ones. What makes COVID-19 different from the other public health crisis is that it is the first worldwide pandemic to happen in the generation of high speed communication. Using the appropriate equipment, scientists were able to map different aspects of the virus structure and transmission very fast. They were able to share information from different places of the world using the internet, and work together to come up with ideas and solutions to the impacts of the disease. Not only that, governments are able to monitor in real time the numbers and make decisions based in data. I cannot think of any other pandemic crisis that generated more information than this one. For more than 6 months it is the most discussed topic in the entire world and it will still be for at least a couple more.\n",
        "\n",
        "So after seeing many different news showing all sorts of numbers, graphs and forecasts for the disease transmission and its impacts, I decided to create a dashboard to monitor the situation in different countries and come up with my own theories and conclusions. \n",
        "\n",
        "My objective in this study was to **find out how well Brazil is dealing with the public health crisis when compared to other countries.**\n",
        "\n",
        "Link to the dashboard: https://covid-dash-streamlit.herokuapp.com/\n",
        "\n",
        "The dashboard was developed in Streamlit to allow quick variable changes, but I reproduced the code to generate the charts below.\n",
        "\n",
        "Another important point: Since the data available here comes from different sources with different measurements (countries' governments), I restricted my analysis to a graphical visualization and did not create models or regressions of data. There are too many sources of variation that can influence the model and the predictions.\n",
        "\n",
        "<br>\n",
        "\n",
        "\n",
        "\n",
        "<br>\n",
        "\n"
      ]
    },
    {
      "cell_type": "markdown",
      "metadata": {
        "id": "3kuf5uQxGcq2",
        "colab_type": "text"
      },
      "source": [
        "## Data Collection and Pre-processing\n",
        "\n",
        "There are many datasets that could be used for this study. I decided to work with data from [Our World In Data](https://ourworldindata.org/), a reference when reliable data is needed about different topics of the world, and the official reference adopted by John Hopkings University for their tracking of the pandemic spread.\n",
        "The dataset for the study is an official report of COVID-19 which is publicly available on Our World in Data [Github](https://github.com/owid/covid-19-data/tree/master/public/data). I ran this analysis on June 29rd, 2020, so if you reproduce the code after that your conclusions may be different from mine.\n",
        "\n",
        "I start the study importing the libraries in Python and the dataset.\n"
      ]
    },
    {
      "cell_type": "code",
      "metadata": {
        "id": "A-vLvPa-4hPq",
        "colab_type": "code",
        "colab": {
          "base_uri": "https://localhost:8080/",
          "height": 204
        },
        "outputId": "c4414806-8c46-43c4-c492-f64ded3b7622"
      },
      "source": [
        "!pip install plotly>=4.0.0\n",
        "!wget https://github.com/plotly/orca/releases/download/v1.2.1/orca-1.2.1-x86_64.AppImage -O /usr/local/bin/orca\n",
        "!chmod +x /usr/local/bin/orca\n",
        "!apt-get install xvfb libgtk2.0-0 libgconf-2-4"
      ],
      "execution_count": null,
      "outputs": [
        {
          "output_type": "stream",
          "text": [
            "/usr/local/bin/orca: Text file busy\n",
            "Reading package lists... Done\n",
            "Building dependency tree       \n",
            "Reading state information... Done\n",
            "libgtk2.0-0 is already the newest version (2.24.32-1ubuntu1).\n",
            "libgconf-2-4 is already the newest version (3.2.6-4ubuntu1).\n",
            "xvfb is already the newest version (2:1.19.6-1ubuntu4.4).\n",
            "The following package was automatically installed and is no longer required:\n",
            "  libnvidia-common-440\n",
            "Use 'apt autoremove' to remove it.\n",
            "0 upgraded, 0 newly installed, 0 to remove and 33 not upgraded.\n"
          ],
          "name": "stdout"
        }
      ]
    },
    {
      "cell_type": "code",
      "metadata": {
        "id": "dhY2iXY1BUoW",
        "colab_type": "code",
        "colab": {}
      },
      "source": [
        "# Import libraries\n",
        "import pandas as pd\n",
        "import numpy as np\n",
        "import matplotlib.pyplot as plt\n",
        "import seaborn as sns\n",
        "from pandas_profiling import ProfileReport\n",
        "import plotly.express as px\n",
        "import plotly.graph_objects as go\n",
        "\n",
        "%matplotlib inline\n",
        "%config InlineBackend.figure_format = 'svg'\n",
        "\n",
        "# Seaborn Style Graphs\n",
        "sns.set()\n",
        "sns.set_style(\"dark\")\n",
        "\n",
        "# Import data in a dataset\n",
        "df = pd.read_csv(\"https://raw.githubusercontent.com/owid/covid-19-data/master/public/data/owid-covid-data.csv\")\n"
      ],
      "execution_count": null,
      "outputs": []
    },
    {
      "cell_type": "markdown",
      "metadata": {
        "id": "nsamHWmdH1M3",
        "colab_type": "text"
      },
      "source": [
        "Then I do quick check to see if the dataset looks ok and what sort of information can be found in it."
      ]
    },
    {
      "cell_type": "code",
      "metadata": {
        "id": "LzyNt__rF7X4",
        "colab_type": "code",
        "colab": {
          "base_uri": "https://localhost:8080/",
          "height": 609
        },
        "outputId": "395afb5c-e69f-47e0-918a-9961d50b5a30"
      },
      "source": [
        "# Reproduce dataset initial and last rows\n",
        "df"
      ],
      "execution_count": null,
      "outputs": [
        {
          "output_type": "execute_result",
          "data": {
            "text/html": [
              "<div>\n",
              "<style scoped>\n",
              "    .dataframe tbody tr th:only-of-type {\n",
              "        vertical-align: middle;\n",
              "    }\n",
              "\n",
              "    .dataframe tbody tr th {\n",
              "        vertical-align: top;\n",
              "    }\n",
              "\n",
              "    .dataframe thead th {\n",
              "        text-align: right;\n",
              "    }\n",
              "</style>\n",
              "<table border=\"1\" class=\"dataframe\">\n",
              "  <thead>\n",
              "    <tr style=\"text-align: right;\">\n",
              "      <th></th>\n",
              "      <th>iso_code</th>\n",
              "      <th>continent</th>\n",
              "      <th>location</th>\n",
              "      <th>date</th>\n",
              "      <th>total_cases</th>\n",
              "      <th>new_cases</th>\n",
              "      <th>total_deaths</th>\n",
              "      <th>new_deaths</th>\n",
              "      <th>total_cases_per_million</th>\n",
              "      <th>new_cases_per_million</th>\n",
              "      <th>total_deaths_per_million</th>\n",
              "      <th>new_deaths_per_million</th>\n",
              "      <th>total_tests</th>\n",
              "      <th>new_tests</th>\n",
              "      <th>total_tests_per_thousand</th>\n",
              "      <th>new_tests_per_thousand</th>\n",
              "      <th>new_tests_smoothed</th>\n",
              "      <th>new_tests_smoothed_per_thousand</th>\n",
              "      <th>tests_units</th>\n",
              "      <th>stringency_index</th>\n",
              "      <th>population</th>\n",
              "      <th>population_density</th>\n",
              "      <th>median_age</th>\n",
              "      <th>aged_65_older</th>\n",
              "      <th>aged_70_older</th>\n",
              "      <th>gdp_per_capita</th>\n",
              "      <th>extreme_poverty</th>\n",
              "      <th>cvd_death_rate</th>\n",
              "      <th>diabetes_prevalence</th>\n",
              "      <th>female_smokers</th>\n",
              "      <th>male_smokers</th>\n",
              "      <th>handwashing_facilities</th>\n",
              "      <th>hospital_beds_per_thousand</th>\n",
              "      <th>life_expectancy</th>\n",
              "    </tr>\n",
              "  </thead>\n",
              "  <tbody>\n",
              "    <tr>\n",
              "      <th>0</th>\n",
              "      <td>AFG</td>\n",
              "      <td>Asia</td>\n",
              "      <td>Afghanistan</td>\n",
              "      <td>2019-12-31</td>\n",
              "      <td>0.0</td>\n",
              "      <td>0.0</td>\n",
              "      <td>0.0</td>\n",
              "      <td>0.0</td>\n",
              "      <td>0.0</td>\n",
              "      <td>0.0</td>\n",
              "      <td>0.0</td>\n",
              "      <td>0.0</td>\n",
              "      <td>NaN</td>\n",
              "      <td>NaN</td>\n",
              "      <td>NaN</td>\n",
              "      <td>NaN</td>\n",
              "      <td>NaN</td>\n",
              "      <td>NaN</td>\n",
              "      <td>NaN</td>\n",
              "      <td>NaN</td>\n",
              "      <td>38928341.0</td>\n",
              "      <td>54.422</td>\n",
              "      <td>18.6</td>\n",
              "      <td>2.581</td>\n",
              "      <td>1.337</td>\n",
              "      <td>1803.987</td>\n",
              "      <td>NaN</td>\n",
              "      <td>597.029</td>\n",
              "      <td>9.59</td>\n",
              "      <td>NaN</td>\n",
              "      <td>NaN</td>\n",
              "      <td>37.746</td>\n",
              "      <td>0.5</td>\n",
              "      <td>64.83</td>\n",
              "    </tr>\n",
              "    <tr>\n",
              "      <th>1</th>\n",
              "      <td>AFG</td>\n",
              "      <td>Asia</td>\n",
              "      <td>Afghanistan</td>\n",
              "      <td>2020-01-01</td>\n",
              "      <td>0.0</td>\n",
              "      <td>0.0</td>\n",
              "      <td>0.0</td>\n",
              "      <td>0.0</td>\n",
              "      <td>0.0</td>\n",
              "      <td>0.0</td>\n",
              "      <td>0.0</td>\n",
              "      <td>0.0</td>\n",
              "      <td>NaN</td>\n",
              "      <td>NaN</td>\n",
              "      <td>NaN</td>\n",
              "      <td>NaN</td>\n",
              "      <td>NaN</td>\n",
              "      <td>NaN</td>\n",
              "      <td>NaN</td>\n",
              "      <td>0.0</td>\n",
              "      <td>38928341.0</td>\n",
              "      <td>54.422</td>\n",
              "      <td>18.6</td>\n",
              "      <td>2.581</td>\n",
              "      <td>1.337</td>\n",
              "      <td>1803.987</td>\n",
              "      <td>NaN</td>\n",
              "      <td>597.029</td>\n",
              "      <td>9.59</td>\n",
              "      <td>NaN</td>\n",
              "      <td>NaN</td>\n",
              "      <td>37.746</td>\n",
              "      <td>0.5</td>\n",
              "      <td>64.83</td>\n",
              "    </tr>\n",
              "    <tr>\n",
              "      <th>2</th>\n",
              "      <td>AFG</td>\n",
              "      <td>Asia</td>\n",
              "      <td>Afghanistan</td>\n",
              "      <td>2020-01-02</td>\n",
              "      <td>0.0</td>\n",
              "      <td>0.0</td>\n",
              "      <td>0.0</td>\n",
              "      <td>0.0</td>\n",
              "      <td>0.0</td>\n",
              "      <td>0.0</td>\n",
              "      <td>0.0</td>\n",
              "      <td>0.0</td>\n",
              "      <td>NaN</td>\n",
              "      <td>NaN</td>\n",
              "      <td>NaN</td>\n",
              "      <td>NaN</td>\n",
              "      <td>NaN</td>\n",
              "      <td>NaN</td>\n",
              "      <td>NaN</td>\n",
              "      <td>0.0</td>\n",
              "      <td>38928341.0</td>\n",
              "      <td>54.422</td>\n",
              "      <td>18.6</td>\n",
              "      <td>2.581</td>\n",
              "      <td>1.337</td>\n",
              "      <td>1803.987</td>\n",
              "      <td>NaN</td>\n",
              "      <td>597.029</td>\n",
              "      <td>9.59</td>\n",
              "      <td>NaN</td>\n",
              "      <td>NaN</td>\n",
              "      <td>37.746</td>\n",
              "      <td>0.5</td>\n",
              "      <td>64.83</td>\n",
              "    </tr>\n",
              "    <tr>\n",
              "      <th>3</th>\n",
              "      <td>AFG</td>\n",
              "      <td>Asia</td>\n",
              "      <td>Afghanistan</td>\n",
              "      <td>2020-01-03</td>\n",
              "      <td>0.0</td>\n",
              "      <td>0.0</td>\n",
              "      <td>0.0</td>\n",
              "      <td>0.0</td>\n",
              "      <td>0.0</td>\n",
              "      <td>0.0</td>\n",
              "      <td>0.0</td>\n",
              "      <td>0.0</td>\n",
              "      <td>NaN</td>\n",
              "      <td>NaN</td>\n",
              "      <td>NaN</td>\n",
              "      <td>NaN</td>\n",
              "      <td>NaN</td>\n",
              "      <td>NaN</td>\n",
              "      <td>NaN</td>\n",
              "      <td>0.0</td>\n",
              "      <td>38928341.0</td>\n",
              "      <td>54.422</td>\n",
              "      <td>18.6</td>\n",
              "      <td>2.581</td>\n",
              "      <td>1.337</td>\n",
              "      <td>1803.987</td>\n",
              "      <td>NaN</td>\n",
              "      <td>597.029</td>\n",
              "      <td>9.59</td>\n",
              "      <td>NaN</td>\n",
              "      <td>NaN</td>\n",
              "      <td>37.746</td>\n",
              "      <td>0.5</td>\n",
              "      <td>64.83</td>\n",
              "    </tr>\n",
              "    <tr>\n",
              "      <th>4</th>\n",
              "      <td>AFG</td>\n",
              "      <td>Asia</td>\n",
              "      <td>Afghanistan</td>\n",
              "      <td>2020-01-04</td>\n",
              "      <td>0.0</td>\n",
              "      <td>0.0</td>\n",
              "      <td>0.0</td>\n",
              "      <td>0.0</td>\n",
              "      <td>0.0</td>\n",
              "      <td>0.0</td>\n",
              "      <td>0.0</td>\n",
              "      <td>0.0</td>\n",
              "      <td>NaN</td>\n",
              "      <td>NaN</td>\n",
              "      <td>NaN</td>\n",
              "      <td>NaN</td>\n",
              "      <td>NaN</td>\n",
              "      <td>NaN</td>\n",
              "      <td>NaN</td>\n",
              "      <td>0.0</td>\n",
              "      <td>38928341.0</td>\n",
              "      <td>54.422</td>\n",
              "      <td>18.6</td>\n",
              "      <td>2.581</td>\n",
              "      <td>1.337</td>\n",
              "      <td>1803.987</td>\n",
              "      <td>NaN</td>\n",
              "      <td>597.029</td>\n",
              "      <td>9.59</td>\n",
              "      <td>NaN</td>\n",
              "      <td>NaN</td>\n",
              "      <td>37.746</td>\n",
              "      <td>0.5</td>\n",
              "      <td>64.83</td>\n",
              "    </tr>\n",
              "    <tr>\n",
              "      <th>...</th>\n",
              "      <td>...</td>\n",
              "      <td>...</td>\n",
              "      <td>...</td>\n",
              "      <td>...</td>\n",
              "      <td>...</td>\n",
              "      <td>...</td>\n",
              "      <td>...</td>\n",
              "      <td>...</td>\n",
              "      <td>...</td>\n",
              "      <td>...</td>\n",
              "      <td>...</td>\n",
              "      <td>...</td>\n",
              "      <td>...</td>\n",
              "      <td>...</td>\n",
              "      <td>...</td>\n",
              "      <td>...</td>\n",
              "      <td>...</td>\n",
              "      <td>...</td>\n",
              "      <td>...</td>\n",
              "      <td>...</td>\n",
              "      <td>...</td>\n",
              "      <td>...</td>\n",
              "      <td>...</td>\n",
              "      <td>...</td>\n",
              "      <td>...</td>\n",
              "      <td>...</td>\n",
              "      <td>...</td>\n",
              "      <td>...</td>\n",
              "      <td>...</td>\n",
              "      <td>...</td>\n",
              "      <td>...</td>\n",
              "      <td>...</td>\n",
              "      <td>...</td>\n",
              "      <td>...</td>\n",
              "    </tr>\n",
              "    <tr>\n",
              "      <th>27595</th>\n",
              "      <td>NaN</td>\n",
              "      <td>NaN</td>\n",
              "      <td>International</td>\n",
              "      <td>2020-02-28</td>\n",
              "      <td>705.0</td>\n",
              "      <td>0.0</td>\n",
              "      <td>4.0</td>\n",
              "      <td>0.0</td>\n",
              "      <td>NaN</td>\n",
              "      <td>NaN</td>\n",
              "      <td>NaN</td>\n",
              "      <td>NaN</td>\n",
              "      <td>NaN</td>\n",
              "      <td>NaN</td>\n",
              "      <td>NaN</td>\n",
              "      <td>NaN</td>\n",
              "      <td>NaN</td>\n",
              "      <td>NaN</td>\n",
              "      <td>NaN</td>\n",
              "      <td>NaN</td>\n",
              "      <td>NaN</td>\n",
              "      <td>NaN</td>\n",
              "      <td>NaN</td>\n",
              "      <td>NaN</td>\n",
              "      <td>NaN</td>\n",
              "      <td>NaN</td>\n",
              "      <td>NaN</td>\n",
              "      <td>NaN</td>\n",
              "      <td>NaN</td>\n",
              "      <td>NaN</td>\n",
              "      <td>NaN</td>\n",
              "      <td>NaN</td>\n",
              "      <td>NaN</td>\n",
              "      <td>NaN</td>\n",
              "    </tr>\n",
              "    <tr>\n",
              "      <th>27596</th>\n",
              "      <td>NaN</td>\n",
              "      <td>NaN</td>\n",
              "      <td>International</td>\n",
              "      <td>2020-02-29</td>\n",
              "      <td>705.0</td>\n",
              "      <td>0.0</td>\n",
              "      <td>6.0</td>\n",
              "      <td>2.0</td>\n",
              "      <td>NaN</td>\n",
              "      <td>NaN</td>\n",
              "      <td>NaN</td>\n",
              "      <td>NaN</td>\n",
              "      <td>NaN</td>\n",
              "      <td>NaN</td>\n",
              "      <td>NaN</td>\n",
              "      <td>NaN</td>\n",
              "      <td>NaN</td>\n",
              "      <td>NaN</td>\n",
              "      <td>NaN</td>\n",
              "      <td>NaN</td>\n",
              "      <td>NaN</td>\n",
              "      <td>NaN</td>\n",
              "      <td>NaN</td>\n",
              "      <td>NaN</td>\n",
              "      <td>NaN</td>\n",
              "      <td>NaN</td>\n",
              "      <td>NaN</td>\n",
              "      <td>NaN</td>\n",
              "      <td>NaN</td>\n",
              "      <td>NaN</td>\n",
              "      <td>NaN</td>\n",
              "      <td>NaN</td>\n",
              "      <td>NaN</td>\n",
              "      <td>NaN</td>\n",
              "    </tr>\n",
              "    <tr>\n",
              "      <th>27597</th>\n",
              "      <td>NaN</td>\n",
              "      <td>NaN</td>\n",
              "      <td>International</td>\n",
              "      <td>2020-03-01</td>\n",
              "      <td>705.0</td>\n",
              "      <td>0.0</td>\n",
              "      <td>6.0</td>\n",
              "      <td>0.0</td>\n",
              "      <td>NaN</td>\n",
              "      <td>NaN</td>\n",
              "      <td>NaN</td>\n",
              "      <td>NaN</td>\n",
              "      <td>NaN</td>\n",
              "      <td>NaN</td>\n",
              "      <td>NaN</td>\n",
              "      <td>NaN</td>\n",
              "      <td>NaN</td>\n",
              "      <td>NaN</td>\n",
              "      <td>NaN</td>\n",
              "      <td>NaN</td>\n",
              "      <td>NaN</td>\n",
              "      <td>NaN</td>\n",
              "      <td>NaN</td>\n",
              "      <td>NaN</td>\n",
              "      <td>NaN</td>\n",
              "      <td>NaN</td>\n",
              "      <td>NaN</td>\n",
              "      <td>NaN</td>\n",
              "      <td>NaN</td>\n",
              "      <td>NaN</td>\n",
              "      <td>NaN</td>\n",
              "      <td>NaN</td>\n",
              "      <td>NaN</td>\n",
              "      <td>NaN</td>\n",
              "    </tr>\n",
              "    <tr>\n",
              "      <th>27598</th>\n",
              "      <td>NaN</td>\n",
              "      <td>NaN</td>\n",
              "      <td>International</td>\n",
              "      <td>2020-03-02</td>\n",
              "      <td>705.0</td>\n",
              "      <td>0.0</td>\n",
              "      <td>6.0</td>\n",
              "      <td>0.0</td>\n",
              "      <td>NaN</td>\n",
              "      <td>NaN</td>\n",
              "      <td>NaN</td>\n",
              "      <td>NaN</td>\n",
              "      <td>NaN</td>\n",
              "      <td>NaN</td>\n",
              "      <td>NaN</td>\n",
              "      <td>NaN</td>\n",
              "      <td>NaN</td>\n",
              "      <td>NaN</td>\n",
              "      <td>NaN</td>\n",
              "      <td>NaN</td>\n",
              "      <td>NaN</td>\n",
              "      <td>NaN</td>\n",
              "      <td>NaN</td>\n",
              "      <td>NaN</td>\n",
              "      <td>NaN</td>\n",
              "      <td>NaN</td>\n",
              "      <td>NaN</td>\n",
              "      <td>NaN</td>\n",
              "      <td>NaN</td>\n",
              "      <td>NaN</td>\n",
              "      <td>NaN</td>\n",
              "      <td>NaN</td>\n",
              "      <td>NaN</td>\n",
              "      <td>NaN</td>\n",
              "    </tr>\n",
              "    <tr>\n",
              "      <th>27599</th>\n",
              "      <td>NaN</td>\n",
              "      <td>NaN</td>\n",
              "      <td>International</td>\n",
              "      <td>2020-03-10</td>\n",
              "      <td>696.0</td>\n",
              "      <td>-9.0</td>\n",
              "      <td>7.0</td>\n",
              "      <td>1.0</td>\n",
              "      <td>NaN</td>\n",
              "      <td>NaN</td>\n",
              "      <td>NaN</td>\n",
              "      <td>NaN</td>\n",
              "      <td>NaN</td>\n",
              "      <td>NaN</td>\n",
              "      <td>NaN</td>\n",
              "      <td>NaN</td>\n",
              "      <td>NaN</td>\n",
              "      <td>NaN</td>\n",
              "      <td>NaN</td>\n",
              "      <td>NaN</td>\n",
              "      <td>NaN</td>\n",
              "      <td>NaN</td>\n",
              "      <td>NaN</td>\n",
              "      <td>NaN</td>\n",
              "      <td>NaN</td>\n",
              "      <td>NaN</td>\n",
              "      <td>NaN</td>\n",
              "      <td>NaN</td>\n",
              "      <td>NaN</td>\n",
              "      <td>NaN</td>\n",
              "      <td>NaN</td>\n",
              "      <td>NaN</td>\n",
              "      <td>NaN</td>\n",
              "      <td>NaN</td>\n",
              "    </tr>\n",
              "  </tbody>\n",
              "</table>\n",
              "<p>27600 rows × 34 columns</p>\n",
              "</div>"
            ],
            "text/plain": [
              "      iso_code continent  ... hospital_beds_per_thousand life_expectancy\n",
              "0          AFG      Asia  ...                        0.5           64.83\n",
              "1          AFG      Asia  ...                        0.5           64.83\n",
              "2          AFG      Asia  ...                        0.5           64.83\n",
              "3          AFG      Asia  ...                        0.5           64.83\n",
              "4          AFG      Asia  ...                        0.5           64.83\n",
              "...        ...       ...  ...                        ...             ...\n",
              "27595      NaN       NaN  ...                        NaN             NaN\n",
              "27596      NaN       NaN  ...                        NaN             NaN\n",
              "27597      NaN       NaN  ...                        NaN             NaN\n",
              "27598      NaN       NaN  ...                        NaN             NaN\n",
              "27599      NaN       NaN  ...                        NaN             NaN\n",
              "\n",
              "[27600 rows x 34 columns]"
            ]
          },
          "metadata": {
            "tags": []
          },
          "execution_count": 29
        }
      ]
    },
    {
      "cell_type": "markdown",
      "metadata": {
        "id": "uRK46lL8IVPJ",
        "colab_type": "text"
      },
      "source": [
        "The numbers are related per country per day, so time series of each country can be built. There is a combination of COVID-19 numbers, as well as statistics of public health and demographics.\n",
        "\n",
        "Now let's check a summary of the dataset structure."
      ]
    },
    {
      "cell_type": "code",
      "metadata": {
        "id": "_z4V_L_VGQ9p",
        "colab_type": "code",
        "colab": {
          "base_uri": "https://localhost:8080/",
          "height": 714
        },
        "outputId": "92ce0534-f9e8-4137-e7e5-be28e9348c55"
      },
      "source": [
        "# Show a summary of dataset structure\n",
        "df.info()"
      ],
      "execution_count": null,
      "outputs": [
        {
          "output_type": "stream",
          "text": [
            "<class 'pandas.core.frame.DataFrame'>\n",
            "RangeIndex: 27600 entries, 0 to 27599\n",
            "Data columns (total 34 columns):\n",
            " #   Column                           Non-Null Count  Dtype  \n",
            "---  ------                           --------------  -----  \n",
            " 0   iso_code                         27536 non-null  object \n",
            " 1   continent                        27351 non-null  object \n",
            " 2   location                         27600 non-null  object \n",
            " 3   date                             27600 non-null  object \n",
            " 4   total_cases                      27376 non-null  float64\n",
            " 5   new_cases                        27376 non-null  float64\n",
            " 6   total_deaths                     27376 non-null  float64\n",
            " 7   new_deaths                       27376 non-null  float64\n",
            " 8   total_cases_per_million          27312 non-null  float64\n",
            " 9   new_cases_per_million            27312 non-null  float64\n",
            " 10  total_deaths_per_million         27312 non-null  float64\n",
            " 11  new_deaths_per_million           27312 non-null  float64\n",
            " 12  total_tests                      8128 non-null   float64\n",
            " 13  new_tests                        7682 non-null   float64\n",
            " 14  total_tests_per_thousand         8128 non-null   float64\n",
            " 15  new_tests_per_thousand           7682 non-null   float64\n",
            " 16  new_tests_smoothed               8710 non-null   float64\n",
            " 17  new_tests_smoothed_per_thousand  8710 non-null   float64\n",
            " 18  tests_units                      9336 non-null   object \n",
            " 19  stringency_index                 22111 non-null  float64\n",
            " 20  population                       27536 non-null  float64\n",
            " 21  population_density               26391 non-null  float64\n",
            " 22  median_age                       24919 non-null  float64\n",
            " 23  aged_65_older                    24565 non-null  float64\n",
            " 24  aged_70_older                    24791 non-null  float64\n",
            " 25  gdp_per_capita                   24635 non-null  float64\n",
            " 26  extreme_poverty                  16466 non-null  float64\n",
            " 27  cvd_death_rate                   24949 non-null  float64\n",
            " 28  diabetes_prevalence              25761 non-null  float64\n",
            " 29  female_smokers                   19959 non-null  float64\n",
            " 30  male_smokers                     19727 non-null  float64\n",
            " 31  handwashing_facilities           11280 non-null  float64\n",
            " 32  hospital_beds_per_thousand       22787 non-null  float64\n",
            " 33  life_expectancy                  27215 non-null  float64\n",
            "dtypes: float64(29), object(5)\n",
            "memory usage: 7.2+ MB\n"
          ],
          "name": "stdout"
        }
      ]
    },
    {
      "cell_type": "markdown",
      "metadata": {
        "id": "vNLm352QBaco",
        "colab_type": "text"
      },
      "source": [
        "The total of rows will depend on the day the code is run, but today (June 29th) when I started the study, there are 26959 entries, and 34 variables.\n",
        "\n",
        "There is a considerable quantity of null data, I will check what is the relation among the null data and the total."
      ]
    },
    {
      "cell_type": "code",
      "metadata": {
        "id": "_HAKiv46NDU8",
        "colab_type": "code",
        "colab": {
          "base_uri": "https://localhost:8080/",
          "height": 612
        },
        "outputId": "cfa4cb4e-9b3e-4832-e2b9-d92d18dec7e3"
      },
      "source": [
        "#Check for missing values in the dataset\n",
        "(df.isnull().sum()/df.shape[0]).sort_values(ascending=False)"
      ],
      "execution_count": null,
      "outputs": [
        {
          "output_type": "execute_result",
          "data": {
            "text/plain": [
              "new_tests                          0.721667\n",
              "new_tests_per_thousand             0.721667\n",
              "total_tests_per_thousand           0.705507\n",
              "total_tests                        0.705507\n",
              "new_tests_smoothed_per_thousand    0.684420\n",
              "new_tests_smoothed                 0.684420\n",
              "tests_units                        0.661739\n",
              "handwashing_facilities             0.591304\n",
              "extreme_poverty                    0.403406\n",
              "male_smokers                       0.285254\n",
              "female_smokers                     0.276848\n",
              "stringency_index                   0.198877\n",
              "hospital_beds_per_thousand         0.174384\n",
              "aged_65_older                      0.109964\n",
              "gdp_per_capita                     0.107428\n",
              "aged_70_older                      0.101775\n",
              "median_age                         0.097138\n",
              "cvd_death_rate                     0.096051\n",
              "diabetes_prevalence                0.066630\n",
              "population_density                 0.043804\n",
              "life_expectancy                    0.013949\n",
              "new_deaths_per_million             0.010435\n",
              "total_deaths_per_million           0.010435\n",
              "new_cases_per_million              0.010435\n",
              "total_cases_per_million            0.010435\n",
              "continent                          0.009022\n",
              "new_deaths                         0.008116\n",
              "total_deaths                       0.008116\n",
              "new_cases                          0.008116\n",
              "total_cases                        0.008116\n",
              "population                         0.002319\n",
              "iso_code                           0.002319\n",
              "date                               0.000000\n",
              "location                           0.000000\n",
              "dtype: float64"
            ]
          },
          "metadata": {
            "tags": []
          },
          "execution_count": 31
        }
      ]
    },
    {
      "cell_type": "markdown",
      "metadata": {
        "id": "dw-FyqiRRWnE",
        "colab_type": "text"
      },
      "source": [
        "It seems that the columns about number of tests are the ones with most missing data. Since this analysis will be mainly graphical, I will not replace or drop the missing values. The interpreter of the graphical libraries is able to work with them and leave blank spaces in the time series. This is not recommended if calculations or models are applied using the numbers."
      ]
    },
    {
      "cell_type": "markdown",
      "metadata": {
        "id": "1gW-4kog1Oq_",
        "colab_type": "text"
      },
      "source": [
        "## Visual Analysis\n",
        "\n",
        "Now, there is no totally fair way of doing comparisons about the pandemic spread and its impacts. One can always argue that there are differences in specific aspects of the countries. In my opinion, the total population of a country is one of these critical aspects. Not because the more people, the more sick people there will be (there are normalized variables for that), but I believe that establishing public policies is very different in small and big countries. So I will do my analysis considering only countries with population of more than 200 million people, and will include Brazil in it. I will choose Brazil, China, United States, Nigeria, Pakistan, Indonesia and India.\n",
        "\n",
        "\n",
        "I created in my dashboard a section with information of Population, Population Density, Life Expectancy and Stringency Index of countries, so I made this information available in the table below. Stringency Index is a measurement of how \"severe\" were lockdown actions in the country, being a high index related to severe lockdowns."
      ]
    },
    {
      "cell_type": "code",
      "metadata": {
        "id": "AKJf07E5J9wx",
        "colab_type": "code",
        "colab": {
          "base_uri": "https://localhost:8080/",
          "height": 297
        },
        "outputId": "f22e4faa-a316-4802-a552-64bfd8198630"
      },
      "source": [
        "\n",
        "place = \"Brazil\", \"China\", \"United States\", \"Nigeria\", \"Pakistan\", \"Indonesia\", \"India\"\n",
        "\n",
        "demographics = df.loc[df.location.isin(place)]\n",
        "demographics = demographics.groupby(['location']).mean()\n",
        "demographics.loc[:,['population', 'population_density', 'life_expectancy', 'stringency_index', 'aged_70_older', 'extreme_poverty']]\n"
      ],
      "execution_count": null,
      "outputs": [
        {
          "output_type": "execute_result",
          "data": {
            "text/html": [
              "<div>\n",
              "<style scoped>\n",
              "    .dataframe tbody tr th:only-of-type {\n",
              "        vertical-align: middle;\n",
              "    }\n",
              "\n",
              "    .dataframe tbody tr th {\n",
              "        vertical-align: top;\n",
              "    }\n",
              "\n",
              "    .dataframe thead th {\n",
              "        text-align: right;\n",
              "    }\n",
              "</style>\n",
              "<table border=\"1\" class=\"dataframe\">\n",
              "  <thead>\n",
              "    <tr style=\"text-align: right;\">\n",
              "      <th></th>\n",
              "      <th>population</th>\n",
              "      <th>population_density</th>\n",
              "      <th>life_expectancy</th>\n",
              "      <th>stringency_index</th>\n",
              "      <th>aged_70_older</th>\n",
              "      <th>extreme_poverty</th>\n",
              "    </tr>\n",
              "    <tr>\n",
              "      <th>location</th>\n",
              "      <th></th>\n",
              "      <th></th>\n",
              "      <th></th>\n",
              "      <th></th>\n",
              "      <th></th>\n",
              "      <th></th>\n",
              "    </tr>\n",
              "  </thead>\n",
              "  <tbody>\n",
              "    <tr>\n",
              "      <th>Brazil</th>\n",
              "      <td>2.125594e+08</td>\n",
              "      <td>25.040</td>\n",
              "      <td>75.88</td>\n",
              "      <td>45.734971</td>\n",
              "      <td>5.060</td>\n",
              "      <td>3.4</td>\n",
              "    </tr>\n",
              "    <tr>\n",
              "      <th>China</th>\n",
              "      <td>1.439324e+09</td>\n",
              "      <td>147.674</td>\n",
              "      <td>76.91</td>\n",
              "      <td>65.196278</td>\n",
              "      <td>5.929</td>\n",
              "      <td>0.7</td>\n",
              "    </tr>\n",
              "    <tr>\n",
              "      <th>India</th>\n",
              "      <td>1.380004e+09</td>\n",
              "      <td>450.419</td>\n",
              "      <td>69.66</td>\n",
              "      <td>54.025363</td>\n",
              "      <td>3.414</td>\n",
              "      <td>21.2</td>\n",
              "    </tr>\n",
              "    <tr>\n",
              "      <th>Indonesia</th>\n",
              "      <td>2.735236e+08</td>\n",
              "      <td>145.725</td>\n",
              "      <td>71.72</td>\n",
              "      <td>47.253533</td>\n",
              "      <td>3.053</td>\n",
              "      <td>5.7</td>\n",
              "    </tr>\n",
              "    <tr>\n",
              "      <th>Nigeria</th>\n",
              "      <td>2.061396e+08</td>\n",
              "      <td>209.588</td>\n",
              "      <td>54.69</td>\n",
              "      <td>47.345128</td>\n",
              "      <td>1.447</td>\n",
              "      <td>NaN</td>\n",
              "    </tr>\n",
              "    <tr>\n",
              "      <th>Pakistan</th>\n",
              "      <td>2.208923e+08</td>\n",
              "      <td>255.573</td>\n",
              "      <td>67.27</td>\n",
              "      <td>52.699157</td>\n",
              "      <td>2.780</td>\n",
              "      <td>4.0</td>\n",
              "    </tr>\n",
              "    <tr>\n",
              "      <th>United States</th>\n",
              "      <td>3.310026e+08</td>\n",
              "      <td>35.608</td>\n",
              "      <td>78.86</td>\n",
              "      <td>43.842273</td>\n",
              "      <td>9.732</td>\n",
              "      <td>1.2</td>\n",
              "    </tr>\n",
              "  </tbody>\n",
              "</table>\n",
              "</div>"
            ],
            "text/plain": [
              "                 population  population_density  ...  aged_70_older  extreme_poverty\n",
              "location                                         ...                                \n",
              "Brazil         2.125594e+08              25.040  ...          5.060              3.4\n",
              "China          1.439324e+09             147.674  ...          5.929              0.7\n",
              "India          1.380004e+09             450.419  ...          3.414             21.2\n",
              "Indonesia      2.735236e+08             145.725  ...          3.053              5.7\n",
              "Nigeria        2.061396e+08             209.588  ...          1.447              NaN\n",
              "Pakistan       2.208923e+08             255.573  ...          2.780              4.0\n",
              "United States  3.310026e+08              35.608  ...          9.732              1.2\n",
              "\n",
              "[7 rows x 6 columns]"
            ]
          },
          "metadata": {
            "tags": []
          },
          "execution_count": 32
        }
      ]
    },
    {
      "cell_type": "markdown",
      "metadata": {
        "id": "gKXnd2G4_FnL",
        "colab_type": "text"
      },
      "source": [
        "Being 100 the maximum value for the stringency index and considering the news information, I was expecting bigger differences in the values for the countries of the list. But as reported, Brazil and United States took less actions than most countries to hold the spread so their index is indeed smaller. As we can see, even though countries have similar population there are many differences in their demographics.\n",
        "\n",
        "How these variables relate to what happened in the last months? First I will check the number of cases per million habitants."
      ]
    },
    {
      "cell_type": "code",
      "metadata": {
        "id": "l_iCV-0KlSTN",
        "colab_type": "code",
        "colab": {
          "base_uri": "https://localhost:8080/",
          "height": 467
        },
        "outputId": "5080002e-b4b7-49da-e524-c004cc2e6580"
      },
      "source": [
        "place = \"Brazil\", \"China\", \"United States\", \"Nigeria\", \"Pakistan\", \"Indonesia\", \"India\"\n",
        "\n",
        "country = df.loc[df.location.isin(place)]\n",
        "fig = px.line(country, x=\"date\", y=\"total_cases_per_million\", title='Total Cases per million habitants', color='location')\n",
        "fig.show(\"png\")"
      ],
      "execution_count": null,
      "outputs": [
        {
          "output_type": "display_data",
          "data": {
            "image/png": "[encoded data removed]"
          },
          "metadata": {
            "tags": []
          }
        }
      ]
    },
    {
      "cell_type": "markdown",
      "metadata": {
        "id": "JC8XzT-OtFbr",
        "colab_type": "text"
      },
      "source": [
        "The total reported cases of United States and Brazil per million habitants is much larger than for the other countries. Are these countries struggling more on the battle against COVID-19 or they are just reporting more than the others? Let's see the total number of tests done per thousand habitants."
      ]
    },
    {
      "cell_type": "code",
      "metadata": {
        "id": "F0AwRE3ALBFh",
        "colab_type": "code",
        "colab": {
          "base_uri": "https://localhost:8080/",
          "height": 467
        },
        "outputId": "1ff7f178-bdb4-440a-90cc-ad167ed588af"
      },
      "source": [
        "\n",
        "\n",
        "fig = px.line(country, x=\"date\", y=\"total_tests_per_thousand\", title='Tests per thousand habitants', color='location')\n",
        "fig.show(\"png\")"
      ],
      "execution_count": null,
      "outputs": [
        {
          "output_type": "display_data",
          "data": {
            "image/png": "[encoded data removed]"
          },
          "metadata": {
            "tags": []
          }
        }
      ]
    },
    {
      "cell_type": "markdown",
      "metadata": {
        "id": "X8Ub83K9vPY-",
        "colab_type": "text"
      },
      "source": [
        "The United States is definetely testing much more people, so it could be related to the number of cases there. The number of tests done in Brazil was not reported in the dataset, but there are many sources such as [this one](https://www.washingtonpost.com/world/the_americas/coronavirus-brazil-testing-bolsonaro-cemetery-gravedigger/2020/04/22/fe757ee4-83cc-11ea-878a-86477a724bdb_story.html) reporting that Brazil is testing much less than most other countries. So it is fair to say that the number of reported cases in Brazil is not because it is testing more than the other countries. \n",
        "\n",
        "So the question that comes into my mind is how did Brazil reach such a high number of cases testing the same quantity or less people than the other countries? Of all the countries selected for the analysis, Brazil has:\n",
        "* The second smaller population (only bigger than Nigeria's)\n",
        "* The smaller population density\n",
        "* The third highest life expectancy\n",
        "* The second lowest stringency index (but not so different from Nigeria's and Indonesia's)\n",
        "* The third higher number of people above 70 years old\n",
        "\n",
        "Is that difference in the stringency index enough to explain the situation? Or could it be the number of older people?\n",
        "\n",
        "Now I will plot the number of deaths per million habitants to see what we can learn from it."
      ]
    },
    {
      "cell_type": "code",
      "metadata": {
        "id": "a1cWw7-NO08q",
        "colab_type": "code",
        "colab": {
          "base_uri": "https://localhost:8080/",
          "height": 467
        },
        "outputId": "dd1fe800-bd91-48b9-ebd1-03cd422435e6"
      },
      "source": [
        "\n",
        "fig = px.line(country, x=\"date\", y=\"total_deaths_per_million\", title='Total Deaths per million habitants', color='location')\n",
        "fig.show(\"png\")"
      ],
      "execution_count": null,
      "outputs": [
        {
          "output_type": "display_data",
          "data": {
            "image/png": "[encoded data removed]"
          },
          "metadata": {
            "tags": []
          }
        }
      ]
    },
    {
      "cell_type": "markdown",
      "metadata": {
        "id": "HzCA1j480tRp",
        "colab_type": "text"
      },
      "source": [
        "By seeing the slope of the curves here, it is possible to see how sudden was the pandemic impact in the US. In one month the total reported deaths per million changed from 12 to 190. In Brazil the slope was smaller, but it is still in an increasing trend. The trend is different from other countries where the outbreak was more severe, and could be caused by an earlier lockdown or subnotification in the first weeks. If slopes do not change in less than one month Brazil will be the country with the highest number of deaths per million people among the ones that we are looking at."
      ]
    },
    {
      "cell_type": "markdown",
      "metadata": {
        "id": "oJWDeexWDwyt",
        "colab_type": "text"
      },
      "source": [
        "## Conclusions\n",
        "\n",
        "In order to get some insights and verify theories about COVID-19 crisis I created a dashboard where we can monitor the status of cases, deaths and tests using the data from Our World in Data. To give an example of the sort of analysis that can be done with the material I compared the situation of countries with more than 200 million habitants. The disparity of the numbers is evident and shows how many questions and theories can come from a quick data visualization exercise. Some of the important conclusions are:\n",
        "\n",
        "* United States and Brazil are in a whole different level of cases and deaths than the other countries, what makes me think think of two questions. The first, is this the real situation of the other countries or a strong subnotification issue? And the second, if the data is right, what did United States and Brazil did so differently from these countries to face the issue in a different scale?\n",
        "* The number of cases in the United States can be explained by the much bigger scale in which tests are being done there when compared to any other country of our list. United States started increasing the number of tests per thousand habitants in April, when the number of deaths started rising, but it was too late to avoid the more of 100,000 deaths reported so far. There was a clear change of mindset in government that is helping to avoid a far worse situation there.\n",
        "* According to data of public health ministry, Brazil has distributed around 10 million tests, what puts it close to the numbers of India and Pakistan in tests per thousand habitants, so Brazil has not tested more than these other countries (more data available in Portuguese [here](https://www.saude.gov.br/noticias/agencia-saude/47113-saude-passa-a-testar-100-dos-casos-leves-de-covid-19) and [here](https://covid.saude.gov.br/)). So the number of cases and deaths in Brazil is extremely concerning and the causes must be investigated. \n",
        "* Another point widely discussed is if the virus transmission is higher in poor places. Using the extreme poverty as an indicator of countries that have more or less poor population, that theory does not seem so easy to validate, and India is the main example of that. I will not be naive and pretend that subnotification is not huge in poor places, however the numbers of deaths (which are more easily reported) seem to be much bigger in places where the population is older or where governments openly started taking measures late. [This material](https://edition.cnn.com/2020/04/28/india/india-coronavirus-outbreak-explained-intl-hnk/index.html) discuss some theories of why the numbers in India are small, which can be very helpful in this comparison.\n",
        "\n",
        "\n",
        "\n",
        "It is important to state that this dataset is not a source of truth. It relies on data governments share with the global organizations, so before any of the conclusions written above can be considered valid, a fact-check process needs to be done to understand if governments are collecting and reporting this data in a similar manner. That does not mean that nothing can be done with the material. Data is the most powerful way to tackle a problem, and helps us to understand where to look at. Studies have to be done in iterative way, in which every dataset helps to narrow down the problem a little bit more, until final answers are found. I hope this material can help as a first step for other studies about this topic, and that we can really consolidate all the available information to avoid a similar crisis in the future.\n",
        "\n"
      ]
    },
    {
      "cell_type": "code",
      "metadata": {
        "id": "cXWVS1aYQQUd",
        "colab_type": "code",
        "colab": {}
      },
      "source": [
        ""
      ],
      "execution_count": null,
      "outputs": []
    }
  ]
}