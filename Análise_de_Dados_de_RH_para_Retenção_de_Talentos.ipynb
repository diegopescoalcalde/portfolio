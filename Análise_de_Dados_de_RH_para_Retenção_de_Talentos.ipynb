{
  "nbformat": 4,
  "nbformat_minor": 0,
  "metadata": {
    "colab": {
      "name": "Análise de Dados de RH para Retenção de Talentos",
      "provenance": [],
      "authorship_tag": "ABX9TyOmpY1zTyc0hITRZB5/Fr9Z",
      "include_colab_link": true
    },
    "kernelspec": {
      "name": "python3",
      "display_name": "Python 3"
    }
  },
  "cells": [
    {
      "cell_type": "markdown",
      "metadata": {
        "id": "view-in-github",
        "colab_type": "text"
      },
      "source": [
        "<a href=\"https://colab.research.google.com/github/diegopescoalcalde/portfolio/blob/master/An%C3%A1lise_de_Dados_de_RH_para_Reten%C3%A7%C3%A3o_de_Talentos.ipynb\" target=\"_parent\"><img src=\"https://colab.research.google.com/assets/colab-badge.svg\" alt=\"Open In Colab\"/></a>"
      ]
    },
    {
      "cell_type": "markdown",
      "metadata": {
        "id": "7teTKQV3Bbvj",
        "colab_type": "text"
      },
      "source": [
        "\n",
        "# **Análise de dados de RH para Retenção de Talentos e Melhoria de Performance**\n",
        "---\n",
        "*por [Diego Pesco Alcalde](https://www.linkedin.com/in/diegopesco/)*\n",
        "\n",
        "<br>\n",
        "\n",
        "![texto alternativo](https://business.internations.org/hs-fs/hubfs/Pillar%20Page%20Images/Piilar%20Page_Talent%20Retention_Hero%20Image.png?width=640&name=Piilar%20Page_Talent%20Retention_Hero%20Image.png)\n",
        "\n",
        "<br>\n",
        "\n",
        "Retenção de talentos é um dos maiores desafios de qualquer departamento de Recursos Humanos. Colaboradores dedicados e inteligentes sabem bem do seu potencial e não hesitam em procurar novas oportunidades quando não estão satisfeitos com a sua carreira em uma determinada organização.\n",
        "\n",
        "Baixos salários, falta de oportunidades de crescimento, curvas de aprendizado saturadas e desentendimentos com pares e superiores são algumas das causas de insatisfação no trabalho e profissionais de RH estão sempre buscando prevenir, prever e tratar esses problemas, mantendo os funcionários unidos e satisfeitos. A Ciência de Dados tem participado cada vez mais deste processo, permitindo com que líderes detectem padrões de comportamento de pessoas insatisfeitas e ajam antes que seja tarde demais.\n",
        "\n",
        "Recentemente eu realizei uma análise de dados de RH de uma companhia com mais de 15 mil funcionários. Por questões de confidencialidade os dados dessa análise não podem ser compartilhados mas apliquei as mesmas estratégias utilizando dados fictícios de RH criados pela IBM neste notebook.\n",
        "\n",
        "Vou realizar uma análise exploratória dos dados e criar dois modelos de Machine Learning a partir deles, um de Classificação e um de Agrupamento ou Clusterização. Meu objetivo é mostrar algumas das aplicações de Ciência de Dados nesta área de business que ainda é tida por muitos como uma das mais subjetivas que existem.\n",
        "\n",
        "\n",
        "<br>\n",
        "\n",
        "OBS: Alguns valores calculados e cores dos gráficos podem estar diferentes do artigo publicado no Medium.\n",
        "\n",
        "<br>\n",
        "\n"
      ]
    },
    {
      "cell_type": "markdown",
      "metadata": {
        "id": "3kuf5uQxGcq2",
        "colab_type": "text"
      },
      "source": [
        "## Coleta e Pré-processamento dos Dados\n",
        "\n",
        "\n",
        "\n",
        "Vou iniciar o estudo importando as bibliotecas necessárias e o banco de dados, que está disponível no [Kaggle](https://www.kaggle.com/pavansubhasht/ibm-hr-analytics-attrition-dataset).\n"
      ]
    },
    {
      "cell_type": "code",
      "metadata": {
        "id": "A-vLvPa-4hPq",
        "colab_type": "code",
        "colab": {}
      },
      "source": [
        "%%capture\n",
        "!pip install plotly>=4.0.0\n",
        "!wget https://github.com/plotly/orca/releases/download/v1.2.1/orca-1.2.1-x86_64.AppImage -O /usr/local/bin/orca\n",
        "!chmod +x /usr/local/bin/orca\n",
        "!apt-get install xvfb libgtk2.0-0 libgconf-2-4\n",
        "!pip install chart-studio"
      ],
      "execution_count": 4,
      "outputs": []
    },
    {
      "cell_type": "code",
      "metadata": {
        "id": "5f7l_k8C8L_j",
        "colab_type": "code",
        "colab": {}
      },
      "source": [
        "#@title\n",
        "# hide warnings\n",
        "from warnings import simplefilter\n",
        "simplefilter(action='ignore', category=FutureWarning)\n"
      ],
      "execution_count": 5,
      "outputs": []
    },
    {
      "cell_type": "code",
      "metadata": {
        "id": "dhY2iXY1BUoW",
        "colab_type": "code",
        "colab": {}
      },
      "source": [
        "# Import libraries\n",
        "\n",
        "import pandas as pd\n",
        "import numpy as np\n",
        "import matplotlib.pyplot as plt\n",
        "import seaborn as sns\n",
        "from pandas_profiling import ProfileReport\n",
        "import plotly.express as px\n",
        "import plotly.graph_objects as go\n",
        "import chart_studio\n",
        "import chart_studio.plotly as py\n",
        "\n",
        "from imblearn.under_sampling import RandomUnderSampler\n",
        "from sklearn.metrics import roc_auc_score, accuracy_score, f1_score, confusion_matrix, classification_report, plot_confusion_matrix, precision_recall_curve\n",
        "from sklearn.preprocessing import StandardScaler, LabelEncoder, RobustScaler\n",
        "from sklearn.pipeline import make_pipeline\n",
        "from sklearn.model_selection import train_test_split\n",
        "from sklearn.model_selection import cross_val_score\n",
        "from sklearn.model_selection import StratifiedKFold\n",
        "from sklearn.model_selection import GridSearchCV\n",
        "from sklearn.svm import SVC\n",
        "from lightgbm import LGBMClassifier\n",
        "from sklearn.linear_model import SGDClassifier\n",
        "from sklearn.tree import DecisionTreeClassifier\n",
        "from sklearn.linear_model import LogisticRegression\n",
        "from xgboost import XGBClassifier\n",
        "from sklearn.ensemble import RandomForestClassifier\n",
        "from sklearn.decomposition import PCA\n",
        "from sklearn.cluster import KMeans\n",
        "\n",
        "\n",
        "%matplotlib inline\n",
        "%config InlineBackend.figure_format = 'svg'\n",
        "\n",
        "# Seaborn Style Graphs\n",
        "sns.set()\n",
        "sns.set_style(\"dark\")\n"
      ],
      "execution_count": 6,
      "outputs": []
    },
    {
      "cell_type": "code",
      "metadata": {
        "id": "IQD8yRQd4-sv",
        "colab_type": "code",
        "colab": {}
      },
      "source": [
        "chart_studio.tools.set_credentials_file(username='diegopesco', api_key='yZt4oF6GmEBFyPrhJAFT')"
      ],
      "execution_count": 7,
      "outputs": []
    },
    {
      "cell_type": "code",
      "metadata": {
        "id": "-lMQaIDD8F2p",
        "colab_type": "code",
        "colab": {}
      },
      "source": [
        "# File path\n",
        "\n",
        "# https://raw.githubusercontent.com/IBM/employee-attrition-aif360/master/data/emp_attrition.csv\n",
        "\n",
        "file_path = '/content/WA_Fn-UseC_-HR-Employee-Attrition.csv' #@param {type:\"string\"}\n",
        "\n",
        "# Import data in a dataset\n",
        "df = pd.read_csv(file_path)"
      ],
      "execution_count": 8,
      "outputs": []
    },
    {
      "cell_type": "markdown",
      "metadata": {
        "id": "nsamHWmdH1M3",
        "colab_type": "text"
      },
      "source": [
        "É importante visualizar o aspecto da tabela de dados para ver quais informações podem ser obtidas dela e se elas estão corretamente distribuídas nas células."
      ]
    },
    {
      "cell_type": "code",
      "metadata": {
        "id": "LzyNt__rF7X4",
        "colab_type": "code",
        "colab": {
          "base_uri": "https://localhost:8080/",
          "height": 609
        },
        "outputId": "e527a0de-3705-4f48-86ba-d2c727eb9942"
      },
      "source": [
        "# Reproduce dataset initial and last rows\n",
        "df"
      ],
      "execution_count": 9,
      "outputs": [
        {
          "output_type": "execute_result",
          "data": {
            "text/html": [
              "<div>\n",
              "<style scoped>\n",
              "    .dataframe tbody tr th:only-of-type {\n",
              "        vertical-align: middle;\n",
              "    }\n",
              "\n",
              "    .dataframe tbody tr th {\n",
              "        vertical-align: top;\n",
              "    }\n",
              "\n",
              "    .dataframe thead th {\n",
              "        text-align: right;\n",
              "    }\n",
              "</style>\n",
              "<table border=\"1\" class=\"dataframe\">\n",
              "  <thead>\n",
              "    <tr style=\"text-align: right;\">\n",
              "      <th></th>\n",
              "      <th>Age</th>\n",
              "      <th>Attrition</th>\n",
              "      <th>BusinessTravel</th>\n",
              "      <th>DailyRate</th>\n",
              "      <th>Department</th>\n",
              "      <th>DistanceFromHome</th>\n",
              "      <th>Education</th>\n",
              "      <th>EducationField</th>\n",
              "      <th>EmployeeCount</th>\n",
              "      <th>EmployeeNumber</th>\n",
              "      <th>EnvironmentSatisfaction</th>\n",
              "      <th>Gender</th>\n",
              "      <th>HourlyRate</th>\n",
              "      <th>JobInvolvement</th>\n",
              "      <th>JobLevel</th>\n",
              "      <th>JobRole</th>\n",
              "      <th>JobSatisfaction</th>\n",
              "      <th>MaritalStatus</th>\n",
              "      <th>MonthlyIncome</th>\n",
              "      <th>MonthlyRate</th>\n",
              "      <th>NumCompaniesWorked</th>\n",
              "      <th>Over18</th>\n",
              "      <th>OverTime</th>\n",
              "      <th>PercentSalaryHike</th>\n",
              "      <th>PerformanceRating</th>\n",
              "      <th>RelationshipSatisfaction</th>\n",
              "      <th>StandardHours</th>\n",
              "      <th>StockOptionLevel</th>\n",
              "      <th>TotalWorkingYears</th>\n",
              "      <th>TrainingTimesLastYear</th>\n",
              "      <th>WorkLifeBalance</th>\n",
              "      <th>YearsAtCompany</th>\n",
              "      <th>YearsInCurrentRole</th>\n",
              "      <th>YearsSinceLastPromotion</th>\n",
              "      <th>YearsWithCurrManager</th>\n",
              "    </tr>\n",
              "  </thead>\n",
              "  <tbody>\n",
              "    <tr>\n",
              "      <th>0</th>\n",
              "      <td>41</td>\n",
              "      <td>Yes</td>\n",
              "      <td>Travel_Rarely</td>\n",
              "      <td>1102</td>\n",
              "      <td>Sales</td>\n",
              "      <td>1</td>\n",
              "      <td>2</td>\n",
              "      <td>Life Sciences</td>\n",
              "      <td>1</td>\n",
              "      <td>1</td>\n",
              "      <td>2</td>\n",
              "      <td>Female</td>\n",
              "      <td>94</td>\n",
              "      <td>3</td>\n",
              "      <td>2</td>\n",
              "      <td>Sales Executive</td>\n",
              "      <td>4</td>\n",
              "      <td>Single</td>\n",
              "      <td>5993</td>\n",
              "      <td>19479</td>\n",
              "      <td>8</td>\n",
              "      <td>Y</td>\n",
              "      <td>Yes</td>\n",
              "      <td>11</td>\n",
              "      <td>3</td>\n",
              "      <td>1</td>\n",
              "      <td>80</td>\n",
              "      <td>0</td>\n",
              "      <td>8</td>\n",
              "      <td>0</td>\n",
              "      <td>1</td>\n",
              "      <td>6</td>\n",
              "      <td>4</td>\n",
              "      <td>0</td>\n",
              "      <td>5</td>\n",
              "    </tr>\n",
              "    <tr>\n",
              "      <th>1</th>\n",
              "      <td>49</td>\n",
              "      <td>No</td>\n",
              "      <td>Travel_Frequently</td>\n",
              "      <td>279</td>\n",
              "      <td>Research &amp; Development</td>\n",
              "      <td>8</td>\n",
              "      <td>1</td>\n",
              "      <td>Life Sciences</td>\n",
              "      <td>1</td>\n",
              "      <td>2</td>\n",
              "      <td>3</td>\n",
              "      <td>Male</td>\n",
              "      <td>61</td>\n",
              "      <td>2</td>\n",
              "      <td>2</td>\n",
              "      <td>Research Scientist</td>\n",
              "      <td>2</td>\n",
              "      <td>Married</td>\n",
              "      <td>5130</td>\n",
              "      <td>24907</td>\n",
              "      <td>1</td>\n",
              "      <td>Y</td>\n",
              "      <td>No</td>\n",
              "      <td>23</td>\n",
              "      <td>4</td>\n",
              "      <td>4</td>\n",
              "      <td>80</td>\n",
              "      <td>1</td>\n",
              "      <td>10</td>\n",
              "      <td>3</td>\n",
              "      <td>3</td>\n",
              "      <td>10</td>\n",
              "      <td>7</td>\n",
              "      <td>1</td>\n",
              "      <td>7</td>\n",
              "    </tr>\n",
              "    <tr>\n",
              "      <th>2</th>\n",
              "      <td>37</td>\n",
              "      <td>Yes</td>\n",
              "      <td>Travel_Rarely</td>\n",
              "      <td>1373</td>\n",
              "      <td>Research &amp; Development</td>\n",
              "      <td>2</td>\n",
              "      <td>2</td>\n",
              "      <td>Other</td>\n",
              "      <td>1</td>\n",
              "      <td>4</td>\n",
              "      <td>4</td>\n",
              "      <td>Male</td>\n",
              "      <td>92</td>\n",
              "      <td>2</td>\n",
              "      <td>1</td>\n",
              "      <td>Laboratory Technician</td>\n",
              "      <td>3</td>\n",
              "      <td>Single</td>\n",
              "      <td>2090</td>\n",
              "      <td>2396</td>\n",
              "      <td>6</td>\n",
              "      <td>Y</td>\n",
              "      <td>Yes</td>\n",
              "      <td>15</td>\n",
              "      <td>3</td>\n",
              "      <td>2</td>\n",
              "      <td>80</td>\n",
              "      <td>0</td>\n",
              "      <td>7</td>\n",
              "      <td>3</td>\n",
              "      <td>3</td>\n",
              "      <td>0</td>\n",
              "      <td>0</td>\n",
              "      <td>0</td>\n",
              "      <td>0</td>\n",
              "    </tr>\n",
              "    <tr>\n",
              "      <th>3</th>\n",
              "      <td>33</td>\n",
              "      <td>No</td>\n",
              "      <td>Travel_Frequently</td>\n",
              "      <td>1392</td>\n",
              "      <td>Research &amp; Development</td>\n",
              "      <td>3</td>\n",
              "      <td>4</td>\n",
              "      <td>Life Sciences</td>\n",
              "      <td>1</td>\n",
              "      <td>5</td>\n",
              "      <td>4</td>\n",
              "      <td>Female</td>\n",
              "      <td>56</td>\n",
              "      <td>3</td>\n",
              "      <td>1</td>\n",
              "      <td>Research Scientist</td>\n",
              "      <td>3</td>\n",
              "      <td>Married</td>\n",
              "      <td>2909</td>\n",
              "      <td>23159</td>\n",
              "      <td>1</td>\n",
              "      <td>Y</td>\n",
              "      <td>Yes</td>\n",
              "      <td>11</td>\n",
              "      <td>3</td>\n",
              "      <td>3</td>\n",
              "      <td>80</td>\n",
              "      <td>0</td>\n",
              "      <td>8</td>\n",
              "      <td>3</td>\n",
              "      <td>3</td>\n",
              "      <td>8</td>\n",
              "      <td>7</td>\n",
              "      <td>3</td>\n",
              "      <td>0</td>\n",
              "    </tr>\n",
              "    <tr>\n",
              "      <th>4</th>\n",
              "      <td>27</td>\n",
              "      <td>No</td>\n",
              "      <td>Travel_Rarely</td>\n",
              "      <td>591</td>\n",
              "      <td>Research &amp; Development</td>\n",
              "      <td>2</td>\n",
              "      <td>1</td>\n",
              "      <td>Medical</td>\n",
              "      <td>1</td>\n",
              "      <td>7</td>\n",
              "      <td>1</td>\n",
              "      <td>Male</td>\n",
              "      <td>40</td>\n",
              "      <td>3</td>\n",
              "      <td>1</td>\n",
              "      <td>Laboratory Technician</td>\n",
              "      <td>2</td>\n",
              "      <td>Married</td>\n",
              "      <td>3468</td>\n",
              "      <td>16632</td>\n",
              "      <td>9</td>\n",
              "      <td>Y</td>\n",
              "      <td>No</td>\n",
              "      <td>12</td>\n",
              "      <td>3</td>\n",
              "      <td>4</td>\n",
              "      <td>80</td>\n",
              "      <td>1</td>\n",
              "      <td>6</td>\n",
              "      <td>3</td>\n",
              "      <td>3</td>\n",
              "      <td>2</td>\n",
              "      <td>2</td>\n",
              "      <td>2</td>\n",
              "      <td>2</td>\n",
              "    </tr>\n",
              "    <tr>\n",
              "      <th>...</th>\n",
              "      <td>...</td>\n",
              "      <td>...</td>\n",
              "      <td>...</td>\n",
              "      <td>...</td>\n",
              "      <td>...</td>\n",
              "      <td>...</td>\n",
              "      <td>...</td>\n",
              "      <td>...</td>\n",
              "      <td>...</td>\n",
              "      <td>...</td>\n",
              "      <td>...</td>\n",
              "      <td>...</td>\n",
              "      <td>...</td>\n",
              "      <td>...</td>\n",
              "      <td>...</td>\n",
              "      <td>...</td>\n",
              "      <td>...</td>\n",
              "      <td>...</td>\n",
              "      <td>...</td>\n",
              "      <td>...</td>\n",
              "      <td>...</td>\n",
              "      <td>...</td>\n",
              "      <td>...</td>\n",
              "      <td>...</td>\n",
              "      <td>...</td>\n",
              "      <td>...</td>\n",
              "      <td>...</td>\n",
              "      <td>...</td>\n",
              "      <td>...</td>\n",
              "      <td>...</td>\n",
              "      <td>...</td>\n",
              "      <td>...</td>\n",
              "      <td>...</td>\n",
              "      <td>...</td>\n",
              "      <td>...</td>\n",
              "    </tr>\n",
              "    <tr>\n",
              "      <th>1465</th>\n",
              "      <td>36</td>\n",
              "      <td>No</td>\n",
              "      <td>Travel_Frequently</td>\n",
              "      <td>884</td>\n",
              "      <td>Research &amp; Development</td>\n",
              "      <td>23</td>\n",
              "      <td>2</td>\n",
              "      <td>Medical</td>\n",
              "      <td>1</td>\n",
              "      <td>2061</td>\n",
              "      <td>3</td>\n",
              "      <td>Male</td>\n",
              "      <td>41</td>\n",
              "      <td>4</td>\n",
              "      <td>2</td>\n",
              "      <td>Laboratory Technician</td>\n",
              "      <td>4</td>\n",
              "      <td>Married</td>\n",
              "      <td>2571</td>\n",
              "      <td>12290</td>\n",
              "      <td>4</td>\n",
              "      <td>Y</td>\n",
              "      <td>No</td>\n",
              "      <td>17</td>\n",
              "      <td>3</td>\n",
              "      <td>3</td>\n",
              "      <td>80</td>\n",
              "      <td>1</td>\n",
              "      <td>17</td>\n",
              "      <td>3</td>\n",
              "      <td>3</td>\n",
              "      <td>5</td>\n",
              "      <td>2</td>\n",
              "      <td>0</td>\n",
              "      <td>3</td>\n",
              "    </tr>\n",
              "    <tr>\n",
              "      <th>1466</th>\n",
              "      <td>39</td>\n",
              "      <td>No</td>\n",
              "      <td>Travel_Rarely</td>\n",
              "      <td>613</td>\n",
              "      <td>Research &amp; Development</td>\n",
              "      <td>6</td>\n",
              "      <td>1</td>\n",
              "      <td>Medical</td>\n",
              "      <td>1</td>\n",
              "      <td>2062</td>\n",
              "      <td>4</td>\n",
              "      <td>Male</td>\n",
              "      <td>42</td>\n",
              "      <td>2</td>\n",
              "      <td>3</td>\n",
              "      <td>Healthcare Representative</td>\n",
              "      <td>1</td>\n",
              "      <td>Married</td>\n",
              "      <td>9991</td>\n",
              "      <td>21457</td>\n",
              "      <td>4</td>\n",
              "      <td>Y</td>\n",
              "      <td>No</td>\n",
              "      <td>15</td>\n",
              "      <td>3</td>\n",
              "      <td>1</td>\n",
              "      <td>80</td>\n",
              "      <td>1</td>\n",
              "      <td>9</td>\n",
              "      <td>5</td>\n",
              "      <td>3</td>\n",
              "      <td>7</td>\n",
              "      <td>7</td>\n",
              "      <td>1</td>\n",
              "      <td>7</td>\n",
              "    </tr>\n",
              "    <tr>\n",
              "      <th>1467</th>\n",
              "      <td>27</td>\n",
              "      <td>No</td>\n",
              "      <td>Travel_Rarely</td>\n",
              "      <td>155</td>\n",
              "      <td>Research &amp; Development</td>\n",
              "      <td>4</td>\n",
              "      <td>3</td>\n",
              "      <td>Life Sciences</td>\n",
              "      <td>1</td>\n",
              "      <td>2064</td>\n",
              "      <td>2</td>\n",
              "      <td>Male</td>\n",
              "      <td>87</td>\n",
              "      <td>4</td>\n",
              "      <td>2</td>\n",
              "      <td>Manufacturing Director</td>\n",
              "      <td>2</td>\n",
              "      <td>Married</td>\n",
              "      <td>6142</td>\n",
              "      <td>5174</td>\n",
              "      <td>1</td>\n",
              "      <td>Y</td>\n",
              "      <td>Yes</td>\n",
              "      <td>20</td>\n",
              "      <td>4</td>\n",
              "      <td>2</td>\n",
              "      <td>80</td>\n",
              "      <td>1</td>\n",
              "      <td>6</td>\n",
              "      <td>0</td>\n",
              "      <td>3</td>\n",
              "      <td>6</td>\n",
              "      <td>2</td>\n",
              "      <td>0</td>\n",
              "      <td>3</td>\n",
              "    </tr>\n",
              "    <tr>\n",
              "      <th>1468</th>\n",
              "      <td>49</td>\n",
              "      <td>No</td>\n",
              "      <td>Travel_Frequently</td>\n",
              "      <td>1023</td>\n",
              "      <td>Sales</td>\n",
              "      <td>2</td>\n",
              "      <td>3</td>\n",
              "      <td>Medical</td>\n",
              "      <td>1</td>\n",
              "      <td>2065</td>\n",
              "      <td>4</td>\n",
              "      <td>Male</td>\n",
              "      <td>63</td>\n",
              "      <td>2</td>\n",
              "      <td>2</td>\n",
              "      <td>Sales Executive</td>\n",
              "      <td>2</td>\n",
              "      <td>Married</td>\n",
              "      <td>5390</td>\n",
              "      <td>13243</td>\n",
              "      <td>2</td>\n",
              "      <td>Y</td>\n",
              "      <td>No</td>\n",
              "      <td>14</td>\n",
              "      <td>3</td>\n",
              "      <td>4</td>\n",
              "      <td>80</td>\n",
              "      <td>0</td>\n",
              "      <td>17</td>\n",
              "      <td>3</td>\n",
              "      <td>2</td>\n",
              "      <td>9</td>\n",
              "      <td>6</td>\n",
              "      <td>0</td>\n",
              "      <td>8</td>\n",
              "    </tr>\n",
              "    <tr>\n",
              "      <th>1469</th>\n",
              "      <td>34</td>\n",
              "      <td>No</td>\n",
              "      <td>Travel_Rarely</td>\n",
              "      <td>628</td>\n",
              "      <td>Research &amp; Development</td>\n",
              "      <td>8</td>\n",
              "      <td>3</td>\n",
              "      <td>Medical</td>\n",
              "      <td>1</td>\n",
              "      <td>2068</td>\n",
              "      <td>2</td>\n",
              "      <td>Male</td>\n",
              "      <td>82</td>\n",
              "      <td>4</td>\n",
              "      <td>2</td>\n",
              "      <td>Laboratory Technician</td>\n",
              "      <td>3</td>\n",
              "      <td>Married</td>\n",
              "      <td>4404</td>\n",
              "      <td>10228</td>\n",
              "      <td>2</td>\n",
              "      <td>Y</td>\n",
              "      <td>No</td>\n",
              "      <td>12</td>\n",
              "      <td>3</td>\n",
              "      <td>1</td>\n",
              "      <td>80</td>\n",
              "      <td>0</td>\n",
              "      <td>6</td>\n",
              "      <td>3</td>\n",
              "      <td>4</td>\n",
              "      <td>4</td>\n",
              "      <td>3</td>\n",
              "      <td>1</td>\n",
              "      <td>2</td>\n",
              "    </tr>\n",
              "  </tbody>\n",
              "</table>\n",
              "<p>1470 rows × 35 columns</p>\n",
              "</div>"
            ],
            "text/plain": [
              "      Age Attrition  ... YearsSinceLastPromotion  YearsWithCurrManager\n",
              "0      41       Yes  ...                       0                     5\n",
              "1      49        No  ...                       1                     7\n",
              "2      37       Yes  ...                       0                     0\n",
              "3      33        No  ...                       3                     0\n",
              "4      27        No  ...                       2                     2\n",
              "...   ...       ...  ...                     ...                   ...\n",
              "1465   36        No  ...                       0                     3\n",
              "1466   39        No  ...                       1                     7\n",
              "1467   27        No  ...                       0                     3\n",
              "1468   49        No  ...                       0                     8\n",
              "1469   34        No  ...                       1                     2\n",
              "\n",
              "[1470 rows x 35 columns]"
            ]
          },
          "metadata": {
            "tags": []
          },
          "execution_count": 9
        }
      ]
    },
    {
      "cell_type": "markdown",
      "metadata": {
        "id": "NHK9uO4xe8ff",
        "colab_type": "text"
      },
      "source": [
        "É realmente surpreendente a quantidade de dados que podem ser extraídos de um sistema de RH para desenvolver soluções nesse campo. O dataset possui 35 variáveis sobre cada funcionário registrado que não foram muito bem descritas no Kaggle, então irei descrever brevemente o meu entendimento de cada uma delas abaixo.\n",
        "\n",
        "\n",
        "1. `Age` - Idade\n",
        "2. `Attrition` - Variável categórica para descrever se o funcionário já teve algum desentendimento (atrito)\n",
        "3. `BusinessTravel` - A frequência com que o colaborador viaja\n",
        "4. `DailyRate` - Dados inconclusivos\n",
        "5. `Department` - Departamento\n",
        "6. `DistanceFromHome` - Distância de casa ao trabalho\n",
        "7. `Education` - Nível de educação\n",
        "8. `EducationField` - Área de formação\n",
        "9. `EmployeeCount` - Dados inconclusivos\n",
        "10. `EmployeeNumber` - Identificação única do funcionário\n",
        "11. `EnvironmentSatisfaction` - Nível de satisfação com o ambiente de trabalho (coletado em pesquisa de clima)\n",
        "12. `Gender` - Gênero\n",
        "13. `HourlyRate` - Dados inconclusivos\n",
        "14. `JobInvolvement` - Nível de envolvimento com o trabalho (coletado em pesquisa de clima) \n",
        "15. `JobLevel` - Dados inconclusivos\n",
        "16. `JobRole` - Função na empresa\n",
        "17. `JobSatisfaction` - Nível de satisfação com o trabalho (coletado em pesquisa de clima) \n",
        "18. `MaritalStatus` - Estado Civil\n",
        "19. `MonthlyIncome` - Salário mensal\n",
        "20. `MonthlyRate` - Dados inconclusivos\n",
        "21. `NumCompaniesWorked` - Número de empresas em que o funcionário já trabalhou\n",
        "22. `Over18` - Variável para sinalizar se o funcionário possui mais de 18 anos\n",
        "23. `OverTime` - Variável para sinalizar se o colaborador realiza horas extras com frequência\n",
        "24. `PercentSalaryHike` - Percentual de aumento de salário do funcionário do ano anterior para o atual\n",
        "25. `PerformanceRating` - Score de performance do colaborador\n",
        "26. `RelationshipSatisfaction` - Nível de satisfação com as relações com outros membros da empresa (coletado em pesquisa de clima)\n",
        "27. `StandardHours` - Dados inconclusivos\n",
        "28. `StockOptionLevel` - Dados inconclusivos\n",
        "29. `TotalWorkingYears` - Total de anos de carreira profissional\n",
        "30. `TrainingTimesLastYear` - Total de treinamentos realizados no ano anterior\n",
        "31. `WorkLifeBalance` - Nível de equilíbrio entre vida pessoal e profissional (coletado em pesquisa de clima) \n",
        "32. `YearsAtCompany` - Total de anos de carreira na empresa\n",
        "33. `YearsInCurrentRole` - Total de anos na posição atual\n",
        "34. `YearsSinceLastPromotion` - Total de anos desde a última promoção\n",
        "35. `YearsWithCurrManager` - Total de anos com o mesmo líder \n",
        "\n",
        "\n",
        "Métrica de algumas variáveis:\n",
        "\n",
        "Educação:\n",
        "1. 'Sem ensino superior'\n",
        "2. 'Superior incompleto'\n",
        "3. 'Superior completo'\n",
        "4. 'Mestre'\n",
        "5. 'Doutor'\n",
        "\n",
        "Variáveis de satisfação\n",
        "1. 'Baixa'\n",
        "2. 'Média'\n",
        "3. 'Alta'\n",
        "4. 'Muito alta'\n",
        "\n",
        "PerformanceRating (Score de performance)\n",
        "1. 'Baixo'\n",
        "2. 'Médio'\n",
        "3. 'Ótimo'\n",
        "4. 'Excepcional'\n"
      ]
    },
    {
      "cell_type": "markdown",
      "metadata": {
        "id": "uRK46lL8IVPJ",
        "colab_type": "text"
      },
      "source": [
        "Agora vamos checar um resumo da estrutura do dataset."
      ]
    },
    {
      "cell_type": "code",
      "metadata": {
        "id": "_z4V_L_VGQ9p",
        "colab_type": "code",
        "colab": {
          "base_uri": "https://localhost:8080/",
          "height": 731
        },
        "outputId": "8ebe9daf-3c15-48e1-92f0-929580f14ac6"
      },
      "source": [
        "# Show a summary of dataset structure\n",
        "df.info()"
      ],
      "execution_count": 10,
      "outputs": [
        {
          "output_type": "stream",
          "text": [
            "<class 'pandas.core.frame.DataFrame'>\n",
            "RangeIndex: 1470 entries, 0 to 1469\n",
            "Data columns (total 35 columns):\n",
            " #   Column                    Non-Null Count  Dtype \n",
            "---  ------                    --------------  ----- \n",
            " 0   Age                       1470 non-null   int64 \n",
            " 1   Attrition                 1470 non-null   object\n",
            " 2   BusinessTravel            1470 non-null   object\n",
            " 3   DailyRate                 1470 non-null   int64 \n",
            " 4   Department                1470 non-null   object\n",
            " 5   DistanceFromHome          1470 non-null   int64 \n",
            " 6   Education                 1470 non-null   int64 \n",
            " 7   EducationField            1470 non-null   object\n",
            " 8   EmployeeCount             1470 non-null   int64 \n",
            " 9   EmployeeNumber            1470 non-null   int64 \n",
            " 10  EnvironmentSatisfaction   1470 non-null   int64 \n",
            " 11  Gender                    1470 non-null   object\n",
            " 12  HourlyRate                1470 non-null   int64 \n",
            " 13  JobInvolvement            1470 non-null   int64 \n",
            " 14  JobLevel                  1470 non-null   int64 \n",
            " 15  JobRole                   1470 non-null   object\n",
            " 16  JobSatisfaction           1470 non-null   int64 \n",
            " 17  MaritalStatus             1470 non-null   object\n",
            " 18  MonthlyIncome             1470 non-null   int64 \n",
            " 19  MonthlyRate               1470 non-null   int64 \n",
            " 20  NumCompaniesWorked        1470 non-null   int64 \n",
            " 21  Over18                    1470 non-null   object\n",
            " 22  OverTime                  1470 non-null   object\n",
            " 23  PercentSalaryHike         1470 non-null   int64 \n",
            " 24  PerformanceRating         1470 non-null   int64 \n",
            " 25  RelationshipSatisfaction  1470 non-null   int64 \n",
            " 26  StandardHours             1470 non-null   int64 \n",
            " 27  StockOptionLevel          1470 non-null   int64 \n",
            " 28  TotalWorkingYears         1470 non-null   int64 \n",
            " 29  TrainingTimesLastYear     1470 non-null   int64 \n",
            " 30  WorkLifeBalance           1470 non-null   int64 \n",
            " 31  YearsAtCompany            1470 non-null   int64 \n",
            " 32  YearsInCurrentRole        1470 non-null   int64 \n",
            " 33  YearsSinceLastPromotion   1470 non-null   int64 \n",
            " 34  YearsWithCurrManager      1470 non-null   int64 \n",
            "dtypes: int64(26), object(9)\n",
            "memory usage: 402.1+ KB\n"
          ],
          "name": "stdout"
        }
      ]
    },
    {
      "cell_type": "markdown",
      "metadata": {
        "id": "ENFRwZvjYw_z",
        "colab_type": "text"
      },
      "source": [
        "Existe um total de 1470 entradas no dataset, e nenhum valor ausente. Quase todas as variáveis possuem um tipo de dados adequado para a análise, exceto o número de identificação do colaborador, que pode ser convertido para o tipo object uma vez que não possui relação de magnitude.\n"
      ]
    },
    {
      "cell_type": "code",
      "metadata": {
        "id": "wRCRjNESA-IY",
        "colab_type": "code",
        "colab": {
          "base_uri": "https://localhost:8080/",
          "height": 731
        },
        "outputId": "3ceef38a-bd50-49c6-e11c-3aa7d6752157"
      },
      "source": [
        "df = df.astype({'EmployeeNumber':'object'})\n",
        "df.info()"
      ],
      "execution_count": 11,
      "outputs": [
        {
          "output_type": "stream",
          "text": [
            "<class 'pandas.core.frame.DataFrame'>\n",
            "RangeIndex: 1470 entries, 0 to 1469\n",
            "Data columns (total 35 columns):\n",
            " #   Column                    Non-Null Count  Dtype \n",
            "---  ------                    --------------  ----- \n",
            " 0   Age                       1470 non-null   int64 \n",
            " 1   Attrition                 1470 non-null   object\n",
            " 2   BusinessTravel            1470 non-null   object\n",
            " 3   DailyRate                 1470 non-null   int64 \n",
            " 4   Department                1470 non-null   object\n",
            " 5   DistanceFromHome          1470 non-null   int64 \n",
            " 6   Education                 1470 non-null   int64 \n",
            " 7   EducationField            1470 non-null   object\n",
            " 8   EmployeeCount             1470 non-null   int64 \n",
            " 9   EmployeeNumber            1470 non-null   object\n",
            " 10  EnvironmentSatisfaction   1470 non-null   int64 \n",
            " 11  Gender                    1470 non-null   object\n",
            " 12  HourlyRate                1470 non-null   int64 \n",
            " 13  JobInvolvement            1470 non-null   int64 \n",
            " 14  JobLevel                  1470 non-null   int64 \n",
            " 15  JobRole                   1470 non-null   object\n",
            " 16  JobSatisfaction           1470 non-null   int64 \n",
            " 17  MaritalStatus             1470 non-null   object\n",
            " 18  MonthlyIncome             1470 non-null   int64 \n",
            " 19  MonthlyRate               1470 non-null   int64 \n",
            " 20  NumCompaniesWorked        1470 non-null   int64 \n",
            " 21  Over18                    1470 non-null   object\n",
            " 22  OverTime                  1470 non-null   object\n",
            " 23  PercentSalaryHike         1470 non-null   int64 \n",
            " 24  PerformanceRating         1470 non-null   int64 \n",
            " 25  RelationshipSatisfaction  1470 non-null   int64 \n",
            " 26  StandardHours             1470 non-null   int64 \n",
            " 27  StockOptionLevel          1470 non-null   int64 \n",
            " 28  TotalWorkingYears         1470 non-null   int64 \n",
            " 29  TrainingTimesLastYear     1470 non-null   int64 \n",
            " 30  WorkLifeBalance           1470 non-null   int64 \n",
            " 31  YearsAtCompany            1470 non-null   int64 \n",
            " 32  YearsInCurrentRole        1470 non-null   int64 \n",
            " 33  YearsSinceLastPromotion   1470 non-null   int64 \n",
            " 34  YearsWithCurrManager      1470 non-null   int64 \n",
            "dtypes: int64(25), object(10)\n",
            "memory usage: 402.1+ KB\n"
          ],
          "name": "stdout"
        }
      ]
    },
    {
      "cell_type": "markdown",
      "metadata": {
        "id": "1TV5ScJOZUVi",
        "colab_type": "text"
      },
      "source": [
        "Para as próximas etapas da análise vai ser útil possuir os nomes das colunas portanto irei exibí-los abaixo.\n"
      ]
    },
    {
      "cell_type": "code",
      "metadata": {
        "id": "6QyW8LJe-S6q",
        "colab_type": "code",
        "colab": {
          "base_uri": "https://localhost:8080/",
          "height": 204
        },
        "outputId": "2675f087-450d-47e6-f9b6-e3956ac70b28"
      },
      "source": [
        "df.columns"
      ],
      "execution_count": 12,
      "outputs": [
        {
          "output_type": "execute_result",
          "data": {
            "text/plain": [
              "Index(['Age', 'Attrition', 'BusinessTravel', 'DailyRate', 'Department',\n",
              "       'DistanceFromHome', 'Education', 'EducationField', 'EmployeeCount',\n",
              "       'EmployeeNumber', 'EnvironmentSatisfaction', 'Gender', 'HourlyRate',\n",
              "       'JobInvolvement', 'JobLevel', 'JobRole', 'JobSatisfaction',\n",
              "       'MaritalStatus', 'MonthlyIncome', 'MonthlyRate', 'NumCompaniesWorked',\n",
              "       'Over18', 'OverTime', 'PercentSalaryHike', 'PerformanceRating',\n",
              "       'RelationshipSatisfaction', 'StandardHours', 'StockOptionLevel',\n",
              "       'TotalWorkingYears', 'TrainingTimesLastYear', 'WorkLifeBalance',\n",
              "       'YearsAtCompany', 'YearsInCurrentRole', 'YearsSinceLastPromotion',\n",
              "       'YearsWithCurrManager'],\n",
              "      dtype='object')"
            ]
          },
          "metadata": {
            "tags": []
          },
          "execution_count": 12
        }
      ]
    },
    {
      "cell_type": "markdown",
      "metadata": {
        "id": "vNLm352QBaco",
        "colab_type": "text"
      },
      "source": [
        "Agora o dataset está limpo e pronto para ser analisado."
      ]
    },
    {
      "cell_type": "markdown",
      "metadata": {
        "id": "1gW-4kog1Oq_",
        "colab_type": "text"
      },
      "source": [
        "## Análise Prática\n",
        "\n",
        "A análise prática é o primeiro passo em qualquer estudo e é importante para entender se os dados disponíveis fazem sentido de uma perspectiva prática. Muitos problemas podem ser resolvidos usando métodos e visualizações simples na análise prática, e os resultados obtidos nela são fundamentais para alimentar as etapas posteriores.\n",
        "\n",
        "Antes de seguir em frente é importante discutir a seguinte questão. O dataset possui bastante informação sobre cada funcionário, mas não possui dados temporais, o que traz algumas limitações. Não é possível entender como as variáveis mudaram ao longo do tempo, por exemplo como o salário de um funcionário mudou ao longo dos anos, ou qual foi o feedback dele na pesquisa de clima do ano anterior.\n",
        "\n",
        "Em termos práticos é possível visualizar uma \"foto\" da situação atual dos colaboradores, mas não é possível ver o \"filme\" que conta a história dele dentro da empresa, o que seria muito útil na tomada de decisões relacionadas a eles.\n",
        "\n",
        "O principal objetivo será analisar as variáveis de atrito e satisfação profissional e identificar padrões de funcionários que estão satisfeitos/insatisfeitos com a empresa. Baseada nesses padrões a empresa pode desenvolver teorias de causalidade e estratégias para melhorar os índices de satisfação.\n",
        "\n",
        "Vamos começar vendo a distribuição das variáveis numéricas. É possível alterar as combinações de variáveis nos menus seletores abaixo para visualizar diferentes gráficos.\n"
      ]
    },
    {
      "cell_type": "code",
      "metadata": {
        "id": "_yokzQ-ec0kE",
        "colab_type": "code",
        "colab": {
          "base_uri": "https://localhost:8080/",
          "height": 317
        },
        "outputId": "d99f9bf9-3ffc-4efa-dc8c-af2ba6f859b9"
      },
      "source": [
        "df.describe()"
      ],
      "execution_count": 13,
      "outputs": [
        {
          "output_type": "execute_result",
          "data": {
            "text/html": [
              "<div>\n",
              "<style scoped>\n",
              "    .dataframe tbody tr th:only-of-type {\n",
              "        vertical-align: middle;\n",
              "    }\n",
              "\n",
              "    .dataframe tbody tr th {\n",
              "        vertical-align: top;\n",
              "    }\n",
              "\n",
              "    .dataframe thead th {\n",
              "        text-align: right;\n",
              "    }\n",
              "</style>\n",
              "<table border=\"1\" class=\"dataframe\">\n",
              "  <thead>\n",
              "    <tr style=\"text-align: right;\">\n",
              "      <th></th>\n",
              "      <th>Age</th>\n",
              "      <th>DailyRate</th>\n",
              "      <th>DistanceFromHome</th>\n",
              "      <th>Education</th>\n",
              "      <th>EmployeeCount</th>\n",
              "      <th>EnvironmentSatisfaction</th>\n",
              "      <th>HourlyRate</th>\n",
              "      <th>JobInvolvement</th>\n",
              "      <th>JobLevel</th>\n",
              "      <th>JobSatisfaction</th>\n",
              "      <th>MonthlyIncome</th>\n",
              "      <th>MonthlyRate</th>\n",
              "      <th>NumCompaniesWorked</th>\n",
              "      <th>PercentSalaryHike</th>\n",
              "      <th>PerformanceRating</th>\n",
              "      <th>RelationshipSatisfaction</th>\n",
              "      <th>StandardHours</th>\n",
              "      <th>StockOptionLevel</th>\n",
              "      <th>TotalWorkingYears</th>\n",
              "      <th>TrainingTimesLastYear</th>\n",
              "      <th>WorkLifeBalance</th>\n",
              "      <th>YearsAtCompany</th>\n",
              "      <th>YearsInCurrentRole</th>\n",
              "      <th>YearsSinceLastPromotion</th>\n",
              "      <th>YearsWithCurrManager</th>\n",
              "    </tr>\n",
              "  </thead>\n",
              "  <tbody>\n",
              "    <tr>\n",
              "      <th>count</th>\n",
              "      <td>1470.000000</td>\n",
              "      <td>1470.000000</td>\n",
              "      <td>1470.000000</td>\n",
              "      <td>1470.000000</td>\n",
              "      <td>1470.0</td>\n",
              "      <td>1470.000000</td>\n",
              "      <td>1470.000000</td>\n",
              "      <td>1470.000000</td>\n",
              "      <td>1470.000000</td>\n",
              "      <td>1470.000000</td>\n",
              "      <td>1470.000000</td>\n",
              "      <td>1470.000000</td>\n",
              "      <td>1470.000000</td>\n",
              "      <td>1470.000000</td>\n",
              "      <td>1470.000000</td>\n",
              "      <td>1470.000000</td>\n",
              "      <td>1470.0</td>\n",
              "      <td>1470.000000</td>\n",
              "      <td>1470.000000</td>\n",
              "      <td>1470.000000</td>\n",
              "      <td>1470.000000</td>\n",
              "      <td>1470.000000</td>\n",
              "      <td>1470.000000</td>\n",
              "      <td>1470.000000</td>\n",
              "      <td>1470.000000</td>\n",
              "    </tr>\n",
              "    <tr>\n",
              "      <th>mean</th>\n",
              "      <td>36.923810</td>\n",
              "      <td>802.485714</td>\n",
              "      <td>9.192517</td>\n",
              "      <td>2.912925</td>\n",
              "      <td>1.0</td>\n",
              "      <td>2.721769</td>\n",
              "      <td>65.891156</td>\n",
              "      <td>2.729932</td>\n",
              "      <td>2.063946</td>\n",
              "      <td>2.728571</td>\n",
              "      <td>6502.931293</td>\n",
              "      <td>14313.103401</td>\n",
              "      <td>2.693197</td>\n",
              "      <td>15.209524</td>\n",
              "      <td>3.153741</td>\n",
              "      <td>2.712245</td>\n",
              "      <td>80.0</td>\n",
              "      <td>0.793878</td>\n",
              "      <td>11.279592</td>\n",
              "      <td>2.799320</td>\n",
              "      <td>2.761224</td>\n",
              "      <td>7.008163</td>\n",
              "      <td>4.229252</td>\n",
              "      <td>2.187755</td>\n",
              "      <td>4.123129</td>\n",
              "    </tr>\n",
              "    <tr>\n",
              "      <th>std</th>\n",
              "      <td>9.135373</td>\n",
              "      <td>403.509100</td>\n",
              "      <td>8.106864</td>\n",
              "      <td>1.024165</td>\n",
              "      <td>0.0</td>\n",
              "      <td>1.093082</td>\n",
              "      <td>20.329428</td>\n",
              "      <td>0.711561</td>\n",
              "      <td>1.106940</td>\n",
              "      <td>1.102846</td>\n",
              "      <td>4707.956783</td>\n",
              "      <td>7117.786044</td>\n",
              "      <td>2.498009</td>\n",
              "      <td>3.659938</td>\n",
              "      <td>0.360824</td>\n",
              "      <td>1.081209</td>\n",
              "      <td>0.0</td>\n",
              "      <td>0.852077</td>\n",
              "      <td>7.780782</td>\n",
              "      <td>1.289271</td>\n",
              "      <td>0.706476</td>\n",
              "      <td>6.126525</td>\n",
              "      <td>3.623137</td>\n",
              "      <td>3.222430</td>\n",
              "      <td>3.568136</td>\n",
              "    </tr>\n",
              "    <tr>\n",
              "      <th>min</th>\n",
              "      <td>18.000000</td>\n",
              "      <td>102.000000</td>\n",
              "      <td>1.000000</td>\n",
              "      <td>1.000000</td>\n",
              "      <td>1.0</td>\n",
              "      <td>1.000000</td>\n",
              "      <td>30.000000</td>\n",
              "      <td>1.000000</td>\n",
              "      <td>1.000000</td>\n",
              "      <td>1.000000</td>\n",
              "      <td>1009.000000</td>\n",
              "      <td>2094.000000</td>\n",
              "      <td>0.000000</td>\n",
              "      <td>11.000000</td>\n",
              "      <td>3.000000</td>\n",
              "      <td>1.000000</td>\n",
              "      <td>80.0</td>\n",
              "      <td>0.000000</td>\n",
              "      <td>0.000000</td>\n",
              "      <td>0.000000</td>\n",
              "      <td>1.000000</td>\n",
              "      <td>0.000000</td>\n",
              "      <td>0.000000</td>\n",
              "      <td>0.000000</td>\n",
              "      <td>0.000000</td>\n",
              "    </tr>\n",
              "    <tr>\n",
              "      <th>25%</th>\n",
              "      <td>30.000000</td>\n",
              "      <td>465.000000</td>\n",
              "      <td>2.000000</td>\n",
              "      <td>2.000000</td>\n",
              "      <td>1.0</td>\n",
              "      <td>2.000000</td>\n",
              "      <td>48.000000</td>\n",
              "      <td>2.000000</td>\n",
              "      <td>1.000000</td>\n",
              "      <td>2.000000</td>\n",
              "      <td>2911.000000</td>\n",
              "      <td>8047.000000</td>\n",
              "      <td>1.000000</td>\n",
              "      <td>12.000000</td>\n",
              "      <td>3.000000</td>\n",
              "      <td>2.000000</td>\n",
              "      <td>80.0</td>\n",
              "      <td>0.000000</td>\n",
              "      <td>6.000000</td>\n",
              "      <td>2.000000</td>\n",
              "      <td>2.000000</td>\n",
              "      <td>3.000000</td>\n",
              "      <td>2.000000</td>\n",
              "      <td>0.000000</td>\n",
              "      <td>2.000000</td>\n",
              "    </tr>\n",
              "    <tr>\n",
              "      <th>50%</th>\n",
              "      <td>36.000000</td>\n",
              "      <td>802.000000</td>\n",
              "      <td>7.000000</td>\n",
              "      <td>3.000000</td>\n",
              "      <td>1.0</td>\n",
              "      <td>3.000000</td>\n",
              "      <td>66.000000</td>\n",
              "      <td>3.000000</td>\n",
              "      <td>2.000000</td>\n",
              "      <td>3.000000</td>\n",
              "      <td>4919.000000</td>\n",
              "      <td>14235.500000</td>\n",
              "      <td>2.000000</td>\n",
              "      <td>14.000000</td>\n",
              "      <td>3.000000</td>\n",
              "      <td>3.000000</td>\n",
              "      <td>80.0</td>\n",
              "      <td>1.000000</td>\n",
              "      <td>10.000000</td>\n",
              "      <td>3.000000</td>\n",
              "      <td>3.000000</td>\n",
              "      <td>5.000000</td>\n",
              "      <td>3.000000</td>\n",
              "      <td>1.000000</td>\n",
              "      <td>3.000000</td>\n",
              "    </tr>\n",
              "    <tr>\n",
              "      <th>75%</th>\n",
              "      <td>43.000000</td>\n",
              "      <td>1157.000000</td>\n",
              "      <td>14.000000</td>\n",
              "      <td>4.000000</td>\n",
              "      <td>1.0</td>\n",
              "      <td>4.000000</td>\n",
              "      <td>83.750000</td>\n",
              "      <td>3.000000</td>\n",
              "      <td>3.000000</td>\n",
              "      <td>4.000000</td>\n",
              "      <td>8379.000000</td>\n",
              "      <td>20461.500000</td>\n",
              "      <td>4.000000</td>\n",
              "      <td>18.000000</td>\n",
              "      <td>3.000000</td>\n",
              "      <td>4.000000</td>\n",
              "      <td>80.0</td>\n",
              "      <td>1.000000</td>\n",
              "      <td>15.000000</td>\n",
              "      <td>3.000000</td>\n",
              "      <td>3.000000</td>\n",
              "      <td>9.000000</td>\n",
              "      <td>7.000000</td>\n",
              "      <td>3.000000</td>\n",
              "      <td>7.000000</td>\n",
              "    </tr>\n",
              "    <tr>\n",
              "      <th>max</th>\n",
              "      <td>60.000000</td>\n",
              "      <td>1499.000000</td>\n",
              "      <td>29.000000</td>\n",
              "      <td>5.000000</td>\n",
              "      <td>1.0</td>\n",
              "      <td>4.000000</td>\n",
              "      <td>100.000000</td>\n",
              "      <td>4.000000</td>\n",
              "      <td>5.000000</td>\n",
              "      <td>4.000000</td>\n",
              "      <td>19999.000000</td>\n",
              "      <td>26999.000000</td>\n",
              "      <td>9.000000</td>\n",
              "      <td>25.000000</td>\n",
              "      <td>4.000000</td>\n",
              "      <td>4.000000</td>\n",
              "      <td>80.0</td>\n",
              "      <td>3.000000</td>\n",
              "      <td>40.000000</td>\n",
              "      <td>6.000000</td>\n",
              "      <td>4.000000</td>\n",
              "      <td>40.000000</td>\n",
              "      <td>18.000000</td>\n",
              "      <td>15.000000</td>\n",
              "      <td>17.000000</td>\n",
              "    </tr>\n",
              "  </tbody>\n",
              "</table>\n",
              "</div>"
            ],
            "text/plain": [
              "               Age    DailyRate  ...  YearsSinceLastPromotion  YearsWithCurrManager\n",
              "count  1470.000000  1470.000000  ...              1470.000000           1470.000000\n",
              "mean     36.923810   802.485714  ...                 2.187755              4.123129\n",
              "std       9.135373   403.509100  ...                 3.222430              3.568136\n",
              "min      18.000000   102.000000  ...                 0.000000              0.000000\n",
              "25%      30.000000   465.000000  ...                 0.000000              2.000000\n",
              "50%      36.000000   802.000000  ...                 1.000000              3.000000\n",
              "75%      43.000000  1157.000000  ...                 3.000000              7.000000\n",
              "max      60.000000  1499.000000  ...                15.000000             17.000000\n",
              "\n",
              "[8 rows x 25 columns]"
            ]
          },
          "metadata": {
            "tags": []
          },
          "execution_count": 13
        }
      ]
    },
    {
      "cell_type": "code",
      "metadata": {
        "id": "UXsd-U8v-ODo",
        "colab_type": "code",
        "colab": {
          "base_uri": "https://localhost:8080/",
          "height": 467
        },
        "outputId": "da867d70-647d-44fe-9c30-6ce7a6e8a405"
      },
      "source": [
        "#@title Distribuição dos dados\n",
        "\n",
        "feature = 'MonthlyIncome' #@param ['Age', 'DailyRate', 'DistanceFromHome', 'Education', 'EmployeeCount', 'EnvironmentSatisfaction', 'HourlyRate','JobInvolvement', 'JobLevel', 'JobSatisfaction','MonthlyIncome', 'MonthlyRate', 'NumCompaniesWorked', 'PercentSalaryHike', 'PerformanceRating','RelationshipSatisfaction', 'StandardHours', 'StockOptionLevel','TotalWorkingYears', 'TrainingTimesLastYear', 'WorkLifeBalance','YearsAtCompany', 'YearsInCurrentRole', 'YearsSinceLastPromotion','YearsWithCurrManager']\n",
        "split_by= 'Attrition' #@param ['Attrition', 'EnvironmentSatisfaction', 'JobInvolvement', 'JobSatisfaction','PerformanceRating','RelationshipSatisfaction']\n",
        "\n",
        "fig = px.histogram(df, \n",
        "       x=feature,\n",
        "       marginal = 'box',\n",
        "       hover_data = ['EmployeeNumber', 'Age', 'Gender'],\n",
        "       color = split_by\n",
        "      )\n",
        "\n",
        "fig.show('png')"
      ],
      "execution_count": 113,
      "outputs": [
        {
          "output_type": "display_data",
          "data": {
            "image/png": "[encoded data removed]"
          },
          "metadata": {
            "tags": []
          }
        }
      ]
    },
    {
      "cell_type": "markdown",
      "metadata": {
        "id": "fzEfYlQqcefj",
        "colab_type": "text"
      },
      "source": [
        "A primeira informação importante é que não foi identificado nenhum outlier que devesse ser removido. Naturalmente existem outliers nos dados mas eles aparentam fazer parte da distribuição e nenhum valor ilógico foi encontrado.\n",
        "\n",
        "Diversas teorias e conclusões podem ser registradas com esses dados:\n",
        "\n",
        "\n",
        "1. `Age` - Idade\n",
        "\n",
        "  Existe uma pequena diferença entre a distribuição dos funcionários que tiveram atritos dos que não os tiveram em termos de idade. Uma possível teoria é de que pessoas mais jovens possuem uma tendência maior a terem desentendimentos. As causas podem ser falta de experiência na atividade, salários baixos, dificuldade de se adaptar ao ambiente de uma empresa, maior disposição a aceitar riscos, entre outras. Porém a idade não parece ser um fator influente nos resultados de satisfação com o trabalho, uma vez que as distribuições são similares.\n",
        "\n",
        "2. `Education` - Educação\n",
        "\n",
        "  O nível de educação dos colaboradores não apresentou efeito significativo nas variáveis de interesse.\n",
        "\n",
        "3. `MonthlyIncome` - Salário Mensal\n",
        "\n",
        "  Os resultados de salário mensal e atrito possuem alguma relação aparente. Mas a questão principal é, se existe causalidade, quem é a causa e quem é a consequência? Pessoas com baixos salários acabam tendo mais desentendimentos ou pessoas que acabam tendo desentendimentos encontram dificuldades em chegar a posições mais bem pagas? Esse é o tipo de informação que poderia ser obtida caso houvesse um registro temporal dos dados. Falando de satisfação no trabalho, o salário não teve efeitos significativos (um resultado que é bastante relevante, se pensarmos com calma).\n",
        "\n",
        "4. `NumCompaniesWorked` - Número de empresas trabalhadas\n",
        "\n",
        "  Apesar de as medianas estarem levemente deslocadas para os resultados de atritos e satisfação, não existe diferença prática entre as distribuições que pudesse alimentar alguma teoria.\n",
        "\n",
        "5. `TotalWorkingYears` - Total de anos de carreira\n",
        "\n",
        "  Nos gráficos é possível identificar que a maior parte dos funcionários que possuíram atritos estão no primeiro ano de suas carreiras. Isso significa que na realidade a variável `Attrition` não está relacionada a se o funcionário já teve qualquer desentendimento no passado. Ela é uma métrica de curto prazo, que avalia por exemplo se o funcionário teve atrito no último ano, caso contrário o resultado do gráfico seria muito improvável.\n",
        "  \n",
        "  Além disso é possível notar um pico na quantidade de funcionários com 10 anos de carreira, que parece ser não-natural. Uma das teorias para que aquilo ocorresse é se na verdade os dados disponíveis foram coletados apenas com alguns funcionários da empresa, e o time de RH quisesse fazer uma análise mais específica dos funcionários com 10 anos de carreira. Outra possibilidade é que houve algum problema na hora de coletar ou inserir os dados no sistema, e o que deveria ser 1 ano de carreira (ou seja, os funcionários que começaram recentemente) acabou aparecendo como 10.\n",
        "  Assim como visto na distribuição por idade, funcionários que começaram a carreira há pouco tempo apresentaram mais conflitos no local de trabalho, mas isso não impactou os resultados de satisfação com o trabalho.\n",
        "  \n",
        "\n",
        "6. `WorkLifeBalance` - Equilíbrio entre vida pessoal e profissional\n",
        "\n",
        "  Os resultados da pesquisa de equilíbrio entre vida pessoal e profissional não tiveram muito impacto nas outras variáveis de interesse, o que é um pouco estranho. Não é esperado que um funcionário que sinaliza que está trabalhando demais diga que está tão satisfeito quanto um que acha que trabalha menos. \n",
        "\n",
        "7. `YearsAtCompany`, `YearsInCurrentRole`, `YearsSinceLastPromotion`,  `YearsWithCurrManager`\n",
        "\n",
        "  Essas quatro variáveis mostram distribuições similares entre si. Aparentemente quanto mais tempo um colaborador permanece na empresa, na mesma posição e com o mesmo líder, menores as chances de ele possuir um desentendimento. Todas essas variáveis podem ser traduzidas com uma estabilidade no trabalho, o que é visto como bom de uma perspectiva de redução de conflitos. \n",
        "  O que é surpreendente é a quantidade de pessoas promovidas recentemente pela empresa. Mais de 50% de todos os funcionários do dataset foram promovidos no ano da coleta dos dados ou no ano anterior, o que não é comum em empresas deste porte. É possível identificar que colaboradores recentemente promovidos acabam tendo mais desentendimentos, provavelmente devido a mudanças de cargo, time ou líder.\n",
        "  \n",
        "  Nenhuma dessas variáveis tiveram um impacto significativo nos resultados de satisfação com o trabalho.\n"
      ]
    },
    {
      "cell_type": "code",
      "metadata": {
        "id": "MrB_V9J7_UXN",
        "colab_type": "code",
        "colab": {
          "base_uri": "https://localhost:8080/",
          "height": 210
        },
        "outputId": "88421b74-d398-4f2d-dd30-0d9e40872eb4"
      },
      "source": [
        "df.describe(include='O')"
      ],
      "execution_count": 114,
      "outputs": [
        {
          "output_type": "execute_result",
          "data": {
            "text/html": [
              "<div>\n",
              "<style scoped>\n",
              "    .dataframe tbody tr th:only-of-type {\n",
              "        vertical-align: middle;\n",
              "    }\n",
              "\n",
              "    .dataframe tbody tr th {\n",
              "        vertical-align: top;\n",
              "    }\n",
              "\n",
              "    .dataframe thead th {\n",
              "        text-align: right;\n",
              "    }\n",
              "</style>\n",
              "<table border=\"1\" class=\"dataframe\">\n",
              "  <thead>\n",
              "    <tr style=\"text-align: right;\">\n",
              "      <th></th>\n",
              "      <th>Attrition</th>\n",
              "      <th>BusinessTravel</th>\n",
              "      <th>Department</th>\n",
              "      <th>EducationField</th>\n",
              "      <th>EmployeeNumber</th>\n",
              "      <th>Gender</th>\n",
              "      <th>JobRole</th>\n",
              "      <th>MaritalStatus</th>\n",
              "      <th>Over18</th>\n",
              "      <th>OverTime</th>\n",
              "    </tr>\n",
              "  </thead>\n",
              "  <tbody>\n",
              "    <tr>\n",
              "      <th>count</th>\n",
              "      <td>1470</td>\n",
              "      <td>1470</td>\n",
              "      <td>1470</td>\n",
              "      <td>1470</td>\n",
              "      <td>1470</td>\n",
              "      <td>1470</td>\n",
              "      <td>1470</td>\n",
              "      <td>1470</td>\n",
              "      <td>1470</td>\n",
              "      <td>1470</td>\n",
              "    </tr>\n",
              "    <tr>\n",
              "      <th>unique</th>\n",
              "      <td>2</td>\n",
              "      <td>3</td>\n",
              "      <td>3</td>\n",
              "      <td>6</td>\n",
              "      <td>1470</td>\n",
              "      <td>2</td>\n",
              "      <td>9</td>\n",
              "      <td>3</td>\n",
              "      <td>1</td>\n",
              "      <td>2</td>\n",
              "    </tr>\n",
              "    <tr>\n",
              "      <th>top</th>\n",
              "      <td>No</td>\n",
              "      <td>Travel_Rarely</td>\n",
              "      <td>Research &amp; Development</td>\n",
              "      <td>Life Sciences</td>\n",
              "      <td>2046</td>\n",
              "      <td>Male</td>\n",
              "      <td>Sales Executive</td>\n",
              "      <td>Married</td>\n",
              "      <td>Y</td>\n",
              "      <td>No</td>\n",
              "    </tr>\n",
              "    <tr>\n",
              "      <th>freq</th>\n",
              "      <td>1233</td>\n",
              "      <td>1043</td>\n",
              "      <td>961</td>\n",
              "      <td>606</td>\n",
              "      <td>1</td>\n",
              "      <td>882</td>\n",
              "      <td>326</td>\n",
              "      <td>673</td>\n",
              "      <td>1470</td>\n",
              "      <td>1054</td>\n",
              "    </tr>\n",
              "  </tbody>\n",
              "</table>\n",
              "</div>"
            ],
            "text/plain": [
              "       Attrition BusinessTravel              Department EducationField  \\\n",
              "count       1470           1470                    1470           1470   \n",
              "unique         2              3                       3              6   \n",
              "top           No  Travel_Rarely  Research & Development  Life Sciences   \n",
              "freq        1233           1043                     961            606   \n",
              "\n",
              "        EmployeeNumber Gender          JobRole MaritalStatus Over18 OverTime  \n",
              "count             1470   1470             1470          1470   1470     1470  \n",
              "unique            1470      2                9             3      1        2  \n",
              "top               2046   Male  Sales Executive       Married      Y       No  \n",
              "freq                 1    882              326           673   1470     1054  "
            ]
          },
          "metadata": {
            "tags": []
          },
          "execution_count": 114
        }
      ]
    },
    {
      "cell_type": "code",
      "metadata": {
        "id": "r4LF9NyD_apL",
        "colab_type": "code",
        "colab": {
          "base_uri": "https://localhost:8080/",
          "height": 467
        },
        "outputId": "2cd4e431-2dcc-4873-cf60-751c259c18ca"
      },
      "source": [
        "#@title Distribuição dos dados categóricos\n",
        "\n",
        "\n",
        "feature = 'Attrition' #@param ['Attrition',\t'BusinessTravel',\t'Department',\t'EducationField',\t'Gender',\t'JobRole',\t'MaritalStatus',\t'Over18',\t'OverTime']\n",
        "\n",
        "\n",
        "counts = pd.DataFrame(df[feature].value_counts())\n",
        "\n",
        "fig = px.bar(counts, \n",
        "       x=counts.index, \n",
        "       y=feature,\n",
        "       labels = {\n",
        "           feature:'Counts',\n",
        "           'x':feature\n",
        "       })\n",
        "\n",
        "fig.show('png')"
      ],
      "execution_count": 115,
      "outputs": [
        {
          "output_type": "display_data",
          "data": {
            "image/png": "[encoded data removed]"
          },
          "metadata": {
            "tags": []
          }
        }
      ]
    },
    {
      "cell_type": "markdown",
      "metadata": {
        "id": "qYHDpGysUC84",
        "colab_type": "text"
      },
      "source": [
        "Algumas das conclusões que são possíveis a partir dos dados categóricos:\n",
        "\n",
        "\n",
        "1. Menos de 20% dos funcionários tiveram desentendimentos recentemente. Se isso é um resultado bom ou ruim depende muito do que a empresa está classificando como atrito, mas definitivamente existe margem para melhora nos números.\n",
        "\n",
        "2. A maior parte dos funcionários possui ensino superior nas área de ciências da saúde e medicina, e ocupa posições de Pesquisa e Desenvolvimento e Vendas.\n",
        "\n",
        "3. Existe um número bastante significativo de chefes e diretores comparado ao número total de colaboradores. Isso reforça a teoria de que nem todos os funcionários responderam à pesquisa, ou houve uma seleção de uma parte dos funcionários na hora da coleta de dados.\n",
        "\n",
        "Mais análises dos dados categóricos serão realizadas uma vez que o modelo de agrupamento for criado.\n"
      ]
    },
    {
      "cell_type": "markdown",
      "metadata": {
        "id": "7BzLZn0SfuhF",
        "colab_type": "text"
      },
      "source": [
        "## Modelo de Classificação\n",
        "\n",
        "Esta seção é dedicada à aplicação de um modelo de classificação ao problema. Esse modelo é alimentado com dados da pesquisa de clima, para identificar padrões dos funcionários que tiveram conflitos recentemente. Assim quando o modelo recebe novos dados ele consegue identificar padrões similares e estimar a probabilidade que determinado funcionário tem de ter um conflito. \n",
        "\n",
        "Note que existem variações nos resultados obtidos com os modelos toda vez que o código é executado, portanto se você executar o código pode encontrar valores que não correspondem exatamente àqueles que eu mencionarei.\n"
      ]
    },
    {
      "cell_type": "markdown",
      "metadata": {
        "id": "Fu3GBxVM0RZH",
        "colab_type": "text"
      },
      "source": [
        "### Seleção das variáveis relevantes\n",
        "\n",
        "Até este ponto o dataset não foi \"filtrado\" nenhuma vez, portando existem variáveis que não possuem significado prático ou não são de interesse para o objetivo do projeto. Para evitar que essas variáveis influenciem no modelo elas serão removidas do dataset."
      ]
    },
    {
      "cell_type": "code",
      "metadata": {
        "id": "OKL36fkY1A68",
        "colab_type": "code",
        "colab": {
          "base_uri": "https://localhost:8080/",
          "height": 204
        },
        "outputId": "e07d5f8c-74de-4f1c-e2eb-78b4385aef72"
      },
      "source": [
        "df.columns"
      ],
      "execution_count": 116,
      "outputs": [
        {
          "output_type": "execute_result",
          "data": {
            "text/plain": [
              "Index(['Age', 'Attrition', 'BusinessTravel', 'DailyRate', 'Department',\n",
              "       'DistanceFromHome', 'Education', 'EducationField', 'EmployeeCount',\n",
              "       'EmployeeNumber', 'EnvironmentSatisfaction', 'Gender', 'HourlyRate',\n",
              "       'JobInvolvement', 'JobLevel', 'JobRole', 'JobSatisfaction',\n",
              "       'MaritalStatus', 'MonthlyIncome', 'MonthlyRate', 'NumCompaniesWorked',\n",
              "       'Over18', 'OverTime', 'PercentSalaryHike', 'PerformanceRating',\n",
              "       'RelationshipSatisfaction', 'StandardHours', 'StockOptionLevel',\n",
              "       'TotalWorkingYears', 'TrainingTimesLastYear', 'WorkLifeBalance',\n",
              "       'YearsAtCompany', 'YearsInCurrentRole', 'YearsSinceLastPromotion',\n",
              "       'YearsWithCurrManager'],\n",
              "      dtype='object')"
            ]
          },
          "metadata": {
            "tags": []
          },
          "execution_count": 116
        }
      ]
    },
    {
      "cell_type": "code",
      "metadata": {
        "id": "LA4Q--QR05bi",
        "colab_type": "code",
        "colab": {
          "base_uri": "https://localhost:8080/",
          "height": 578
        },
        "outputId": "2facd2d3-d2c7-44a0-dd4a-765bc293a898"
      },
      "source": [
        "dfML = df.copy()\n",
        "\n",
        "dfML.drop(['DailyRate', 'EmployeeCount','EmployeeNumber', 'HourlyRate','JobLevel', 'MonthlyRate', 'Over18', 'StandardHours', 'StockOptionLevel'], axis=1, inplace=True)\n",
        "\n",
        "dfML.info()"
      ],
      "execution_count": 117,
      "outputs": [
        {
          "output_type": "stream",
          "text": [
            "<class 'pandas.core.frame.DataFrame'>\n",
            "RangeIndex: 1470 entries, 0 to 1469\n",
            "Data columns (total 26 columns):\n",
            " #   Column                    Non-Null Count  Dtype \n",
            "---  ------                    --------------  ----- \n",
            " 0   Age                       1470 non-null   int64 \n",
            " 1   Attrition                 1470 non-null   object\n",
            " 2   BusinessTravel            1470 non-null   object\n",
            " 3   Department                1470 non-null   object\n",
            " 4   DistanceFromHome          1470 non-null   int64 \n",
            " 5   Education                 1470 non-null   int64 \n",
            " 6   EducationField            1470 non-null   object\n",
            " 7   EnvironmentSatisfaction   1470 non-null   int64 \n",
            " 8   Gender                    1470 non-null   object\n",
            " 9   JobInvolvement            1470 non-null   int64 \n",
            " 10  JobRole                   1470 non-null   object\n",
            " 11  JobSatisfaction           1470 non-null   int64 \n",
            " 12  MaritalStatus             1470 non-null   object\n",
            " 13  MonthlyIncome             1470 non-null   int64 \n",
            " 14  NumCompaniesWorked        1470 non-null   int64 \n",
            " 15  OverTime                  1470 non-null   object\n",
            " 16  PercentSalaryHike         1470 non-null   int64 \n",
            " 17  PerformanceRating         1470 non-null   int64 \n",
            " 18  RelationshipSatisfaction  1470 non-null   int64 \n",
            " 19  TotalWorkingYears         1470 non-null   int64 \n",
            " 20  TrainingTimesLastYear     1470 non-null   int64 \n",
            " 21  WorkLifeBalance           1470 non-null   int64 \n",
            " 22  YearsAtCompany            1470 non-null   int64 \n",
            " 23  YearsInCurrentRole        1470 non-null   int64 \n",
            " 24  YearsSinceLastPromotion   1470 non-null   int64 \n",
            " 25  YearsWithCurrManager      1470 non-null   int64 \n",
            "dtypes: int64(18), object(8)\n",
            "memory usage: 298.7+ KB\n"
          ],
          "name": "stdout"
        }
      ]
    },
    {
      "cell_type": "markdown",
      "metadata": {
        "id": "Ab384Zuzymfy",
        "colab_type": "text"
      },
      "source": [
        "### Transformação das variáveis categóricas\n",
        "\n",
        "O segundo passo na preparação do dataset é a conversão das variáveis categóricas em numéricas para que o modelo consiga considerá-las em sua análise."
      ]
    },
    {
      "cell_type": "code",
      "metadata": {
        "id": "iEE9pJRH3sTE",
        "colab_type": "code",
        "colab": {
          "base_uri": "https://localhost:8080/",
          "height": 952
        },
        "outputId": "097e0fc9-6d10-468e-cfbb-9e7613b559c6"
      },
      "source": [
        "dfML = pd.get_dummies(dfML)\n",
        "\n",
        "dfML.info()"
      ],
      "execution_count": 118,
      "outputs": [
        {
          "output_type": "stream",
          "text": [
            "<class 'pandas.core.frame.DataFrame'>\n",
            "RangeIndex: 1470 entries, 0 to 1469\n",
            "Data columns (total 48 columns):\n",
            " #   Column                             Non-Null Count  Dtype\n",
            "---  ------                             --------------  -----\n",
            " 0   Age                                1470 non-null   int64\n",
            " 1   DistanceFromHome                   1470 non-null   int64\n",
            " 2   Education                          1470 non-null   int64\n",
            " 3   EnvironmentSatisfaction            1470 non-null   int64\n",
            " 4   JobInvolvement                     1470 non-null   int64\n",
            " 5   JobSatisfaction                    1470 non-null   int64\n",
            " 6   MonthlyIncome                      1470 non-null   int64\n",
            " 7   NumCompaniesWorked                 1470 non-null   int64\n",
            " 8   PercentSalaryHike                  1470 non-null   int64\n",
            " 9   PerformanceRating                  1470 non-null   int64\n",
            " 10  RelationshipSatisfaction           1470 non-null   int64\n",
            " 11  TotalWorkingYears                  1470 non-null   int64\n",
            " 12  TrainingTimesLastYear              1470 non-null   int64\n",
            " 13  WorkLifeBalance                    1470 non-null   int64\n",
            " 14  YearsAtCompany                     1470 non-null   int64\n",
            " 15  YearsInCurrentRole                 1470 non-null   int64\n",
            " 16  YearsSinceLastPromotion            1470 non-null   int64\n",
            " 17  YearsWithCurrManager               1470 non-null   int64\n",
            " 18  Attrition_No                       1470 non-null   uint8\n",
            " 19  Attrition_Yes                      1470 non-null   uint8\n",
            " 20  BusinessTravel_Non-Travel          1470 non-null   uint8\n",
            " 21  BusinessTravel_Travel_Frequently   1470 non-null   uint8\n",
            " 22  BusinessTravel_Travel_Rarely       1470 non-null   uint8\n",
            " 23  Department_Human Resources         1470 non-null   uint8\n",
            " 24  Department_Research & Development  1470 non-null   uint8\n",
            " 25  Department_Sales                   1470 non-null   uint8\n",
            " 26  EducationField_Human Resources     1470 non-null   uint8\n",
            " 27  EducationField_Life Sciences       1470 non-null   uint8\n",
            " 28  EducationField_Marketing           1470 non-null   uint8\n",
            " 29  EducationField_Medical             1470 non-null   uint8\n",
            " 30  EducationField_Other               1470 non-null   uint8\n",
            " 31  EducationField_Technical Degree    1470 non-null   uint8\n",
            " 32  Gender_Female                      1470 non-null   uint8\n",
            " 33  Gender_Male                        1470 non-null   uint8\n",
            " 34  JobRole_Healthcare Representative  1470 non-null   uint8\n",
            " 35  JobRole_Human Resources            1470 non-null   uint8\n",
            " 36  JobRole_Laboratory Technician      1470 non-null   uint8\n",
            " 37  JobRole_Manager                    1470 non-null   uint8\n",
            " 38  JobRole_Manufacturing Director     1470 non-null   uint8\n",
            " 39  JobRole_Research Director          1470 non-null   uint8\n",
            " 40  JobRole_Research Scientist         1470 non-null   uint8\n",
            " 41  JobRole_Sales Executive            1470 non-null   uint8\n",
            " 42  JobRole_Sales Representative       1470 non-null   uint8\n",
            " 43  MaritalStatus_Divorced             1470 non-null   uint8\n",
            " 44  MaritalStatus_Married              1470 non-null   uint8\n",
            " 45  MaritalStatus_Single               1470 non-null   uint8\n",
            " 46  OverTime_No                        1470 non-null   uint8\n",
            " 47  OverTime_Yes                       1470 non-null   uint8\n",
            "dtypes: int64(18), uint8(30)\n",
            "memory usage: 249.9 KB\n"
          ],
          "name": "stdout"
        }
      ]
    },
    {
      "cell_type": "code",
      "metadata": {
        "id": "4cfMxCBM4BZQ",
        "colab_type": "code",
        "colab": {
          "base_uri": "https://localhost:8080/",
          "height": 456
        },
        "outputId": "96682d0b-a2b3-4c5d-b097-77ff5893c1a5"
      },
      "source": [
        "dfML"
      ],
      "execution_count": 119,
      "outputs": [
        {
          "output_type": "execute_result",
          "data": {
            "text/html": [
              "<div>\n",
              "<style scoped>\n",
              "    .dataframe tbody tr th:only-of-type {\n",
              "        vertical-align: middle;\n",
              "    }\n",
              "\n",
              "    .dataframe tbody tr th {\n",
              "        vertical-align: top;\n",
              "    }\n",
              "\n",
              "    .dataframe thead th {\n",
              "        text-align: right;\n",
              "    }\n",
              "</style>\n",
              "<table border=\"1\" class=\"dataframe\">\n",
              "  <thead>\n",
              "    <tr style=\"text-align: right;\">\n",
              "      <th></th>\n",
              "      <th>Age</th>\n",
              "      <th>DistanceFromHome</th>\n",
              "      <th>Education</th>\n",
              "      <th>EnvironmentSatisfaction</th>\n",
              "      <th>JobInvolvement</th>\n",
              "      <th>JobSatisfaction</th>\n",
              "      <th>MonthlyIncome</th>\n",
              "      <th>NumCompaniesWorked</th>\n",
              "      <th>PercentSalaryHike</th>\n",
              "      <th>PerformanceRating</th>\n",
              "      <th>RelationshipSatisfaction</th>\n",
              "      <th>TotalWorkingYears</th>\n",
              "      <th>TrainingTimesLastYear</th>\n",
              "      <th>WorkLifeBalance</th>\n",
              "      <th>YearsAtCompany</th>\n",
              "      <th>YearsInCurrentRole</th>\n",
              "      <th>YearsSinceLastPromotion</th>\n",
              "      <th>YearsWithCurrManager</th>\n",
              "      <th>Attrition_No</th>\n",
              "      <th>Attrition_Yes</th>\n",
              "      <th>BusinessTravel_Non-Travel</th>\n",
              "      <th>BusinessTravel_Travel_Frequently</th>\n",
              "      <th>BusinessTravel_Travel_Rarely</th>\n",
              "      <th>Department_Human Resources</th>\n",
              "      <th>Department_Research &amp; Development</th>\n",
              "      <th>Department_Sales</th>\n",
              "      <th>EducationField_Human Resources</th>\n",
              "      <th>EducationField_Life Sciences</th>\n",
              "      <th>EducationField_Marketing</th>\n",
              "      <th>EducationField_Medical</th>\n",
              "      <th>EducationField_Other</th>\n",
              "      <th>EducationField_Technical Degree</th>\n",
              "      <th>Gender_Female</th>\n",
              "      <th>Gender_Male</th>\n",
              "      <th>JobRole_Healthcare Representative</th>\n",
              "      <th>JobRole_Human Resources</th>\n",
              "      <th>JobRole_Laboratory Technician</th>\n",
              "      <th>JobRole_Manager</th>\n",
              "      <th>JobRole_Manufacturing Director</th>\n",
              "      <th>JobRole_Research Director</th>\n",
              "      <th>JobRole_Research Scientist</th>\n",
              "      <th>JobRole_Sales Executive</th>\n",
              "      <th>JobRole_Sales Representative</th>\n",
              "      <th>MaritalStatus_Divorced</th>\n",
              "      <th>MaritalStatus_Married</th>\n",
              "      <th>MaritalStatus_Single</th>\n",
              "      <th>OverTime_No</th>\n",
              "      <th>OverTime_Yes</th>\n",
              "    </tr>\n",
              "  </thead>\n",
              "  <tbody>\n",
              "    <tr>\n",
              "      <th>0</th>\n",
              "      <td>41</td>\n",
              "      <td>1</td>\n",
              "      <td>2</td>\n",
              "      <td>2</td>\n",
              "      <td>3</td>\n",
              "      <td>4</td>\n",
              "      <td>5993</td>\n",
              "      <td>8</td>\n",
              "      <td>11</td>\n",
              "      <td>3</td>\n",
              "      <td>1</td>\n",
              "      <td>8</td>\n",
              "      <td>0</td>\n",
              "      <td>1</td>\n",
              "      <td>6</td>\n",
              "      <td>4</td>\n",
              "      <td>0</td>\n",
              "      <td>5</td>\n",
              "      <td>0</td>\n",
              "      <td>1</td>\n",
              "      <td>0</td>\n",
              "      <td>0</td>\n",
              "      <td>1</td>\n",
              "      <td>0</td>\n",
              "      <td>0</td>\n",
              "      <td>1</td>\n",
              "      <td>0</td>\n",
              "      <td>1</td>\n",
              "      <td>0</td>\n",
              "      <td>0</td>\n",
              "      <td>0</td>\n",
              "      <td>0</td>\n",
              "      <td>1</td>\n",
              "      <td>0</td>\n",
              "      <td>0</td>\n",
              "      <td>0</td>\n",
              "      <td>0</td>\n",
              "      <td>0</td>\n",
              "      <td>0</td>\n",
              "      <td>0</td>\n",
              "      <td>0</td>\n",
              "      <td>1</td>\n",
              "      <td>0</td>\n",
              "      <td>0</td>\n",
              "      <td>0</td>\n",
              "      <td>1</td>\n",
              "      <td>0</td>\n",
              "      <td>1</td>\n",
              "    </tr>\n",
              "    <tr>\n",
              "      <th>1</th>\n",
              "      <td>49</td>\n",
              "      <td>8</td>\n",
              "      <td>1</td>\n",
              "      <td>3</td>\n",
              "      <td>2</td>\n",
              "      <td>2</td>\n",
              "      <td>5130</td>\n",
              "      <td>1</td>\n",
              "      <td>23</td>\n",
              "      <td>4</td>\n",
              "      <td>4</td>\n",
              "      <td>10</td>\n",
              "      <td>3</td>\n",
              "      <td>3</td>\n",
              "      <td>10</td>\n",
              "      <td>7</td>\n",
              "      <td>1</td>\n",
              "      <td>7</td>\n",
              "      <td>1</td>\n",
              "      <td>0</td>\n",
              "      <td>0</td>\n",
              "      <td>1</td>\n",
              "      <td>0</td>\n",
              "      <td>0</td>\n",
              "      <td>1</td>\n",
              "      <td>0</td>\n",
              "      <td>0</td>\n",
              "      <td>1</td>\n",
              "      <td>0</td>\n",
              "      <td>0</td>\n",
              "      <td>0</td>\n",
              "      <td>0</td>\n",
              "      <td>0</td>\n",
              "      <td>1</td>\n",
              "      <td>0</td>\n",
              "      <td>0</td>\n",
              "      <td>0</td>\n",
              "      <td>0</td>\n",
              "      <td>0</td>\n",
              "      <td>0</td>\n",
              "      <td>1</td>\n",
              "      <td>0</td>\n",
              "      <td>0</td>\n",
              "      <td>0</td>\n",
              "      <td>1</td>\n",
              "      <td>0</td>\n",
              "      <td>1</td>\n",
              "      <td>0</td>\n",
              "    </tr>\n",
              "    <tr>\n",
              "      <th>2</th>\n",
              "      <td>37</td>\n",
              "      <td>2</td>\n",
              "      <td>2</td>\n",
              "      <td>4</td>\n",
              "      <td>2</td>\n",
              "      <td>3</td>\n",
              "      <td>2090</td>\n",
              "      <td>6</td>\n",
              "      <td>15</td>\n",
              "      <td>3</td>\n",
              "      <td>2</td>\n",
              "      <td>7</td>\n",
              "      <td>3</td>\n",
              "      <td>3</td>\n",
              "      <td>0</td>\n",
              "      <td>0</td>\n",
              "      <td>0</td>\n",
              "      <td>0</td>\n",
              "      <td>0</td>\n",
              "      <td>1</td>\n",
              "      <td>0</td>\n",
              "      <td>0</td>\n",
              "      <td>1</td>\n",
              "      <td>0</td>\n",
              "      <td>1</td>\n",
              "      <td>0</td>\n",
              "      <td>0</td>\n",
              "      <td>0</td>\n",
              "      <td>0</td>\n",
              "      <td>0</td>\n",
              "      <td>1</td>\n",
              "      <td>0</td>\n",
              "      <td>0</td>\n",
              "      <td>1</td>\n",
              "      <td>0</td>\n",
              "      <td>0</td>\n",
              "      <td>1</td>\n",
              "      <td>0</td>\n",
              "      <td>0</td>\n",
              "      <td>0</td>\n",
              "      <td>0</td>\n",
              "      <td>0</td>\n",
              "      <td>0</td>\n",
              "      <td>0</td>\n",
              "      <td>0</td>\n",
              "      <td>1</td>\n",
              "      <td>0</td>\n",
              "      <td>1</td>\n",
              "    </tr>\n",
              "    <tr>\n",
              "      <th>3</th>\n",
              "      <td>33</td>\n",
              "      <td>3</td>\n",
              "      <td>4</td>\n",
              "      <td>4</td>\n",
              "      <td>3</td>\n",
              "      <td>3</td>\n",
              "      <td>2909</td>\n",
              "      <td>1</td>\n",
              "      <td>11</td>\n",
              "      <td>3</td>\n",
              "      <td>3</td>\n",
              "      <td>8</td>\n",
              "      <td>3</td>\n",
              "      <td>3</td>\n",
              "      <td>8</td>\n",
              "      <td>7</td>\n",
              "      <td>3</td>\n",
              "      <td>0</td>\n",
              "      <td>1</td>\n",
              "      <td>0</td>\n",
              "      <td>0</td>\n",
              "      <td>1</td>\n",
              "      <td>0</td>\n",
              "      <td>0</td>\n",
              "      <td>1</td>\n",
              "      <td>0</td>\n",
              "      <td>0</td>\n",
              "      <td>1</td>\n",
              "      <td>0</td>\n",
              "      <td>0</td>\n",
              "      <td>0</td>\n",
              "      <td>0</td>\n",
              "      <td>1</td>\n",
              "      <td>0</td>\n",
              "      <td>0</td>\n",
              "      <td>0</td>\n",
              "      <td>0</td>\n",
              "      <td>0</td>\n",
              "      <td>0</td>\n",
              "      <td>0</td>\n",
              "      <td>1</td>\n",
              "      <td>0</td>\n",
              "      <td>0</td>\n",
              "      <td>0</td>\n",
              "      <td>1</td>\n",
              "      <td>0</td>\n",
              "      <td>0</td>\n",
              "      <td>1</td>\n",
              "    </tr>\n",
              "    <tr>\n",
              "      <th>4</th>\n",
              "      <td>27</td>\n",
              "      <td>2</td>\n",
              "      <td>1</td>\n",
              "      <td>1</td>\n",
              "      <td>3</td>\n",
              "      <td>2</td>\n",
              "      <td>3468</td>\n",
              "      <td>9</td>\n",
              "      <td>12</td>\n",
              "      <td>3</td>\n",
              "      <td>4</td>\n",
              "      <td>6</td>\n",
              "      <td>3</td>\n",
              "      <td>3</td>\n",
              "      <td>2</td>\n",
              "      <td>2</td>\n",
              "      <td>2</td>\n",
              "      <td>2</td>\n",
              "      <td>1</td>\n",
              "      <td>0</td>\n",
              "      <td>0</td>\n",
              "      <td>0</td>\n",
              "      <td>1</td>\n",
              "      <td>0</td>\n",
              "      <td>1</td>\n",
              "      <td>0</td>\n",
              "      <td>0</td>\n",
              "      <td>0</td>\n",
              "      <td>0</td>\n",
              "      <td>1</td>\n",
              "      <td>0</td>\n",
              "      <td>0</td>\n",
              "      <td>0</td>\n",
              "      <td>1</td>\n",
              "      <td>0</td>\n",
              "      <td>0</td>\n",
              "      <td>1</td>\n",
              "      <td>0</td>\n",
              "      <td>0</td>\n",
              "      <td>0</td>\n",
              "      <td>0</td>\n",
              "      <td>0</td>\n",
              "      <td>0</td>\n",
              "      <td>0</td>\n",
              "      <td>1</td>\n",
              "      <td>0</td>\n",
              "      <td>1</td>\n",
              "      <td>0</td>\n",
              "    </tr>\n",
              "    <tr>\n",
              "      <th>...</th>\n",
              "      <td>...</td>\n",
              "      <td>...</td>\n",
              "      <td>...</td>\n",
              "      <td>...</td>\n",
              "      <td>...</td>\n",
              "      <td>...</td>\n",
              "      <td>...</td>\n",
              "      <td>...</td>\n",
              "      <td>...</td>\n",
              "      <td>...</td>\n",
              "      <td>...</td>\n",
              "      <td>...</td>\n",
              "      <td>...</td>\n",
              "      <td>...</td>\n",
              "      <td>...</td>\n",
              "      <td>...</td>\n",
              "      <td>...</td>\n",
              "      <td>...</td>\n",
              "      <td>...</td>\n",
              "      <td>...</td>\n",
              "      <td>...</td>\n",
              "      <td>...</td>\n",
              "      <td>...</td>\n",
              "      <td>...</td>\n",
              "      <td>...</td>\n",
              "      <td>...</td>\n",
              "      <td>...</td>\n",
              "      <td>...</td>\n",
              "      <td>...</td>\n",
              "      <td>...</td>\n",
              "      <td>...</td>\n",
              "      <td>...</td>\n",
              "      <td>...</td>\n",
              "      <td>...</td>\n",
              "      <td>...</td>\n",
              "      <td>...</td>\n",
              "      <td>...</td>\n",
              "      <td>...</td>\n",
              "      <td>...</td>\n",
              "      <td>...</td>\n",
              "      <td>...</td>\n",
              "      <td>...</td>\n",
              "      <td>...</td>\n",
              "      <td>...</td>\n",
              "      <td>...</td>\n",
              "      <td>...</td>\n",
              "      <td>...</td>\n",
              "      <td>...</td>\n",
              "    </tr>\n",
              "    <tr>\n",
              "      <th>1465</th>\n",
              "      <td>36</td>\n",
              "      <td>23</td>\n",
              "      <td>2</td>\n",
              "      <td>3</td>\n",
              "      <td>4</td>\n",
              "      <td>4</td>\n",
              "      <td>2571</td>\n",
              "      <td>4</td>\n",
              "      <td>17</td>\n",
              "      <td>3</td>\n",
              "      <td>3</td>\n",
              "      <td>17</td>\n",
              "      <td>3</td>\n",
              "      <td>3</td>\n",
              "      <td>5</td>\n",
              "      <td>2</td>\n",
              "      <td>0</td>\n",
              "      <td>3</td>\n",
              "      <td>1</td>\n",
              "      <td>0</td>\n",
              "      <td>0</td>\n",
              "      <td>1</td>\n",
              "      <td>0</td>\n",
              "      <td>0</td>\n",
              "      <td>1</td>\n",
              "      <td>0</td>\n",
              "      <td>0</td>\n",
              "      <td>0</td>\n",
              "      <td>0</td>\n",
              "      <td>1</td>\n",
              "      <td>0</td>\n",
              "      <td>0</td>\n",
              "      <td>0</td>\n",
              "      <td>1</td>\n",
              "      <td>0</td>\n",
              "      <td>0</td>\n",
              "      <td>1</td>\n",
              "      <td>0</td>\n",
              "      <td>0</td>\n",
              "      <td>0</td>\n",
              "      <td>0</td>\n",
              "      <td>0</td>\n",
              "      <td>0</td>\n",
              "      <td>0</td>\n",
              "      <td>1</td>\n",
              "      <td>0</td>\n",
              "      <td>1</td>\n",
              "      <td>0</td>\n",
              "    </tr>\n",
              "    <tr>\n",
              "      <th>1466</th>\n",
              "      <td>39</td>\n",
              "      <td>6</td>\n",
              "      <td>1</td>\n",
              "      <td>4</td>\n",
              "      <td>2</td>\n",
              "      <td>1</td>\n",
              "      <td>9991</td>\n",
              "      <td>4</td>\n",
              "      <td>15</td>\n",
              "      <td>3</td>\n",
              "      <td>1</td>\n",
              "      <td>9</td>\n",
              "      <td>5</td>\n",
              "      <td>3</td>\n",
              "      <td>7</td>\n",
              "      <td>7</td>\n",
              "      <td>1</td>\n",
              "      <td>7</td>\n",
              "      <td>1</td>\n",
              "      <td>0</td>\n",
              "      <td>0</td>\n",
              "      <td>0</td>\n",
              "      <td>1</td>\n",
              "      <td>0</td>\n",
              "      <td>1</td>\n",
              "      <td>0</td>\n",
              "      <td>0</td>\n",
              "      <td>0</td>\n",
              "      <td>0</td>\n",
              "      <td>1</td>\n",
              "      <td>0</td>\n",
              "      <td>0</td>\n",
              "      <td>0</td>\n",
              "      <td>1</td>\n",
              "      <td>1</td>\n",
              "      <td>0</td>\n",
              "      <td>0</td>\n",
              "      <td>0</td>\n",
              "      <td>0</td>\n",
              "      <td>0</td>\n",
              "      <td>0</td>\n",
              "      <td>0</td>\n",
              "      <td>0</td>\n",
              "      <td>0</td>\n",
              "      <td>1</td>\n",
              "      <td>0</td>\n",
              "      <td>1</td>\n",
              "      <td>0</td>\n",
              "    </tr>\n",
              "    <tr>\n",
              "      <th>1467</th>\n",
              "      <td>27</td>\n",
              "      <td>4</td>\n",
              "      <td>3</td>\n",
              "      <td>2</td>\n",
              "      <td>4</td>\n",
              "      <td>2</td>\n",
              "      <td>6142</td>\n",
              "      <td>1</td>\n",
              "      <td>20</td>\n",
              "      <td>4</td>\n",
              "      <td>2</td>\n",
              "      <td>6</td>\n",
              "      <td>0</td>\n",
              "      <td>3</td>\n",
              "      <td>6</td>\n",
              "      <td>2</td>\n",
              "      <td>0</td>\n",
              "      <td>3</td>\n",
              "      <td>1</td>\n",
              "      <td>0</td>\n",
              "      <td>0</td>\n",
              "      <td>0</td>\n",
              "      <td>1</td>\n",
              "      <td>0</td>\n",
              "      <td>1</td>\n",
              "      <td>0</td>\n",
              "      <td>0</td>\n",
              "      <td>1</td>\n",
              "      <td>0</td>\n",
              "      <td>0</td>\n",
              "      <td>0</td>\n",
              "      <td>0</td>\n",
              "      <td>0</td>\n",
              "      <td>1</td>\n",
              "      <td>0</td>\n",
              "      <td>0</td>\n",
              "      <td>0</td>\n",
              "      <td>0</td>\n",
              "      <td>1</td>\n",
              "      <td>0</td>\n",
              "      <td>0</td>\n",
              "      <td>0</td>\n",
              "      <td>0</td>\n",
              "      <td>0</td>\n",
              "      <td>1</td>\n",
              "      <td>0</td>\n",
              "      <td>0</td>\n",
              "      <td>1</td>\n",
              "    </tr>\n",
              "    <tr>\n",
              "      <th>1468</th>\n",
              "      <td>49</td>\n",
              "      <td>2</td>\n",
              "      <td>3</td>\n",
              "      <td>4</td>\n",
              "      <td>2</td>\n",
              "      <td>2</td>\n",
              "      <td>5390</td>\n",
              "      <td>2</td>\n",
              "      <td>14</td>\n",
              "      <td>3</td>\n",
              "      <td>4</td>\n",
              "      <td>17</td>\n",
              "      <td>3</td>\n",
              "      <td>2</td>\n",
              "      <td>9</td>\n",
              "      <td>6</td>\n",
              "      <td>0</td>\n",
              "      <td>8</td>\n",
              "      <td>1</td>\n",
              "      <td>0</td>\n",
              "      <td>0</td>\n",
              "      <td>1</td>\n",
              "      <td>0</td>\n",
              "      <td>0</td>\n",
              "      <td>0</td>\n",
              "      <td>1</td>\n",
              "      <td>0</td>\n",
              "      <td>0</td>\n",
              "      <td>0</td>\n",
              "      <td>1</td>\n",
              "      <td>0</td>\n",
              "      <td>0</td>\n",
              "      <td>0</td>\n",
              "      <td>1</td>\n",
              "      <td>0</td>\n",
              "      <td>0</td>\n",
              "      <td>0</td>\n",
              "      <td>0</td>\n",
              "      <td>0</td>\n",
              "      <td>0</td>\n",
              "      <td>0</td>\n",
              "      <td>1</td>\n",
              "      <td>0</td>\n",
              "      <td>0</td>\n",
              "      <td>1</td>\n",
              "      <td>0</td>\n",
              "      <td>1</td>\n",
              "      <td>0</td>\n",
              "    </tr>\n",
              "    <tr>\n",
              "      <th>1469</th>\n",
              "      <td>34</td>\n",
              "      <td>8</td>\n",
              "      <td>3</td>\n",
              "      <td>2</td>\n",
              "      <td>4</td>\n",
              "      <td>3</td>\n",
              "      <td>4404</td>\n",
              "      <td>2</td>\n",
              "      <td>12</td>\n",
              "      <td>3</td>\n",
              "      <td>1</td>\n",
              "      <td>6</td>\n",
              "      <td>3</td>\n",
              "      <td>4</td>\n",
              "      <td>4</td>\n",
              "      <td>3</td>\n",
              "      <td>1</td>\n",
              "      <td>2</td>\n",
              "      <td>1</td>\n",
              "      <td>0</td>\n",
              "      <td>0</td>\n",
              "      <td>0</td>\n",
              "      <td>1</td>\n",
              "      <td>0</td>\n",
              "      <td>1</td>\n",
              "      <td>0</td>\n",
              "      <td>0</td>\n",
              "      <td>0</td>\n",
              "      <td>0</td>\n",
              "      <td>1</td>\n",
              "      <td>0</td>\n",
              "      <td>0</td>\n",
              "      <td>0</td>\n",
              "      <td>1</td>\n",
              "      <td>0</td>\n",
              "      <td>0</td>\n",
              "      <td>1</td>\n",
              "      <td>0</td>\n",
              "      <td>0</td>\n",
              "      <td>0</td>\n",
              "      <td>0</td>\n",
              "      <td>0</td>\n",
              "      <td>0</td>\n",
              "      <td>0</td>\n",
              "      <td>1</td>\n",
              "      <td>0</td>\n",
              "      <td>1</td>\n",
              "      <td>0</td>\n",
              "    </tr>\n",
              "  </tbody>\n",
              "</table>\n",
              "<p>1470 rows × 48 columns</p>\n",
              "</div>"
            ],
            "text/plain": [
              "      Age  DistanceFromHome  Education  EnvironmentSatisfaction  \\\n",
              "0      41                 1          2                        2   \n",
              "1      49                 8          1                        3   \n",
              "2      37                 2          2                        4   \n",
              "3      33                 3          4                        4   \n",
              "4      27                 2          1                        1   \n",
              "...   ...               ...        ...                      ...   \n",
              "1465   36                23          2                        3   \n",
              "1466   39                 6          1                        4   \n",
              "1467   27                 4          3                        2   \n",
              "1468   49                 2          3                        4   \n",
              "1469   34                 8          3                        2   \n",
              "\n",
              "      JobInvolvement  JobSatisfaction  MonthlyIncome  NumCompaniesWorked  \\\n",
              "0                  3                4           5993                   8   \n",
              "1                  2                2           5130                   1   \n",
              "2                  2                3           2090                   6   \n",
              "3                  3                3           2909                   1   \n",
              "4                  3                2           3468                   9   \n",
              "...              ...              ...            ...                 ...   \n",
              "1465               4                4           2571                   4   \n",
              "1466               2                1           9991                   4   \n",
              "1467               4                2           6142                   1   \n",
              "1468               2                2           5390                   2   \n",
              "1469               4                3           4404                   2   \n",
              "\n",
              "      PercentSalaryHike  PerformanceRating  RelationshipSatisfaction  \\\n",
              "0                    11                  3                         1   \n",
              "1                    23                  4                         4   \n",
              "2                    15                  3                         2   \n",
              "3                    11                  3                         3   \n",
              "4                    12                  3                         4   \n",
              "...                 ...                ...                       ...   \n",
              "1465                 17                  3                         3   \n",
              "1466                 15                  3                         1   \n",
              "1467                 20                  4                         2   \n",
              "1468                 14                  3                         4   \n",
              "1469                 12                  3                         1   \n",
              "\n",
              "      TotalWorkingYears  TrainingTimesLastYear  WorkLifeBalance  \\\n",
              "0                     8                      0                1   \n",
              "1                    10                      3                3   \n",
              "2                     7                      3                3   \n",
              "3                     8                      3                3   \n",
              "4                     6                      3                3   \n",
              "...                 ...                    ...              ...   \n",
              "1465                 17                      3                3   \n",
              "1466                  9                      5                3   \n",
              "1467                  6                      0                3   \n",
              "1468                 17                      3                2   \n",
              "1469                  6                      3                4   \n",
              "\n",
              "      YearsAtCompany  YearsInCurrentRole  YearsSinceLastPromotion  \\\n",
              "0                  6                   4                        0   \n",
              "1                 10                   7                        1   \n",
              "2                  0                   0                        0   \n",
              "3                  8                   7                        3   \n",
              "4                  2                   2                        2   \n",
              "...              ...                 ...                      ...   \n",
              "1465               5                   2                        0   \n",
              "1466               7                   7                        1   \n",
              "1467               6                   2                        0   \n",
              "1468               9                   6                        0   \n",
              "1469               4                   3                        1   \n",
              "\n",
              "      YearsWithCurrManager  Attrition_No  Attrition_Yes  \\\n",
              "0                        5             0              1   \n",
              "1                        7             1              0   \n",
              "2                        0             0              1   \n",
              "3                        0             1              0   \n",
              "4                        2             1              0   \n",
              "...                    ...           ...            ...   \n",
              "1465                     3             1              0   \n",
              "1466                     7             1              0   \n",
              "1467                     3             1              0   \n",
              "1468                     8             1              0   \n",
              "1469                     2             1              0   \n",
              "\n",
              "      BusinessTravel_Non-Travel  BusinessTravel_Travel_Frequently  \\\n",
              "0                             0                                 0   \n",
              "1                             0                                 1   \n",
              "2                             0                                 0   \n",
              "3                             0                                 1   \n",
              "4                             0                                 0   \n",
              "...                         ...                               ...   \n",
              "1465                          0                                 1   \n",
              "1466                          0                                 0   \n",
              "1467                          0                                 0   \n",
              "1468                          0                                 1   \n",
              "1469                          0                                 0   \n",
              "\n",
              "      BusinessTravel_Travel_Rarely  Department_Human Resources  \\\n",
              "0                                1                           0   \n",
              "1                                0                           0   \n",
              "2                                1                           0   \n",
              "3                                0                           0   \n",
              "4                                1                           0   \n",
              "...                            ...                         ...   \n",
              "1465                             0                           0   \n",
              "1466                             1                           0   \n",
              "1467                             1                           0   \n",
              "1468                             0                           0   \n",
              "1469                             1                           0   \n",
              "\n",
              "      Department_Research & Development  Department_Sales  \\\n",
              "0                                     0                 1   \n",
              "1                                     1                 0   \n",
              "2                                     1                 0   \n",
              "3                                     1                 0   \n",
              "4                                     1                 0   \n",
              "...                                 ...               ...   \n",
              "1465                                  1                 0   \n",
              "1466                                  1                 0   \n",
              "1467                                  1                 0   \n",
              "1468                                  0                 1   \n",
              "1469                                  1                 0   \n",
              "\n",
              "      EducationField_Human Resources  EducationField_Life Sciences  \\\n",
              "0                                  0                             1   \n",
              "1                                  0                             1   \n",
              "2                                  0                             0   \n",
              "3                                  0                             1   \n",
              "4                                  0                             0   \n",
              "...                              ...                           ...   \n",
              "1465                               0                             0   \n",
              "1466                               0                             0   \n",
              "1467                               0                             1   \n",
              "1468                               0                             0   \n",
              "1469                               0                             0   \n",
              "\n",
              "      EducationField_Marketing  EducationField_Medical  EducationField_Other  \\\n",
              "0                            0                       0                     0   \n",
              "1                            0                       0                     0   \n",
              "2                            0                       0                     1   \n",
              "3                            0                       0                     0   \n",
              "4                            0                       1                     0   \n",
              "...                        ...                     ...                   ...   \n",
              "1465                         0                       1                     0   \n",
              "1466                         0                       1                     0   \n",
              "1467                         0                       0                     0   \n",
              "1468                         0                       1                     0   \n",
              "1469                         0                       1                     0   \n",
              "\n",
              "      EducationField_Technical Degree  Gender_Female  Gender_Male  \\\n",
              "0                                   0              1            0   \n",
              "1                                   0              0            1   \n",
              "2                                   0              0            1   \n",
              "3                                   0              1            0   \n",
              "4                                   0              0            1   \n",
              "...                               ...            ...          ...   \n",
              "1465                                0              0            1   \n",
              "1466                                0              0            1   \n",
              "1467                                0              0            1   \n",
              "1468                                0              0            1   \n",
              "1469                                0              0            1   \n",
              "\n",
              "      JobRole_Healthcare Representative  JobRole_Human Resources  \\\n",
              "0                                     0                        0   \n",
              "1                                     0                        0   \n",
              "2                                     0                        0   \n",
              "3                                     0                        0   \n",
              "4                                     0                        0   \n",
              "...                                 ...                      ...   \n",
              "1465                                  0                        0   \n",
              "1466                                  1                        0   \n",
              "1467                                  0                        0   \n",
              "1468                                  0                        0   \n",
              "1469                                  0                        0   \n",
              "\n",
              "      JobRole_Laboratory Technician  JobRole_Manager  \\\n",
              "0                                 0                0   \n",
              "1                                 0                0   \n",
              "2                                 1                0   \n",
              "3                                 0                0   \n",
              "4                                 1                0   \n",
              "...                             ...              ...   \n",
              "1465                              1                0   \n",
              "1466                              0                0   \n",
              "1467                              0                0   \n",
              "1468                              0                0   \n",
              "1469                              1                0   \n",
              "\n",
              "      JobRole_Manufacturing Director  JobRole_Research Director  \\\n",
              "0                                  0                          0   \n",
              "1                                  0                          0   \n",
              "2                                  0                          0   \n",
              "3                                  0                          0   \n",
              "4                                  0                          0   \n",
              "...                              ...                        ...   \n",
              "1465                               0                          0   \n",
              "1466                               0                          0   \n",
              "1467                               1                          0   \n",
              "1468                               0                          0   \n",
              "1469                               0                          0   \n",
              "\n",
              "      JobRole_Research Scientist  JobRole_Sales Executive  \\\n",
              "0                              0                        1   \n",
              "1                              1                        0   \n",
              "2                              0                        0   \n",
              "3                              1                        0   \n",
              "4                              0                        0   \n",
              "...                          ...                      ...   \n",
              "1465                           0                        0   \n",
              "1466                           0                        0   \n",
              "1467                           0                        0   \n",
              "1468                           0                        1   \n",
              "1469                           0                        0   \n",
              "\n",
              "      JobRole_Sales Representative  MaritalStatus_Divorced  \\\n",
              "0                                0                       0   \n",
              "1                                0                       0   \n",
              "2                                0                       0   \n",
              "3                                0                       0   \n",
              "4                                0                       0   \n",
              "...                            ...                     ...   \n",
              "1465                             0                       0   \n",
              "1466                             0                       0   \n",
              "1467                             0                       0   \n",
              "1468                             0                       0   \n",
              "1469                             0                       0   \n",
              "\n",
              "      MaritalStatus_Married  MaritalStatus_Single  OverTime_No  OverTime_Yes  \n",
              "0                         0                     1            0             1  \n",
              "1                         1                     0            1             0  \n",
              "2                         0                     1            0             1  \n",
              "3                         1                     0            0             1  \n",
              "4                         1                     0            1             0  \n",
              "...                     ...                   ...          ...           ...  \n",
              "1465                      1                     0            1             0  \n",
              "1466                      1                     0            1             0  \n",
              "1467                      1                     0            0             1  \n",
              "1468                      1                     0            1             0  \n",
              "1469                      1                     0            1             0  \n",
              "\n",
              "[1470 rows x 48 columns]"
            ]
          },
          "metadata": {
            "tags": []
          },
          "execution_count": 119
        }
      ]
    },
    {
      "cell_type": "markdown",
      "metadata": {
        "id": "2tBUZ-uJUSLj",
        "colab_type": "text"
      },
      "source": [
        "### Separação dos dados de treino e teste\n",
        "\n",
        "É necessário informar ao modelo qual é a variável que ele precisará prever, e quais as variáveis são usadas para que ele faça a análise. Esses dois grupos são chamados comumente de X e Y, respectivamente.\n",
        "\n",
        "O objetivo é prever conflitos, portanto a variável `Attrition` será a resposta que buscamos, e as outras variáveis podem ser utilizadas para alimentar o modelo.\n",
        "\n",
        "Alem disso é importante separar uma parte dos dados para realizar uma verificação da qualidade do modelo após o treinamento. Esses dados não serão utilizados na etapa de treinamento e serão mostrados como dados novos uma vez que ele estiver pronto.\n"
      ]
    },
    {
      "cell_type": "code",
      "metadata": {
        "id": "GuVw6QyNgTNA",
        "colab_type": "code",
        "colab": {
          "base_uri": "https://localhost:8080/",
          "height": 102
        },
        "outputId": "50c4270f-6cda-4340-a812-2b37aa4e59a1"
      },
      "source": [
        "# Create a matrix of input variables X and results array Y\n",
        "\n",
        "X = dfML.drop(['Attrition_No', 'Attrition_Yes'], axis=1)\n",
        "Y = dfML.Attrition_Yes\n",
        "\n",
        "# Create train and test datasets\n",
        "\n",
        "X_train, X_test, Y_train, Y_test = train_test_split(X, Y, test_size=0.2)\n",
        "\n",
        "print(X_train.shape)\n",
        "print(X_test.shape)\n",
        "print(Y_train.shape)\n",
        "print(Y_test.shape)\n",
        "print(dfML.shape)"
      ],
      "execution_count": 120,
      "outputs": [
        {
          "output_type": "stream",
          "text": [
            "(1176, 46)\n",
            "(294, 46)\n",
            "(1176,)\n",
            "(294,)\n",
            "(1470, 48)\n"
          ],
          "name": "stdout"
        }
      ]
    },
    {
      "cell_type": "markdown",
      "metadata": {
        "id": "JRS6akeJlOv9",
        "colab_type": "text"
      },
      "source": [
        "### Normalização\n",
        "\n",
        "Variáveis numéricas possuem diferentes escalas de variação. Pela maneira que alguns modelos são construídos, essas escalas podem impactar na relevância que cada variável possui no modelo, prejudicando os resultados estimados. Para evitar esse tipo de efeito iremos colocar todas as variáveis em escalas aproximadas.\n"
      ]
    },
    {
      "cell_type": "code",
      "metadata": {
        "id": "u6IMB0AJqLiT",
        "colab_type": "code",
        "colab": {
          "base_uri": "https://localhost:8080/",
          "height": 238
        },
        "outputId": "5d1cded7-2dae-4703-d367-7d111361b380"
      },
      "source": [
        "# Normalize inputs X\n",
        "\n",
        "scaler = StandardScaler()\n",
        "scaler.fit(X_train)\n",
        "X_train_norm = scaler.transform(X_train)\n",
        "X_test_norm = scaler.transform(X_test)\n",
        "\n",
        "X_train_norm"
      ],
      "execution_count": 121,
      "outputs": [
        {
          "output_type": "execute_result",
          "data": {
            "text/plain": [
              "array([[ 0.1411209 ,  0.82727069,  0.08242928, ...,  1.46437189,\n",
              "         0.6219264 , -0.6219264 ],\n",
              "       [ 0.36225105,  0.09505519,  1.0517976 , ..., -0.68288664,\n",
              "        -1.60790729,  1.60790729],\n",
              "       [-0.85396478, -0.75919623, -1.85630737, ...,  1.46437189,\n",
              "        -1.60790729,  1.60790729],\n",
              "       ...,\n",
              "       [-1.18566001, -1.00326807, -1.85630737, ..., -0.68288664,\n",
              "         0.6219264 , -0.6219264 ],\n",
              "       [ 0.69394628, -0.02698073,  0.08242928, ...,  1.46437189,\n",
              "         0.6219264 , -0.6219264 ],\n",
              "       [ 0.03055582, -1.00326807,  1.0517976 , ..., -0.68288664,\n",
              "         0.6219264 , -0.6219264 ]])"
            ]
          },
          "metadata": {
            "tags": []
          },
          "execution_count": 121
        }
      ]
    },
    {
      "cell_type": "markdown",
      "metadata": {
        "id": "cYhVQY6jrGZS",
        "colab_type": "text"
      },
      "source": [
        "Agora possuímos um dataset normalizado para treinar o modelo."
      ]
    },
    {
      "cell_type": "markdown",
      "metadata": {
        "id": "UiXOxAB8rYm-",
        "colab_type": "text"
      },
      "source": [
        "### Seleção do Modelo\n",
        "\n",
        "Existem muitos modelos de Machine Learning que podem ser aplicados a um problema de classificação. Existem diretrizes gerais de quando utilizar cada um deles, mas é muito recomendado que mais de um seja testado para encontrar aquele que melhor se encaixa às particularidades dos dados. \n",
        "\n",
        "Iremos testar alguns modelos para definir qual deles iremos utilizar na previsão dos resultados.\n"
      ]
    },
    {
      "cell_type": "code",
      "metadata": {
        "id": "aOeqbA1meWFe",
        "colab_type": "code",
        "colab": {}
      },
      "source": [
        "def val_model(X, y, classifier, scor, show):\n",
        "\n",
        "  X = np.array(X)\n",
        "  y = np.array(y)\n",
        "\n",
        "  # pipeline = make_pipeline(StandardScaler(), classifier)\n",
        "  # scores = cross_val_score(pipeline, X, y, scoring = scor)\n",
        "\n",
        "  scores = cross_val_score(classifier, X, y, scoring = scor)\n",
        "\n",
        "  if show == True:\n",
        "    print(\"Score: {:.2f} (+/- {:.2f})\".format(scores.mean(), scores.std()))\n",
        "  \n",
        "  return scores.mean()"
      ],
      "execution_count": 122,
      "outputs": []
    },
    {
      "cell_type": "code",
      "metadata": {
        "id": "wMD2zo-5Q1i4",
        "colab_type": "code",
        "colab": {
          "base_uri": "https://localhost:8080/",
          "height": 385
        },
        "outputId": "07ae6e09-4083-4e3b-af1c-d1d35d34ba52"
      },
      "source": [
        "# Create models\n",
        "rf = RandomForestClassifier()\n",
        "dt = DecisionTreeClassifier()\n",
        "sgdc = SGDClassifier()\n",
        "svc = SVC()\n",
        "lr = LogisticRegression()\n",
        "xgb = XGBClassifier()\n",
        "lgbm = LGBMClassifier()\n",
        "\n",
        "model = []\n",
        "score = []\n",
        "\n",
        "# Check score\n",
        "for classifier in (rf, dt, sgdc, svc, lr, xgb, lgbm):\n",
        "    model.append(classifier.__class__.__name__)\n",
        "    score.append(val_model(X_train_norm, Y_train, classifier, scor='recall', show=True))\n",
        "\n",
        "pd.DataFrame(data=score, index=model, columns=['Recall'])"
      ],
      "execution_count": 123,
      "outputs": [
        {
          "output_type": "stream",
          "text": [
            "Score: 0.19 (+/- 0.04)\n",
            "Score: 0.36 (+/- 0.06)\n",
            "Score: 0.42 (+/- 0.07)\n",
            "Score: 0.19 (+/- 0.04)\n",
            "Score: 0.41 (+/- 0.08)\n",
            "Score: 0.29 (+/- 0.05)\n",
            "Score: 0.32 (+/- 0.05)\n"
          ],
          "name": "stdout"
        },
        {
          "output_type": "execute_result",
          "data": {
            "text/html": [
              "<div>\n",
              "<style scoped>\n",
              "    .dataframe tbody tr th:only-of-type {\n",
              "        vertical-align: middle;\n",
              "    }\n",
              "\n",
              "    .dataframe tbody tr th {\n",
              "        vertical-align: top;\n",
              "    }\n",
              "\n",
              "    .dataframe thead th {\n",
              "        text-align: right;\n",
              "    }\n",
              "</style>\n",
              "<table border=\"1\" class=\"dataframe\">\n",
              "  <thead>\n",
              "    <tr style=\"text-align: right;\">\n",
              "      <th></th>\n",
              "      <th>Recall</th>\n",
              "    </tr>\n",
              "  </thead>\n",
              "  <tbody>\n",
              "    <tr>\n",
              "      <th>RandomForestClassifier</th>\n",
              "      <td>0.194595</td>\n",
              "    </tr>\n",
              "    <tr>\n",
              "      <th>DecisionTreeClassifier</th>\n",
              "      <td>0.356757</td>\n",
              "    </tr>\n",
              "    <tr>\n",
              "      <th>SGDClassifier</th>\n",
              "      <td>0.416216</td>\n",
              "    </tr>\n",
              "    <tr>\n",
              "      <th>SVC</th>\n",
              "      <td>0.189189</td>\n",
              "    </tr>\n",
              "    <tr>\n",
              "      <th>LogisticRegression</th>\n",
              "      <td>0.405405</td>\n",
              "    </tr>\n",
              "    <tr>\n",
              "      <th>XGBClassifier</th>\n",
              "      <td>0.286486</td>\n",
              "    </tr>\n",
              "    <tr>\n",
              "      <th>LGBMClassifier</th>\n",
              "      <td>0.318919</td>\n",
              "    </tr>\n",
              "  </tbody>\n",
              "</table>\n",
              "</div>"
            ],
            "text/plain": [
              "                          Recall\n",
              "RandomForestClassifier  0.194595\n",
              "DecisionTreeClassifier  0.356757\n",
              "SGDClassifier           0.416216\n",
              "SVC                     0.189189\n",
              "LogisticRegression      0.405405\n",
              "XGBClassifier           0.286486\n",
              "LGBMClassifier          0.318919"
            ]
          },
          "metadata": {
            "tags": []
          },
          "execution_count": 123
        }
      ]
    },
    {
      "cell_type": "markdown",
      "metadata": {
        "id": "0U4N5BvBxKj7",
        "colab_type": "text"
      },
      "source": [
        "Um ponto que não foi previamente discutido é a seleção da métrica de resultados. Essa parte será comentada em breve mas por agora basta mencionar que o score de Recall será utilizado. Essa métrica varia de 0 a 1, sendo 1 o melhor resultado, o que mostra que os resultados atuais dos modelos não estão bons.\n",
        "\n",
        "Existe uma verificação importante a ser realizada. Como a grande maioria dos funcionários não teve conflitos recentemente, o dataset é considerado desbalanceado. Ao trabalhar com dados desbalanceados é possível que o modelo tenha mais dificuldades em detectar padrões da classe minoritária, que no nosso estudo são os casos de atrito que queremos identificar. É possível balancear artificialmente os dados de algumas maneiras, portanto iremos realizar esta prática e verificar se melhorias são identificadas."
      ]
    },
    {
      "cell_type": "code",
      "metadata": {
        "id": "aMhkb2eq1SHW",
        "colab_type": "code",
        "colab": {
          "base_uri": "https://localhost:8080/",
          "height": 501
        },
        "outputId": "72ee4544-9d6b-4886-a27c-9079e13fa985"
      },
      "source": [
        "rus = RandomUnderSampler()\n",
        "X_rus, Y_rus = rus.fit_sample(X_train, Y_train)\n",
        "print(X_rus.shape)\n",
        "print(Y_rus.shape)\n",
        "df_rus = pd.DataFrame(Y_rus)\n",
        "counts2 = pd.DataFrame(df_rus.loc[:,0].value_counts())\n",
        "counts2.columns = ['Data Points']\n",
        "fig = px.bar(counts2, x=counts2.index, y='Data Points' )\n",
        "\n",
        "fig.show('png')"
      ],
      "execution_count": 124,
      "outputs": [
        {
          "output_type": "stream",
          "text": [
            "(370, 46)\n",
            "(370,)\n"
          ],
          "name": "stdout"
        },
        {
          "output_type": "display_data",
          "data": {
            "image/png": "[encoded data removed]"
          },
          "metadata": {
            "tags": []
          }
        }
      ]
    },
    {
      "cell_type": "markdown",
      "metadata": {
        "id": "Mg9i2DCc2RAe",
        "colab_type": "text"
      },
      "source": [
        "Com o balanceamento a quantidade de dados para alimentar o modelo reduz drasticamente. Agora iremos verificar se isso foi benéfico ou prejudicial para os resultados, mas antes é necessário normalizar novamente os dados originais, pois médias e desvio padrão podem ter mudado.\n"
      ]
    },
    {
      "cell_type": "code",
      "metadata": {
        "id": "9EYRSEPsA29z",
        "colab_type": "code",
        "colab": {
          "base_uri": "https://localhost:8080/",
          "height": 238
        },
        "outputId": "52bd4086-1c49-404f-97f6-f3cac07d7ea7"
      },
      "source": [
        "# Normalize inputs X\n",
        "\n",
        "scaler_rus = StandardScaler()\n",
        "scaler_rus.fit(X_rus)\n",
        "X_rus_norm = scaler_rus.transform(X_rus)\n",
        "X_test_rus_norm = scaler_rus.transform(X_test)\n",
        "\n",
        "X_rus_norm"
      ],
      "execution_count": 125,
      "outputs": [
        {
          "output_type": "execute_result",
          "data": {
            "text/plain": [
              "array([[ 0.74509737,  0.01575873,  1.11404904, ...,  1.15834889,\n",
              "         0.7623625 , -0.7623625 ],\n",
              "       [ 0.53966814, -0.34122479, -0.84413692, ...,  1.15834889,\n",
              "         0.7623625 , -0.7623625 ],\n",
              "       [-0.17933417, -0.81720281, -0.84413692, ...,  1.15834889,\n",
              "         0.7623625 , -0.7623625 ],\n",
              "       ...,\n",
              "       [ 0.12880968,  0.01575873,  1.11404904, ...,  1.15834889,\n",
              "         0.7623625 , -0.7623625 ],\n",
              "       [-0.28204878,  0.49173676,  0.13495606, ..., -0.86329776,\n",
              "        -1.31171195,  1.31171195],\n",
              "       [ 0.02609506,  0.72972577,  1.11404904, ...,  1.15834889,\n",
              "         0.7623625 , -0.7623625 ]])"
            ]
          },
          "metadata": {
            "tags": []
          },
          "execution_count": 125
        }
      ]
    },
    {
      "cell_type": "code",
      "metadata": {
        "id": "uVxDx7IGB5Gh",
        "colab_type": "code",
        "colab": {
          "base_uri": "https://localhost:8080/",
          "height": 385
        },
        "outputId": "e6a745cc-500c-4687-e508-4971312644b1"
      },
      "source": [
        "# Create models\n",
        "rf = RandomForestClassifier()\n",
        "dt = DecisionTreeClassifier()\n",
        "sgdc = SGDClassifier()\n",
        "svc = SVC()\n",
        "lr = LogisticRegression()\n",
        "xgb = XGBClassifier()\n",
        "lgbm = LGBMClassifier()\n",
        "\n",
        "model_rus = []\n",
        "score_rus = []\n",
        "\n",
        "# Check score\n",
        "for classifier in (rf, dt, sgdc, svc, lr, xgb, lgbm):\n",
        "    model_rus.append(classifier.__class__.__name__)\n",
        "    score_rus.append(val_model(X_rus_norm, Y_rus, classifier, scor='recall', show=True))\n",
        "\n",
        "pd.DataFrame(data=score_rus, index=model_rus, columns=['Recall RUS'])"
      ],
      "execution_count": 126,
      "outputs": [
        {
          "output_type": "stream",
          "text": [
            "Score: 0.67 (+/- 0.08)\n",
            "Score: 0.61 (+/- 0.05)\n",
            "Score: 0.70 (+/- 0.11)\n",
            "Score: 0.74 (+/- 0.05)\n",
            "Score: 0.78 (+/- 0.04)\n",
            "Score: 0.74 (+/- 0.06)\n",
            "Score: 0.72 (+/- 0.07)\n"
          ],
          "name": "stdout"
        },
        {
          "output_type": "execute_result",
          "data": {
            "text/html": [
              "<div>\n",
              "<style scoped>\n",
              "    .dataframe tbody tr th:only-of-type {\n",
              "        vertical-align: middle;\n",
              "    }\n",
              "\n",
              "    .dataframe tbody tr th {\n",
              "        vertical-align: top;\n",
              "    }\n",
              "\n",
              "    .dataframe thead th {\n",
              "        text-align: right;\n",
              "    }\n",
              "</style>\n",
              "<table border=\"1\" class=\"dataframe\">\n",
              "  <thead>\n",
              "    <tr style=\"text-align: right;\">\n",
              "      <th></th>\n",
              "      <th>Recall RUS</th>\n",
              "    </tr>\n",
              "  </thead>\n",
              "  <tbody>\n",
              "    <tr>\n",
              "      <th>RandomForestClassifier</th>\n",
              "      <td>0.670270</td>\n",
              "    </tr>\n",
              "    <tr>\n",
              "      <th>DecisionTreeClassifier</th>\n",
              "      <td>0.610811</td>\n",
              "    </tr>\n",
              "    <tr>\n",
              "      <th>SGDClassifier</th>\n",
              "      <td>0.697297</td>\n",
              "    </tr>\n",
              "    <tr>\n",
              "      <th>SVC</th>\n",
              "      <td>0.740541</td>\n",
              "    </tr>\n",
              "    <tr>\n",
              "      <th>LogisticRegression</th>\n",
              "      <td>0.783784</td>\n",
              "    </tr>\n",
              "    <tr>\n",
              "      <th>XGBClassifier</th>\n",
              "      <td>0.735135</td>\n",
              "    </tr>\n",
              "    <tr>\n",
              "      <th>LGBMClassifier</th>\n",
              "      <td>0.718919</td>\n",
              "    </tr>\n",
              "  </tbody>\n",
              "</table>\n",
              "</div>"
            ],
            "text/plain": [
              "                        Recall RUS\n",
              "RandomForestClassifier    0.670270\n",
              "DecisionTreeClassifier    0.610811\n",
              "SGDClassifier             0.697297\n",
              "SVC                       0.740541\n",
              "LogisticRegression        0.783784\n",
              "XGBClassifier             0.735135\n",
              "LGBMClassifier            0.718919"
            ]
          },
          "metadata": {
            "tags": []
          },
          "execution_count": 126
        }
      ]
    },
    {
      "cell_type": "markdown",
      "metadata": {
        "id": "LFsCy6r7rvDb",
        "colab_type": "text"
      },
      "source": [
        "O resultado de Recall melhorou significativamente utilizando os dados balanceados. Agora podemos escolher o modelo com qual trabalhar para prever os resultados. Escolherei o modelo LGBMClassifier por sua diversidade de parâmetros que podem ser ajustados para melhorar os resultados."
      ]
    },
    {
      "cell_type": "markdown",
      "metadata": {
        "id": "6vL-VKZNsnnG",
        "colab_type": "text"
      },
      "source": [
        "### Ajuste de Hiperparâmetros\n",
        "\n",
        "Modelos de Machine Learning possuem parâmetros importantes que definem como eles aprendem e prevêm resultados. Diferentes parâmetros geram diferentes modelos e consequentemente diferentes resultados. Devido à complexidade dos modelos não existe uma maneira analítica fácil de definir a combinação ideal de parâmetros para cada problema. O ajuste de hiperparâmetros então pode ser realizado de maneira iterativa usando a velocidade de processamento do computador, que testa diversas combinações e retorna a melhor delas para que seja utilizada.\n",
        "\n",
        "Vamos testar diversas combinações para tentar encontrar melhores resultados na previsão do modelo. O significado destes parâmetros não será abordado neste artigo mas pode ser encontrado neste [material](https://lightgbm.readthedocs.io/en/latest/Parameters-Tuning.html)."
      ]
    },
    {
      "cell_type": "code",
      "metadata": {
        "id": "bExPhqXbuC_q",
        "colab_type": "code",
        "colab": {
          "base_uri": "https://localhost:8080/",
          "height": 34
        },
        "outputId": "4416b6de-f74e-49de-a232-3a8a24070380"
      },
      "source": [
        "lgbm = LGBMClassifier()\n",
        "\n",
        "param_grid = {\n",
        "    'learning_rate':[0.001, 0.01, 0.1, 1],\n",
        "    'max_depth':[2, 4, 6, 8, 10],\n",
        "    'num_leaves':[1, 2, 4, 8, 16, 32, 64, 128],\n",
        "    'min_data_in_leaf':range(0, 500, 50)\n",
        "}\n",
        "\n",
        "kfold = StratifiedKFold(n_splits=10, shuffle=True)\n",
        "grid_search = GridSearchCV(lgbm, param_grid, scoring='recall', n_jobs=-1, cv=kfold)\n",
        "grid_result = grid_search.fit(X_rus_norm, Y_rus)\n",
        "\n",
        "print('Best score: {} for {}'.format(grid_result.best_score_, grid_result.best_params_))"
      ],
      "execution_count": 127,
      "outputs": [
        {
          "output_type": "stream",
          "text": [
            "Best score: 0.7953216374269005 for {'learning_rate': 1, 'max_depth': 2, 'min_data_in_leaf': 0, 'num_leaves': 2}\n"
          ],
          "name": "stdout"
        }
      ]
    },
    {
      "cell_type": "markdown",
      "metadata": {
        "id": "XSQJc5mm4LH2",
        "colab_type": "text"
      },
      "source": [
        "Os resultados melhoraram significativamente com o ajuste. Agora é possível treinar o modelo com a melhor combinação e testá-lo com os dados de teste.\n"
      ]
    },
    {
      "cell_type": "markdown",
      "metadata": {
        "id": "R4wbIb59omfQ",
        "colab_type": "text"
      },
      "source": [
        "### Validação do Modelo\n",
        "\n",
        "Esta é a etapa em que o modelo criado é testado e sua acurácia é analisada. Para isso utilizaremos reports de classificação e matrizes de confusão.\n"
      ]
    },
    {
      "cell_type": "code",
      "metadata": {
        "id": "u3lG21yT4dFR",
        "colab_type": "code",
        "colab": {
          "base_uri": "https://localhost:8080/",
          "height": 531
        },
        "outputId": "f647a0a9-b3b1-448e-a102-78f5832a31f0"
      },
      "source": [
        "lgbm = LGBMClassifier(learning_rate=1, max_depth=2, min_data_in_leaf=0, num_leaves=2)\n",
        "lgbm.fit(X_rus_norm, Y_rus)\n",
        "\n",
        "Y_pred = lgbm.predict(X_test_rus_norm)\n",
        "\n",
        "print(classification_report(Y_test, Y_pred))\n",
        "\n",
        "plot_confusion_matrix(lgbm, X_test_rus_norm, Y_test)\n",
        "plt.show()\n"
      ],
      "execution_count": 145,
      "outputs": [
        {
          "output_type": "stream",
          "text": [
            "              precision    recall  f1-score   support\n",
            "\n",
            "           0       0.93      0.71      0.81       242\n",
            "           1       0.36      0.75      0.48        52\n",
            "\n",
            "    accuracy                           0.72       294\n",
            "   macro avg       0.64      0.73      0.65       294\n",
            "weighted avg       0.83      0.72      0.75       294\n",
            "\n"
          ],
          "name": "stdout"
        },
        {
          "output_type": "display_data",
          "data": {
            "text/plain": [
              "<Figure size 432x288 with 2 Axes>"
            ],
            "image/svg+xml": "<?xml version=\"1.0\" encoding=\"utf-8\" standalone=\"no\"?>\n<!DOCTYPE svg PUBLIC \"-//W3C//DTD SVG 1.1//EN\"\n  \"http://www.w3.org/Graphics/SVG/1.1/DTD/svg11.dtd\">\n<!-- Created with matplotlib (https://matplotlib.org/) -->\n<svg height=\"267.599688pt\" version=\"1.1\" viewBox=\"0 0 322.06075 267.599688\" width=\"322.06075pt\" xmlns=\"http://www.w3.org/2000/svg\" xmlns:xlink=\"http://www.w3.org/1999/xlink\">\n <defs>\n  <style type=\"text/css\">\n*{stroke-linecap:butt;stroke-linejoin:round;}\n  </style>\n </defs>\n <g id=\"figure_1\">\n  <g id=\"patch_1\">\n   <path d=\"M 0 267.599688 \nL 322.06075 267.599688 \nL 322.06075 0 \nL 0 0 \nz\n\" style=\"fill:#ffffff;\"/>\n  </g>\n  <g id=\"axes_1\">\n   <g id=\"patch_2\">\n    <path d=\"M 39.3125 224.64 \nL 256.7525 224.64 \nL 256.7525 7.2 \nL 39.3125 7.2 \nz\n\" style=\"fill:#eaeaf2;\"/>\n   </g>\n   <g clip-path=\"url(#p5ac982159b)\">\n    <image height=\"218\" id=\"imaged1df274179\" transform=\"scale(1 -1)translate(0 -218)\" width=\"218\" x=\"39.3125\" xlink:href=\"data:image/png;base64,\niVBORw0KGgoAAAANSUhEUgAAANoAAADaCAYAAADAHVzbAAAABHNCSVQICAgIfAhkiAAAAphJREFUeJzt1TERAkEABEEOLaQEJCh4Cah4IW8VFdSj4ZK5ouhWsMnUjm28zgu/5XlfvYBJ19UD4B8IDQJCg4DQICA0CAgNAkKDgNAgIDQICA0CQoOA0CAgNAgIDQJCg4DQICA0CAgNAkKDgNAgIDQICA0CQoOA0CAgNAgIDQJCg4DQICA0CAgNAkKDgNAgIDQICA0CQoOA0CAgNAgIDQJCg4DQICA0CAgNAkKDgNAgIDQICA0CQoOA0CAgNAgIDQJCg4DQICA0CAgNAkKDgNAgIDQICA0CQoOA0CAgNAgIDQJCg4DQICA0CAgNAkKDgNAgIDQICA0CQoOA0CAgNAgIDQJCg4DQICA0CAgNAkKDgNAgIDQICA0CQoOA0CAgNAgIDQJCg4DQICA0CAgNAkKDgNAgIDQICA0CQoOA0CAgNAgIDQJCg4DQICA0CAgNAkKDgNAgIDQICA0CQoOA0CAwPu/buXoEcx7HvnoCkzwaBIQGAaFBQGgQEBoEhAYBoUFAaBAQGgSEBgGhQUBoEBAaBIQGAaFBQGgQEBoEhAYBoUFAaBAQGgSEBgGhQUBoEBAaBIQGAaFBQGgQEBoEhAYBoUFAaBAQGgSEBgGhQUBoEBAaBIQGAaFBQGgQEBoEhAYBoUFAaBAQGgSEBgGhQUBoEBAaBIQGAaFBQGgQEBoEhAYBoUFAaBAQGgSEBgGhQUBoEBAaBIQGAaFBQGgQEBoEhAYBoUFAaBAQGgSEBgGhQUBoEBAaBIQGAaFBQGgQEBoEhAYBoUFAaBAQGgSEBgGhQUBoEBAaBIQGAaFBQGgQEBoEhAYBoUFAaBAQGgSEBgGhQUBoEBAaBIQGAaFBQGgQEBoEhAYBoUFAaBAQGgSEBgGhQUBoEPgC7E8H1vnCCdIAAAAASUVORK5CYII=\" y=\"-6.64\"/>\n   </g>\n   <g id=\"matplotlib.axis_1\">\n    <g id=\"xtick_1\">\n     <g id=\"text_1\">\n      <!-- 0 -->\n      <defs>\n       <path d=\"M 31.78125 66.40625 \nQ 24.171875 66.40625 20.328125 58.90625 \nQ 16.5 51.421875 16.5 36.375 \nQ 16.5 21.390625 20.328125 13.890625 \nQ 24.171875 6.390625 31.78125 6.390625 \nQ 39.453125 6.390625 43.28125 13.890625 \nQ 47.125 21.390625 47.125 36.375 \nQ 47.125 51.421875 43.28125 58.90625 \nQ 39.453125 66.40625 31.78125 66.40625 \nz\nM 31.78125 74.21875 \nQ 44.046875 74.21875 50.515625 64.515625 \nQ 56.984375 54.828125 56.984375 36.375 \nQ 56.984375 17.96875 50.515625 8.265625 \nQ 44.046875 -1.421875 31.78125 -1.421875 \nQ 19.53125 -1.421875 13.0625 8.265625 \nQ 6.59375 17.96875 6.59375 36.375 \nQ 6.59375 54.828125 13.0625 64.515625 \nQ 19.53125 74.21875 31.78125 74.21875 \nz\n\" id=\"DejaVuSans-48\"/>\n      </defs>\n      <g style=\"fill:#262626;\" transform=\"translate(90.173125 242.498281)scale(0.11 -0.11)\">\n       <use xlink:href=\"#DejaVuSans-48\"/>\n      </g>\n     </g>\n    </g>\n    <g id=\"xtick_2\">\n     <g id=\"text_2\">\n      <!-- 1 -->\n      <defs>\n       <path d=\"M 12.40625 8.296875 \nL 28.515625 8.296875 \nL 28.515625 63.921875 \nL 10.984375 60.40625 \nL 10.984375 69.390625 \nL 28.421875 72.90625 \nL 38.28125 72.90625 \nL 38.28125 8.296875 \nL 54.390625 8.296875 \nL 54.390625 0 \nL 12.40625 0 \nz\n\" id=\"DejaVuSans-49\"/>\n      </defs>\n      <g style=\"fill:#262626;\" transform=\"translate(198.893125 242.498281)scale(0.11 -0.11)\">\n       <use xlink:href=\"#DejaVuSans-49\"/>\n      </g>\n     </g>\n    </g>\n    <g id=\"text_3\">\n     <!-- Predicted label -->\n     <defs>\n      <path d=\"M 19.671875 64.796875 \nL 19.671875 37.40625 \nL 32.078125 37.40625 \nQ 38.96875 37.40625 42.71875 40.96875 \nQ 46.484375 44.53125 46.484375 51.125 \nQ 46.484375 57.671875 42.71875 61.234375 \nQ 38.96875 64.796875 32.078125 64.796875 \nz\nM 9.8125 72.90625 \nL 32.078125 72.90625 \nQ 44.34375 72.90625 50.609375 67.359375 \nQ 56.890625 61.8125 56.890625 51.125 \nQ 56.890625 40.328125 50.609375 34.8125 \nQ 44.34375 29.296875 32.078125 29.296875 \nL 19.671875 29.296875 \nL 19.671875 0 \nL 9.8125 0 \nz\n\" id=\"DejaVuSans-80\"/>\n      <path d=\"M 41.109375 46.296875 \nQ 39.59375 47.171875 37.8125 47.578125 \nQ 36.03125 48 33.890625 48 \nQ 26.265625 48 22.1875 43.046875 \nQ 18.109375 38.09375 18.109375 28.8125 \nL 18.109375 0 \nL 9.078125 0 \nL 9.078125 54.6875 \nL 18.109375 54.6875 \nL 18.109375 46.1875 \nQ 20.953125 51.171875 25.484375 53.578125 \nQ 30.03125 56 36.53125 56 \nQ 37.453125 56 38.578125 55.875 \nQ 39.703125 55.765625 41.0625 55.515625 \nz\n\" id=\"DejaVuSans-114\"/>\n      <path d=\"M 56.203125 29.59375 \nL 56.203125 25.203125 \nL 14.890625 25.203125 \nQ 15.484375 15.921875 20.484375 11.0625 \nQ 25.484375 6.203125 34.421875 6.203125 \nQ 39.59375 6.203125 44.453125 7.46875 \nQ 49.3125 8.734375 54.109375 11.28125 \nL 54.109375 2.78125 \nQ 49.265625 0.734375 44.1875 -0.34375 \nQ 39.109375 -1.421875 33.890625 -1.421875 \nQ 20.796875 -1.421875 13.15625 6.1875 \nQ 5.515625 13.8125 5.515625 26.8125 \nQ 5.515625 40.234375 12.765625 48.109375 \nQ 20.015625 56 32.328125 56 \nQ 43.359375 56 49.78125 48.890625 \nQ 56.203125 41.796875 56.203125 29.59375 \nz\nM 47.21875 32.234375 \nQ 47.125 39.59375 43.09375 43.984375 \nQ 39.0625 48.390625 32.421875 48.390625 \nQ 24.90625 48.390625 20.390625 44.140625 \nQ 15.875 39.890625 15.1875 32.171875 \nz\n\" id=\"DejaVuSans-101\"/>\n      <path d=\"M 45.40625 46.390625 \nL 45.40625 75.984375 \nL 54.390625 75.984375 \nL 54.390625 0 \nL 45.40625 0 \nL 45.40625 8.203125 \nQ 42.578125 3.328125 38.25 0.953125 \nQ 33.9375 -1.421875 27.875 -1.421875 \nQ 17.96875 -1.421875 11.734375 6.484375 \nQ 5.515625 14.40625 5.515625 27.296875 \nQ 5.515625 40.1875 11.734375 48.09375 \nQ 17.96875 56 27.875 56 \nQ 33.9375 56 38.25 53.625 \nQ 42.578125 51.265625 45.40625 46.390625 \nz\nM 14.796875 27.296875 \nQ 14.796875 17.390625 18.875 11.75 \nQ 22.953125 6.109375 30.078125 6.109375 \nQ 37.203125 6.109375 41.296875 11.75 \nQ 45.40625 17.390625 45.40625 27.296875 \nQ 45.40625 37.203125 41.296875 42.84375 \nQ 37.203125 48.484375 30.078125 48.484375 \nQ 22.953125 48.484375 18.875 42.84375 \nQ 14.796875 37.203125 14.796875 27.296875 \nz\n\" id=\"DejaVuSans-100\"/>\n      <path d=\"M 9.421875 54.6875 \nL 18.40625 54.6875 \nL 18.40625 0 \nL 9.421875 0 \nz\nM 9.421875 75.984375 \nL 18.40625 75.984375 \nL 18.40625 64.59375 \nL 9.421875 64.59375 \nz\n\" id=\"DejaVuSans-105\"/>\n      <path d=\"M 48.78125 52.59375 \nL 48.78125 44.1875 \nQ 44.96875 46.296875 41.140625 47.34375 \nQ 37.3125 48.390625 33.40625 48.390625 \nQ 24.65625 48.390625 19.8125 42.84375 \nQ 14.984375 37.3125 14.984375 27.296875 \nQ 14.984375 17.28125 19.8125 11.734375 \nQ 24.65625 6.203125 33.40625 6.203125 \nQ 37.3125 6.203125 41.140625 7.25 \nQ 44.96875 8.296875 48.78125 10.40625 \nL 48.78125 2.09375 \nQ 45.015625 0.34375 40.984375 -0.53125 \nQ 36.96875 -1.421875 32.421875 -1.421875 \nQ 20.0625 -1.421875 12.78125 6.34375 \nQ 5.515625 14.109375 5.515625 27.296875 \nQ 5.515625 40.671875 12.859375 48.328125 \nQ 20.21875 56 33.015625 56 \nQ 37.15625 56 41.109375 55.140625 \nQ 45.0625 54.296875 48.78125 52.59375 \nz\n\" id=\"DejaVuSans-99\"/>\n      <path d=\"M 18.3125 70.21875 \nL 18.3125 54.6875 \nL 36.8125 54.6875 \nL 36.8125 47.703125 \nL 18.3125 47.703125 \nL 18.3125 18.015625 \nQ 18.3125 11.328125 20.140625 9.421875 \nQ 21.96875 7.515625 27.59375 7.515625 \nL 36.8125 7.515625 \nL 36.8125 0 \nL 27.59375 0 \nQ 17.1875 0 13.234375 3.875 \nQ 9.28125 7.765625 9.28125 18.015625 \nL 9.28125 47.703125 \nL 2.6875 47.703125 \nL 2.6875 54.6875 \nL 9.28125 54.6875 \nL 9.28125 70.21875 \nz\n\" id=\"DejaVuSans-116\"/>\n      <path id=\"DejaVuSans-32\"/>\n      <path d=\"M 9.421875 75.984375 \nL 18.40625 75.984375 \nL 18.40625 0 \nL 9.421875 0 \nz\n\" id=\"DejaVuSans-108\"/>\n      <path d=\"M 34.28125 27.484375 \nQ 23.390625 27.484375 19.1875 25 \nQ 14.984375 22.515625 14.984375 16.5 \nQ 14.984375 11.71875 18.140625 8.90625 \nQ 21.296875 6.109375 26.703125 6.109375 \nQ 34.1875 6.109375 38.703125 11.40625 \nQ 43.21875 16.703125 43.21875 25.484375 \nL 43.21875 27.484375 \nz\nM 52.203125 31.203125 \nL 52.203125 0 \nL 43.21875 0 \nL 43.21875 8.296875 \nQ 40.140625 3.328125 35.546875 0.953125 \nQ 30.953125 -1.421875 24.3125 -1.421875 \nQ 15.921875 -1.421875 10.953125 3.296875 \nQ 6 8.015625 6 15.921875 \nQ 6 25.140625 12.171875 29.828125 \nQ 18.359375 34.515625 30.609375 34.515625 \nL 43.21875 34.515625 \nL 43.21875 35.40625 \nQ 43.21875 41.609375 39.140625 45 \nQ 35.0625 48.390625 27.6875 48.390625 \nQ 23 48.390625 18.546875 47.265625 \nQ 14.109375 46.140625 10.015625 43.890625 \nL 10.015625 52.203125 \nQ 14.9375 54.109375 19.578125 55.046875 \nQ 24.21875 56 28.609375 56 \nQ 40.484375 56 46.34375 49.84375 \nQ 52.203125 43.703125 52.203125 31.203125 \nz\n\" id=\"DejaVuSans-97\"/>\n      <path d=\"M 48.6875 27.296875 \nQ 48.6875 37.203125 44.609375 42.84375 \nQ 40.53125 48.484375 33.40625 48.484375 \nQ 26.265625 48.484375 22.1875 42.84375 \nQ 18.109375 37.203125 18.109375 27.296875 \nQ 18.109375 17.390625 22.1875 11.75 \nQ 26.265625 6.109375 33.40625 6.109375 \nQ 40.53125 6.109375 44.609375 11.75 \nQ 48.6875 17.390625 48.6875 27.296875 \nz\nM 18.109375 46.390625 \nQ 20.953125 51.265625 25.265625 53.625 \nQ 29.59375 56 35.59375 56 \nQ 45.5625 56 51.78125 48.09375 \nQ 58.015625 40.1875 58.015625 27.296875 \nQ 58.015625 14.40625 51.78125 6.484375 \nQ 45.5625 -1.421875 35.59375 -1.421875 \nQ 29.59375 -1.421875 25.265625 0.953125 \nQ 20.953125 3.328125 18.109375 8.203125 \nL 18.109375 0 \nL 9.078125 0 \nL 9.078125 75.984375 \nL 18.109375 75.984375 \nz\n\" id=\"DejaVuSans-98\"/>\n     </defs>\n     <g style=\"fill:#262626;\" transform=\"translate(103.449687 257.904063)scale(0.12 -0.12)\">\n      <use xlink:href=\"#DejaVuSans-80\"/>\n      <use x=\"58.552734\" xlink:href=\"#DejaVuSans-114\"/>\n      <use x=\"97.416016\" xlink:href=\"#DejaVuSans-101\"/>\n      <use x=\"158.939453\" xlink:href=\"#DejaVuSans-100\"/>\n      <use x=\"222.416016\" xlink:href=\"#DejaVuSans-105\"/>\n      <use x=\"250.199219\" xlink:href=\"#DejaVuSans-99\"/>\n      <use x=\"305.179688\" xlink:href=\"#DejaVuSans-116\"/>\n      <use x=\"344.388672\" xlink:href=\"#DejaVuSans-101\"/>\n      <use x=\"405.912109\" xlink:href=\"#DejaVuSans-100\"/>\n      <use x=\"469.388672\" xlink:href=\"#DejaVuSans-32\"/>\n      <use x=\"501.175781\" xlink:href=\"#DejaVuSans-108\"/>\n      <use x=\"528.958984\" xlink:href=\"#DejaVuSans-97\"/>\n      <use x=\"590.238281\" xlink:href=\"#DejaVuSans-98\"/>\n      <use x=\"653.714844\" xlink:href=\"#DejaVuSans-101\"/>\n      <use x=\"715.238281\" xlink:href=\"#DejaVuSans-108\"/>\n     </g>\n    </g>\n   </g>\n   <g id=\"matplotlib.axis_2\">\n    <g id=\"ytick_1\">\n     <g id=\"text_4\">\n      <!-- 0 -->\n      <g style=\"fill:#262626;\" transform=\"translate(22.81375 65.739141)scale(0.11 -0.11)\">\n       <use xlink:href=\"#DejaVuSans-48\"/>\n      </g>\n     </g>\n    </g>\n    <g id=\"ytick_2\">\n     <g id=\"text_5\">\n      <!-- 1 -->\n      <g style=\"fill:#262626;\" transform=\"translate(22.81375 174.459141)scale(0.11 -0.11)\">\n       <use xlink:href=\"#DejaVuSans-49\"/>\n      </g>\n     </g>\n    </g>\n    <g id=\"text_6\">\n     <!-- True label -->\n     <defs>\n      <path d=\"M -0.296875 72.90625 \nL 61.375 72.90625 \nL 61.375 64.59375 \nL 35.5 64.59375 \nL 35.5 0 \nL 25.59375 0 \nL 25.59375 64.59375 \nL -0.296875 64.59375 \nz\n\" id=\"DejaVuSans-84\"/>\n      <path d=\"M 8.5 21.578125 \nL 8.5 54.6875 \nL 17.484375 54.6875 \nL 17.484375 21.921875 \nQ 17.484375 14.15625 20.5 10.265625 \nQ 23.53125 6.390625 29.59375 6.390625 \nQ 36.859375 6.390625 41.078125 11.03125 \nQ 45.3125 15.671875 45.3125 23.6875 \nL 45.3125 54.6875 \nL 54.296875 54.6875 \nL 54.296875 0 \nL 45.3125 0 \nL 45.3125 8.40625 \nQ 42.046875 3.421875 37.71875 1 \nQ 33.40625 -1.421875 27.6875 -1.421875 \nQ 18.265625 -1.421875 13.375 4.4375 \nQ 8.5 10.296875 8.5 21.578125 \nz\nM 31.109375 56 \nz\n\" id=\"DejaVuSans-117\"/>\n     </defs>\n     <g style=\"fill:#262626;\" transform=\"translate(16.318125 145.079063)rotate(-90)scale(0.12 -0.12)\">\n      <use xlink:href=\"#DejaVuSans-84\"/>\n      <use x=\"46.333984\" xlink:href=\"#DejaVuSans-114\"/>\n      <use x=\"87.447266\" xlink:href=\"#DejaVuSans-117\"/>\n      <use x=\"150.826172\" xlink:href=\"#DejaVuSans-101\"/>\n      <use x=\"212.349609\" xlink:href=\"#DejaVuSans-32\"/>\n      <use x=\"244.136719\" xlink:href=\"#DejaVuSans-108\"/>\n      <use x=\"271.919922\" xlink:href=\"#DejaVuSans-97\"/>\n      <use x=\"333.199219\" xlink:href=\"#DejaVuSans-98\"/>\n      <use x=\"396.675781\" xlink:href=\"#DejaVuSans-101\"/>\n      <use x=\"458.199219\" xlink:href=\"#DejaVuSans-108\"/>\n     </g>\n    </g>\n   </g>\n   <g id=\"patch_3\">\n    <path d=\"M 39.3125 224.64 \nL 39.3125 7.2 \n\" style=\"fill:none;stroke:#ffffff;stroke-linecap:square;stroke-linejoin:miter;stroke-width:1.25;\"/>\n   </g>\n   <g id=\"patch_4\">\n    <path d=\"M 256.7525 224.64 \nL 256.7525 7.2 \n\" style=\"fill:none;stroke:#ffffff;stroke-linecap:square;stroke-linejoin:miter;stroke-width:1.25;\"/>\n   </g>\n   <g id=\"patch_5\">\n    <path d=\"M 39.3125 224.64 \nL 256.7525 224.64 \n\" style=\"fill:none;stroke:#ffffff;stroke-linecap:square;stroke-linejoin:miter;stroke-width:1.25;\"/>\n   </g>\n   <g id=\"patch_6\">\n    <path d=\"M 39.3125 7.2 \nL 256.7525 7.2 \n\" style=\"fill:none;stroke:#ffffff;stroke-linecap:square;stroke-linejoin:miter;stroke-width:1.25;\"/>\n   </g>\n   <g id=\"text_7\">\n    <!-- 1.7e+02 -->\n    <defs>\n     <path d=\"M 10.6875 12.40625 \nL 21 12.40625 \nL 21 0 \nL 10.6875 0 \nz\n\" id=\"DejaVuSans-46\"/>\n     <path d=\"M 8.203125 72.90625 \nL 55.078125 72.90625 \nL 55.078125 68.703125 \nL 28.609375 0 \nL 18.3125 0 \nL 43.21875 64.59375 \nL 8.203125 64.59375 \nz\n\" id=\"DejaVuSans-55\"/>\n     <path d=\"M 46 62.703125 \nL 46 35.5 \nL 73.1875 35.5 \nL 73.1875 27.203125 \nL 46 27.203125 \nL 46 0 \nL 37.796875 0 \nL 37.796875 27.203125 \nL 10.59375 27.203125 \nL 10.59375 35.5 \nL 37.796875 35.5 \nL 37.796875 62.703125 \nz\n\" id=\"DejaVuSans-43\"/>\n     <path d=\"M 19.1875 8.296875 \nL 53.609375 8.296875 \nL 53.609375 0 \nL 7.328125 0 \nL 7.328125 8.296875 \nQ 12.9375 14.109375 22.625 23.890625 \nQ 32.328125 33.6875 34.8125 36.53125 \nQ 39.546875 41.84375 41.421875 45.53125 \nQ 43.3125 49.21875 43.3125 52.78125 \nQ 43.3125 58.59375 39.234375 62.25 \nQ 35.15625 65.921875 28.609375 65.921875 \nQ 23.96875 65.921875 18.8125 64.3125 \nQ 13.671875 62.703125 7.8125 59.421875 \nL 7.8125 69.390625 \nQ 13.765625 71.78125 18.9375 73 \nQ 24.125 74.21875 28.421875 74.21875 \nQ 39.75 74.21875 46.484375 68.546875 \nQ 53.21875 62.890625 53.21875 53.421875 \nQ 53.21875 48.921875 51.53125 44.890625 \nQ 49.859375 40.875 45.40625 35.40625 \nQ 44.1875 33.984375 37.640625 27.21875 \nQ 31.109375 20.453125 19.1875 8.296875 \nz\n\" id=\"DejaVuSans-50\"/>\n    </defs>\n    <g style=\"fill:#440154;\" transform=\"translate(67.775937 64.87125)scale(0.12 -0.12)\">\n     <use xlink:href=\"#DejaVuSans-49\"/>\n     <use x=\"63.623047\" xlink:href=\"#DejaVuSans-46\"/>\n     <use x=\"95.410156\" xlink:href=\"#DejaVuSans-55\"/>\n     <use x=\"159.033203\" xlink:href=\"#DejaVuSans-101\"/>\n     <use x=\"220.556641\" xlink:href=\"#DejaVuSans-43\"/>\n     <use x=\"304.345703\" xlink:href=\"#DejaVuSans-48\"/>\n     <use x=\"367.96875\" xlink:href=\"#DejaVuSans-50\"/>\n    </g>\n   </g>\n   <g id=\"text_8\">\n    <!-- 70 -->\n    <g style=\"fill:#fde725;\" transform=\"translate(194.7575 64.87125)scale(0.12 -0.12)\">\n     <use xlink:href=\"#DejaVuSans-55\"/>\n     <use x=\"63.623047\" xlink:href=\"#DejaVuSans-48\"/>\n    </g>\n   </g>\n   <g id=\"text_9\">\n    <!-- 13 -->\n    <defs>\n     <path d=\"M 40.578125 39.3125 \nQ 47.65625 37.796875 51.625 33 \nQ 55.609375 28.21875 55.609375 21.1875 \nQ 55.609375 10.40625 48.1875 4.484375 \nQ 40.765625 -1.421875 27.09375 -1.421875 \nQ 22.515625 -1.421875 17.65625 -0.515625 \nQ 12.796875 0.390625 7.625 2.203125 \nL 7.625 11.71875 \nQ 11.71875 9.328125 16.59375 8.109375 \nQ 21.484375 6.890625 26.8125 6.890625 \nQ 36.078125 6.890625 40.9375 10.546875 \nQ 45.796875 14.203125 45.796875 21.1875 \nQ 45.796875 27.640625 41.28125 31.265625 \nQ 36.765625 34.90625 28.71875 34.90625 \nL 20.21875 34.90625 \nL 20.21875 43.015625 \nL 29.109375 43.015625 \nQ 36.375 43.015625 40.234375 45.921875 \nQ 44.09375 48.828125 44.09375 54.296875 \nQ 44.09375 59.90625 40.109375 62.90625 \nQ 36.140625 65.921875 28.71875 65.921875 \nQ 24.65625 65.921875 20.015625 65.03125 \nQ 15.375 64.15625 9.8125 62.3125 \nL 9.8125 71.09375 \nQ 15.4375 72.65625 20.34375 73.4375 \nQ 25.25 74.21875 29.59375 74.21875 \nQ 40.828125 74.21875 47.359375 69.109375 \nQ 53.90625 64.015625 53.90625 55.328125 \nQ 53.90625 49.265625 50.4375 45.09375 \nQ 46.96875 40.921875 40.578125 39.3125 \nz\n\" id=\"DejaVuSans-51\"/>\n    </defs>\n    <g style=\"fill:#fde725;\" transform=\"translate(86.0375 173.59125)scale(0.12 -0.12)\">\n     <use xlink:href=\"#DejaVuSans-49\"/>\n     <use x=\"63.623047\" xlink:href=\"#DejaVuSans-51\"/>\n    </g>\n   </g>\n   <g id=\"text_10\">\n    <!-- 39 -->\n    <defs>\n     <path d=\"M 10.984375 1.515625 \nL 10.984375 10.5 \nQ 14.703125 8.734375 18.5 7.8125 \nQ 22.3125 6.890625 25.984375 6.890625 \nQ 35.75 6.890625 40.890625 13.453125 \nQ 46.046875 20.015625 46.78125 33.40625 \nQ 43.953125 29.203125 39.59375 26.953125 \nQ 35.25 24.703125 29.984375 24.703125 \nQ 19.046875 24.703125 12.671875 31.3125 \nQ 6.296875 37.9375 6.296875 49.421875 \nQ 6.296875 60.640625 12.9375 67.421875 \nQ 19.578125 74.21875 30.609375 74.21875 \nQ 43.265625 74.21875 49.921875 64.515625 \nQ 56.59375 54.828125 56.59375 36.375 \nQ 56.59375 19.140625 48.40625 8.859375 \nQ 40.234375 -1.421875 26.421875 -1.421875 \nQ 22.703125 -1.421875 18.890625 -0.6875 \nQ 15.09375 0.046875 10.984375 1.515625 \nz\nM 30.609375 32.421875 \nQ 37.25 32.421875 41.125 36.953125 \nQ 45.015625 41.5 45.015625 49.421875 \nQ 45.015625 57.28125 41.125 61.84375 \nQ 37.25 66.40625 30.609375 66.40625 \nQ 23.96875 66.40625 20.09375 61.84375 \nQ 16.21875 57.28125 16.21875 49.421875 \nQ 16.21875 41.5 20.09375 36.953125 \nQ 23.96875 32.421875 30.609375 32.421875 \nz\n\" id=\"DejaVuSans-57\"/>\n    </defs>\n    <g style=\"fill:#fde725;\" transform=\"translate(194.7575 173.59125)scale(0.12 -0.12)\">\n     <use xlink:href=\"#DejaVuSans-51\"/>\n     <use x=\"63.623047\" xlink:href=\"#DejaVuSans-57\"/>\n    </g>\n   </g>\n  </g>\n  <g id=\"axes_2\">\n   <g id=\"patch_7\">\n    <path clip-path=\"url(#p785ebde8ae)\" d=\"M 273.4925 224.64 \nL 273.4925 223.790625 \nL 273.4925 8.049375 \nL 273.4925 7.2 \nL 284.3645 7.2 \nL 284.3645 8.049375 \nL 284.3645 223.790625 \nL 284.3645 224.64 \nz\n\" style=\"fill:#eaeaf2;stroke:#eaeaf2;stroke-linejoin:miter;stroke-width:0.01;\"/>\n   </g>\n   <g id=\"matplotlib.axis_3\"/>\n   <g id=\"matplotlib.axis_4\">\n    <g id=\"ytick_3\">\n     <g id=\"line2d_1\">\n      <defs>\n       <path d=\"M 0 0 \nL 6 0 \n\" id=\"m237202744a\" style=\"stroke:#262626;stroke-width:1.25;\"/>\n      </defs>\n      <g>\n       <use style=\"fill:#262626;stroke:#262626;stroke-width:1.25;\" x=\"284.3645\" xlink:href=\"#m237202744a\" y=\"215.06717\"/>\n      </g>\n     </g>\n     <g id=\"text_11\">\n      <!-- 20 -->\n      <g style=\"fill:#262626;\" transform=\"translate(293.8645 219.24631)scale(0.11 -0.11)\">\n       <use xlink:href=\"#DejaVuSans-50\"/>\n       <use x=\"63.623047\" xlink:href=\"#DejaVuSans-48\"/>\n      </g>\n     </g>\n    </g>\n    <g id=\"ytick_4\">\n     <g id=\"line2d_2\">\n      <g>\n       <use style=\"fill:#262626;stroke:#262626;stroke-width:1.25;\" x=\"284.3645\" xlink:href=\"#m237202744a\" y=\"187.716226\"/>\n      </g>\n     </g>\n     <g id=\"text_12\">\n      <!-- 40 -->\n      <defs>\n       <path d=\"M 37.796875 64.3125 \nL 12.890625 25.390625 \nL 37.796875 25.390625 \nz\nM 35.203125 72.90625 \nL 47.609375 72.90625 \nL 47.609375 25.390625 \nL 58.015625 25.390625 \nL 58.015625 17.1875 \nL 47.609375 17.1875 \nL 47.609375 0 \nL 37.796875 0 \nL 37.796875 17.1875 \nL 4.890625 17.1875 \nL 4.890625 26.703125 \nz\n\" id=\"DejaVuSans-52\"/>\n      </defs>\n      <g style=\"fill:#262626;\" transform=\"translate(293.8645 191.895367)scale(0.11 -0.11)\">\n       <use xlink:href=\"#DejaVuSans-52\"/>\n       <use x=\"63.623047\" xlink:href=\"#DejaVuSans-48\"/>\n      </g>\n     </g>\n    </g>\n    <g id=\"ytick_5\">\n     <g id=\"line2d_3\">\n      <g>\n       <use style=\"fill:#262626;stroke:#262626;stroke-width:1.25;\" x=\"284.3645\" xlink:href=\"#m237202744a\" y=\"160.365283\"/>\n      </g>\n     </g>\n     <g id=\"text_13\">\n      <!-- 60 -->\n      <defs>\n       <path d=\"M 33.015625 40.375 \nQ 26.375 40.375 22.484375 35.828125 \nQ 18.609375 31.296875 18.609375 23.390625 \nQ 18.609375 15.53125 22.484375 10.953125 \nQ 26.375 6.390625 33.015625 6.390625 \nQ 39.65625 6.390625 43.53125 10.953125 \nQ 47.40625 15.53125 47.40625 23.390625 \nQ 47.40625 31.296875 43.53125 35.828125 \nQ 39.65625 40.375 33.015625 40.375 \nz\nM 52.59375 71.296875 \nL 52.59375 62.3125 \nQ 48.875 64.0625 45.09375 64.984375 \nQ 41.3125 65.921875 37.59375 65.921875 \nQ 27.828125 65.921875 22.671875 59.328125 \nQ 17.53125 52.734375 16.796875 39.40625 \nQ 19.671875 43.65625 24.015625 45.921875 \nQ 28.375 48.1875 33.59375 48.1875 \nQ 44.578125 48.1875 50.953125 41.515625 \nQ 57.328125 34.859375 57.328125 23.390625 \nQ 57.328125 12.15625 50.6875 5.359375 \nQ 44.046875 -1.421875 33.015625 -1.421875 \nQ 20.359375 -1.421875 13.671875 8.265625 \nQ 6.984375 17.96875 6.984375 36.375 \nQ 6.984375 53.65625 15.1875 63.9375 \nQ 23.390625 74.21875 37.203125 74.21875 \nQ 40.921875 74.21875 44.703125 73.484375 \nQ 48.484375 72.75 52.59375 71.296875 \nz\n\" id=\"DejaVuSans-54\"/>\n      </defs>\n      <g style=\"fill:#262626;\" transform=\"translate(293.8645 164.544424)scale(0.11 -0.11)\">\n       <use xlink:href=\"#DejaVuSans-54\"/>\n       <use x=\"63.623047\" xlink:href=\"#DejaVuSans-48\"/>\n      </g>\n     </g>\n    </g>\n    <g id=\"ytick_6\">\n     <g id=\"line2d_4\">\n      <g>\n       <use style=\"fill:#262626;stroke:#262626;stroke-width:1.25;\" x=\"284.3645\" xlink:href=\"#m237202744a\" y=\"133.01434\"/>\n      </g>\n     </g>\n     <g id=\"text_14\">\n      <!-- 80 -->\n      <defs>\n       <path d=\"M 31.78125 34.625 \nQ 24.75 34.625 20.71875 30.859375 \nQ 16.703125 27.09375 16.703125 20.515625 \nQ 16.703125 13.921875 20.71875 10.15625 \nQ 24.75 6.390625 31.78125 6.390625 \nQ 38.8125 6.390625 42.859375 10.171875 \nQ 46.921875 13.96875 46.921875 20.515625 \nQ 46.921875 27.09375 42.890625 30.859375 \nQ 38.875 34.625 31.78125 34.625 \nz\nM 21.921875 38.8125 \nQ 15.578125 40.375 12.03125 44.71875 \nQ 8.5 49.078125 8.5 55.328125 \nQ 8.5 64.0625 14.71875 69.140625 \nQ 20.953125 74.21875 31.78125 74.21875 \nQ 42.671875 74.21875 48.875 69.140625 \nQ 55.078125 64.0625 55.078125 55.328125 \nQ 55.078125 49.078125 51.53125 44.71875 \nQ 48 40.375 41.703125 38.8125 \nQ 48.828125 37.15625 52.796875 32.3125 \nQ 56.78125 27.484375 56.78125 20.515625 \nQ 56.78125 9.90625 50.3125 4.234375 \nQ 43.84375 -1.421875 31.78125 -1.421875 \nQ 19.734375 -1.421875 13.25 4.234375 \nQ 6.78125 9.90625 6.78125 20.515625 \nQ 6.78125 27.484375 10.78125 32.3125 \nQ 14.796875 37.15625 21.921875 38.8125 \nz\nM 18.3125 54.390625 \nQ 18.3125 48.734375 21.84375 45.5625 \nQ 25.390625 42.390625 31.78125 42.390625 \nQ 38.140625 42.390625 41.71875 45.5625 \nQ 45.3125 48.734375 45.3125 54.390625 \nQ 45.3125 60.0625 41.71875 63.234375 \nQ 38.140625 66.40625 31.78125 66.40625 \nQ 25.390625 66.40625 21.84375 63.234375 \nQ 18.3125 60.0625 18.3125 54.390625 \nz\n\" id=\"DejaVuSans-56\"/>\n      </defs>\n      <g style=\"fill:#262626;\" transform=\"translate(293.8645 137.19348)scale(0.11 -0.11)\">\n       <use xlink:href=\"#DejaVuSans-56\"/>\n       <use x=\"63.623047\" xlink:href=\"#DejaVuSans-48\"/>\n      </g>\n     </g>\n    </g>\n    <g id=\"ytick_7\">\n     <g id=\"line2d_5\">\n      <g>\n       <use style=\"fill:#262626;stroke:#262626;stroke-width:1.25;\" x=\"284.3645\" xlink:href=\"#m237202744a\" y=\"105.663396\"/>\n      </g>\n     </g>\n     <g id=\"text_15\">\n      <!-- 100 -->\n      <g style=\"fill:#262626;\" transform=\"translate(293.8645 109.842537)scale(0.11 -0.11)\">\n       <use xlink:href=\"#DejaVuSans-49\"/>\n       <use x=\"63.623047\" xlink:href=\"#DejaVuSans-48\"/>\n       <use x=\"127.246094\" xlink:href=\"#DejaVuSans-48\"/>\n      </g>\n     </g>\n    </g>\n    <g id=\"ytick_8\">\n     <g id=\"line2d_6\">\n      <g>\n       <use style=\"fill:#262626;stroke:#262626;stroke-width:1.25;\" x=\"284.3645\" xlink:href=\"#m237202744a\" y=\"78.312453\"/>\n      </g>\n     </g>\n     <g id=\"text_16\">\n      <!-- 120 -->\n      <g style=\"fill:#262626;\" transform=\"translate(293.8645 82.491593)scale(0.11 -0.11)\">\n       <use xlink:href=\"#DejaVuSans-49\"/>\n       <use x=\"63.623047\" xlink:href=\"#DejaVuSans-50\"/>\n       <use x=\"127.246094\" xlink:href=\"#DejaVuSans-48\"/>\n      </g>\n     </g>\n    </g>\n    <g id=\"ytick_9\">\n     <g id=\"line2d_7\">\n      <g>\n       <use style=\"fill:#262626;stroke:#262626;stroke-width:1.25;\" x=\"284.3645\" xlink:href=\"#m237202744a\" y=\"50.961509\"/>\n      </g>\n     </g>\n     <g id=\"text_17\">\n      <!-- 140 -->\n      <g style=\"fill:#262626;\" transform=\"translate(293.8645 55.14065)scale(0.11 -0.11)\">\n       <use xlink:href=\"#DejaVuSans-49\"/>\n       <use x=\"63.623047\" xlink:href=\"#DejaVuSans-52\"/>\n       <use x=\"127.246094\" xlink:href=\"#DejaVuSans-48\"/>\n      </g>\n     </g>\n    </g>\n    <g id=\"ytick_10\">\n     <g id=\"line2d_8\">\n      <g>\n       <use style=\"fill:#262626;stroke:#262626;stroke-width:1.25;\" x=\"284.3645\" xlink:href=\"#m237202744a\" y=\"23.610566\"/>\n      </g>\n     </g>\n     <g id=\"text_18\">\n      <!-- 160 -->\n      <g style=\"fill:#262626;\" transform=\"translate(293.8645 27.789707)scale(0.11 -0.11)\">\n       <use xlink:href=\"#DejaVuSans-49\"/>\n       <use x=\"63.623047\" xlink:href=\"#DejaVuSans-54\"/>\n       <use x=\"127.246094\" xlink:href=\"#DejaVuSans-48\"/>\n      </g>\n     </g>\n    </g>\n   </g>\n   <image height=\"217\" id=\"image948abc5727\" transform=\"scale(1 -1)translate(0 -217)\" width=\"11\" x=\"273\" xlink:href=\"data:image/png;base64,\niVBORw0KGgoAAAANSUhEUgAAAAsAAADZCAYAAAD2WsoCAAAABHNCSVQICAgIfAhkiAAAAVVJREFUaIHdmsmNAzEMBEVSk5ljcP6BrC2nwHoUQO28G40+SGGueOX7rOa1I6OLXXtF9sEe8yokgzAH0SwyA3BUWTKmpEGY2dRpI+rJmJHGYZrbWHOQRM3aWp2a0WAfS2WQnI+43USGNkjI4PFKYcwEjAyi6C5MAzHD4UfMAHylwRkNeqV4h7l4FIhpaDJmGGTMfaza4Iw0/n/dQxb2QuYhMuBs9Pd7THTidktpAMU8DaDZK8XLeUga4BbJNOgxx43MpG4kA9U9JLpkBq00PBlJ6hZlrBHRVX6JDCs6mAYAb2KQadYMejJYGqJmrRSieeenDy6xbiuNJ4BBdm6wNCyDRZgfUjdqsFiDAFzaIKHZQDl7DaKc2fAzGZZBOBta3ZoMb63QpjzxJzGLw88MeodMG0uZ+8Rrg4/Saz/geWkX+ZCRiJmAGTPRvBf4XafIPycJXlL9AEqsgWgkGf+NAAAAAElFTkSuQmCC\" y=\"-7\"/>\n   <g id=\"patch_8\">\n    <path d=\"M 273.4925 224.64 \nL 273.4925 223.790625 \nL 273.4925 8.049375 \nL 273.4925 7.2 \nL 284.3645 7.2 \nL 284.3645 8.049375 \nL 284.3645 223.790625 \nL 284.3645 224.64 \nz\n\" style=\"fill:none;stroke:#ffffff;stroke-linejoin:miter;stroke-width:1.25;\"/>\n   </g>\n  </g>\n </g>\n <defs>\n  <clipPath id=\"p5ac982159b\">\n   <rect height=\"217.44\" width=\"217.44\" x=\"39.3125\" y=\"7.2\"/>\n  </clipPath>\n  <clipPath id=\"p785ebde8ae\">\n   <rect height=\"217.44\" width=\"10.872\" x=\"273.4925\" y=\"7.2\"/>\n  </clipPath>\n </defs>\n</svg>\n"
          },
          "metadata": {
            "tags": []
          }
        }
      ]
    },
    {
      "cell_type": "markdown",
      "metadata": {
        "id": "IJeg_tPF9daP",
        "colab_type": "text"
      },
      "source": [
        "Apesar dos resultados satisfatórios de recall, o report de classificação mostra uma precisão de 0.36 para a classe 1. Mas o que isso significa?\n",
        "\n",
        "\n",
        "* Precisão - Uma precisão de 0.36 significa que quando o modelo prevê que um funcionário terá um conflito, em apenas 36% das vezes ele estará certo e em 64% dos casos isso será um falso positivo.\n",
        "\n",
        "* Recall - Um recall de 0.75 significa que o modelo vai conseguir identificar 75% de todos os casos de atrito que acontecerão, e 25% deles não serão previamente identificados.\n",
        "\n",
        "Esses conceitos são um pouco confusos portanto sugiro que leia novamente com calma caso não tenha compreendido.\n",
        "\n",
        "Um valor de precisão tão pequeno vai gerar muitos falsos positivos que irão custar muitas horas e custas de projetos do time de RH. Portanto é necessário melhorar esse resultado e a melhor maneira de fazer isso é analisando a curva de precisão e recall.\n",
        "\n",
        "Como previamente mencionado, modelos de classificação na realidade calculam a probabilidade de que um dado pertença a uma ou outra classe, e com base em uma probabilidade de referência definem a classe prevista daquele dado. Por exemplo, se a probabilidade de referência é 50% e o modelo estimar que existe 51% de probabilidade que um funcionário ter um conflito, ele vai classificar o colaborador no grupo de atrito. Porém se estipularmos para que o modelo apenas classifique como atrito os funcionários que tiverem mais de 75% ou 80% de probabilidade por exemplo, a quantidade de alarmes falsos irá diminuir.\n",
        "\n",
        "Se não definirmos uma probabilidade de referência o modelo acaba escolhendo por si mesmo, e em muitos problemas esse valor não é o ideal. Em uma curva de precisão e recall é possível observar o resultado dessas duas métricas para diferentes probabilidades de referência e então escolher aquela que entrega os melhores resultados para determinado objetivo. Vamos fazer isso.\n"
      ]
    },
    {
      "cell_type": "code",
      "metadata": {
        "id": "xWMMRybSMuvj",
        "colab_type": "code",
        "colab": {
          "base_uri": "https://localhost:8080/",
          "height": 467
        },
        "outputId": "439c2ee4-6660-4194-e4fc-c3cbf3964d45"
      },
      "source": [
        "\n",
        "Y_proba = lgbm.predict_proba(X_test_rus_norm)\n",
        "# Y_proba_unb = xgb_unb.predict_proba(X_test)\n",
        "\n",
        "# Keep probabilities for the positive outcome only\n",
        "Y_proba = Y_proba[:, 1]\n",
        "\n",
        "# Create a dataframe with precision and recall for each threshold\n",
        "curve = pd.DataFrame(precision_recall_curve(Y_test, Y_proba)).transpose()\n",
        "curve.columns = ['precision', 'recall', 'threshold']\n",
        "\n",
        "# print(curve)\n",
        "\n",
        "# Create a precision and recall curve to see the results for different thresholds\n",
        "fig = px.line(curve, x='recall', y='precision', hover_data=['threshold'])\n",
        "\n",
        "fig.show('png')"
      ],
      "execution_count": 146,
      "outputs": [
        {
          "output_type": "display_data",
          "data": {
            "image/png": "[encoded data removed]"
          },
          "metadata": {
            "tags": []
          }
        }
      ]
    },
    {
      "cell_type": "markdown",
      "metadata": {
        "id": "iCNWM4EbBfli",
        "colab_type": "text"
      },
      "source": [
        "Podemos ver que alguns valores melhoram um pouco os resultados das métricas, mas antes de alterar a referência irei fazer uma segunda análise.\n",
        "\n",
        "Uma outra opção para tentar obter um resultado melhor é trabalhar com o dataset original desbalanceado. Em muitos casos a redução do volume de dados é muito alta em um processo de balanceamento e acaba prejudicando mais o modelo do que ajudando. Utilizarei o modelo com os mesmos parâmetros apenas para fins de explicação mas o ideal é realizar o processo de ajuste de hiperparâmetros novamente."
      ]
    },
    {
      "cell_type": "code",
      "metadata": {
        "id": "yOeTfBUzWLar",
        "colab_type": "code",
        "colab": {
          "base_uri": "https://localhost:8080/",
          "height": 467
        },
        "outputId": "70c9725e-309b-419d-c118-c23bec50d071"
      },
      "source": [
        "# Create model for unbalanced dataset\n",
        "\n",
        "lgbm_unb = LGBMClassifier(learning_rate=1, max_depth=2, min_data_in_leaf=0, num_leaves=2)\n",
        "lgbm_unb.fit(X_train_norm, Y_train)\n",
        "\n",
        "Y_pred_unb = lgbm_unb.predict(X_test_norm)\n",
        "\n",
        "\n",
        "Y_proba_unb = lgbm_unb.predict_proba(X_test_norm)\n",
        "\n",
        "# Keep probabilities for the positive outcome only\n",
        "Y_proba_unb = Y_proba_unb[:, 1]\n",
        "\n",
        "# Create a dataframe with precision and recall for each threshold\n",
        "curve = pd.DataFrame(precision_recall_curve(Y_test, Y_proba_unb)).transpose()\n",
        "curve.columns = ['precision', 'recall', 'threshold']\n",
        "\n",
        "# print(curve)\n",
        "\n",
        "# Create a precision and recall curve to see the results for different thresholds\n",
        "fig = px.line(curve, x='recall', y='precision', hover_data=['threshold'])\n",
        "\n",
        "fig.show('png')"
      ],
      "execution_count": 164,
      "outputs": [
        {
          "output_type": "display_data",
          "data": {
            "image/png": "[encoded data removed]"
          },
          "metadata": {
            "tags": []
          }
        }
      ]
    },
    {
      "cell_type": "markdown",
      "metadata": {
        "id": "i11WN7pXaTJg",
        "colab_type": "text"
      },
      "source": [
        "Com o dataset original foram encontradas melhores combinações de precisão e recall na curva em algumas regiões de interesse. Vamos escolher a probabilidade de referência de 38% e testar o dataset novamente.\n"
      ]
    },
    {
      "cell_type": "code",
      "metadata": {
        "id": "KGcBgU5rBDZW",
        "colab_type": "code",
        "colab": {
          "base_uri": "https://localhost:8080/",
          "height": 170
        },
        "outputId": "766ea719-e839-4529-a18c-b6ab26495810"
      },
      "source": [
        "y_pred_adj = (lgbm_unb.predict_proba(X_test_norm)[:,1] >= 0.38).astype(bool) # set threshold as 0.38\n",
        "\n",
        "print(classification_report(Y_test, y_pred_adj))\n"
      ],
      "execution_count": 163,
      "outputs": [
        {
          "output_type": "stream",
          "text": [
            "              precision    recall  f1-score   support\n",
            "\n",
            "           0       0.91      0.93      0.92       242\n",
            "           1       0.66      0.60      0.63        52\n",
            "\n",
            "    accuracy                           0.87       294\n",
            "   macro avg       0.79      0.77      0.78       294\n",
            "weighted avg       0.87      0.87      0.87       294\n",
            "\n"
          ],
          "name": "stdout"
        }
      ]
    },
    {
      "cell_type": "markdown",
      "metadata": {
        "id": "wFxY4COJFFYQ",
        "colab_type": "text"
      },
      "source": [
        "Com a nova referência foi possível encontrar um resultado mais equilibrado entre precisão e recall, e melhorar a acurácia absoluta do modelo. Isso significa que terão menos falsos positivos, mas também terão alguns casos que passarão despercebidos pelo modelo. Mas o benefício no resultado de precisão do modelo vale a pena neste caso.\n",
        "\n",
        "Em resumo diferentes opções estão disponíveis e é possível ajustar as referências para se ter um modelo mais rígido ou mais flexível em termos de detecção de atritos.\n"
      ]
    },
    {
      "cell_type": "markdown",
      "metadata": {
        "id": "xDF_LMO6S1hl",
        "colab_type": "text"
      },
      "source": [
        "## Modelo de Clusterização\n",
        "\n",
        "Com o modelo de classificação conseguimos prever casos de atritos e agir antes que eles aconteçam para melhorar as relações e união dos times dentro da empresa. Porém isso não é a resposta para todos os problemas. Existem questões que esse modelo não consegue responder, como por exemplo:\n",
        "\n",
        "* O que fazer com funcionários que tiveram conflitos?\n",
        "\n",
        "* Quem são as referências da empresa em bons relacionamentos e quais as diferenças que esses grupos possuem?\n",
        "\n",
        "* Existe alguma forma de proteger os melhores talentos e a alta liderança de problemas críticos de relacionamento?\n",
        "\n",
        "Para desenvolver estratégias mais assertivas para cada colaborador é possível criar grupos baseados nesses perfis, identificando diferenças significativas entre eles e estabelecendo diferentes estratégias para lidar com a carreira de cada um. Vamos fazer isso e ver o que conseguimos encontrar com os dados disponíveis."
      ]
    },
    {
      "cell_type": "markdown",
      "metadata": {
        "id": "F9CJMkdxuGdJ",
        "colab_type": "text"
      },
      "source": [
        "### Seleção de Variáveis\n",
        "\n",
        "O primeiro ponto importante é definir quais são as variáveis relevantes para que o modelo seja treinado. É importante escolher um número suficiente para definir perfis de colaboradores, mas se incluírmos muitos o modelo pode perder significância prática.\n",
        "\n",
        "Dessa forma iremos escolher a variável de atritos e os resultados da pesquisa de clima e de performance deles. Para criar os clusters novamente é importante que os dados estejam em formato numérico, portanto começamos a análise realizando essa transformação.\n"
      ]
    },
    {
      "cell_type": "code",
      "metadata": {
        "id": "F5_5mRanbzrI",
        "colab_type": "code",
        "colab": {
          "base_uri": "https://localhost:8080/",
          "height": 439
        },
        "outputId": "e8cca1f6-915c-4490-b8a2-5520f38f0bb4"
      },
      "source": [
        "# allowing all the columns to be visualized\n",
        "pd.options.display.max_columns = None\n",
        "\n",
        "dfML = df[['Attrition', 'EnvironmentSatisfaction', 'JobInvolvement', 'JobSatisfaction', 'PerformanceRating', 'RelationshipSatisfaction', 'WorkLifeBalance']].copy()\n",
        "\n",
        "# dfML.drop(['DailyRate', 'EmployeeCount','EmployeeNumber', 'HourlyRate','JobLevel', 'MonthlyRate', 'Over18', 'StandardHours', 'StockOptionLevel'], axis=1, inplace=True)\n",
        "\n",
        "dfMLdum = pd.get_dummies(dfML)\n",
        "dfMLdum.drop(['Attrition_No'],axis=1,inplace=True)\n",
        "dfMLdum"
      ],
      "execution_count": 14,
      "outputs": [
        {
          "output_type": "execute_result",
          "data": {
            "text/html": [
              "<div>\n",
              "<style scoped>\n",
              "    .dataframe tbody tr th:only-of-type {\n",
              "        vertical-align: middle;\n",
              "    }\n",
              "\n",
              "    .dataframe tbody tr th {\n",
              "        vertical-align: top;\n",
              "    }\n",
              "\n",
              "    .dataframe thead th {\n",
              "        text-align: right;\n",
              "    }\n",
              "</style>\n",
              "<table border=\"1\" class=\"dataframe\">\n",
              "  <thead>\n",
              "    <tr style=\"text-align: right;\">\n",
              "      <th></th>\n",
              "      <th>EnvironmentSatisfaction</th>\n",
              "      <th>JobInvolvement</th>\n",
              "      <th>JobSatisfaction</th>\n",
              "      <th>PerformanceRating</th>\n",
              "      <th>RelationshipSatisfaction</th>\n",
              "      <th>WorkLifeBalance</th>\n",
              "      <th>Attrition_Yes</th>\n",
              "    </tr>\n",
              "  </thead>\n",
              "  <tbody>\n",
              "    <tr>\n",
              "      <th>0</th>\n",
              "      <td>2</td>\n",
              "      <td>3</td>\n",
              "      <td>4</td>\n",
              "      <td>3</td>\n",
              "      <td>1</td>\n",
              "      <td>1</td>\n",
              "      <td>1</td>\n",
              "    </tr>\n",
              "    <tr>\n",
              "      <th>1</th>\n",
              "      <td>3</td>\n",
              "      <td>2</td>\n",
              "      <td>2</td>\n",
              "      <td>4</td>\n",
              "      <td>4</td>\n",
              "      <td>3</td>\n",
              "      <td>0</td>\n",
              "    </tr>\n",
              "    <tr>\n",
              "      <th>2</th>\n",
              "      <td>4</td>\n",
              "      <td>2</td>\n",
              "      <td>3</td>\n",
              "      <td>3</td>\n",
              "      <td>2</td>\n",
              "      <td>3</td>\n",
              "      <td>1</td>\n",
              "    </tr>\n",
              "    <tr>\n",
              "      <th>3</th>\n",
              "      <td>4</td>\n",
              "      <td>3</td>\n",
              "      <td>3</td>\n",
              "      <td>3</td>\n",
              "      <td>3</td>\n",
              "      <td>3</td>\n",
              "      <td>0</td>\n",
              "    </tr>\n",
              "    <tr>\n",
              "      <th>4</th>\n",
              "      <td>1</td>\n",
              "      <td>3</td>\n",
              "      <td>2</td>\n",
              "      <td>3</td>\n",
              "      <td>4</td>\n",
              "      <td>3</td>\n",
              "      <td>0</td>\n",
              "    </tr>\n",
              "    <tr>\n",
              "      <th>...</th>\n",
              "      <td>...</td>\n",
              "      <td>...</td>\n",
              "      <td>...</td>\n",
              "      <td>...</td>\n",
              "      <td>...</td>\n",
              "      <td>...</td>\n",
              "      <td>...</td>\n",
              "    </tr>\n",
              "    <tr>\n",
              "      <th>1465</th>\n",
              "      <td>3</td>\n",
              "      <td>4</td>\n",
              "      <td>4</td>\n",
              "      <td>3</td>\n",
              "      <td>3</td>\n",
              "      <td>3</td>\n",
              "      <td>0</td>\n",
              "    </tr>\n",
              "    <tr>\n",
              "      <th>1466</th>\n",
              "      <td>4</td>\n",
              "      <td>2</td>\n",
              "      <td>1</td>\n",
              "      <td>3</td>\n",
              "      <td>1</td>\n",
              "      <td>3</td>\n",
              "      <td>0</td>\n",
              "    </tr>\n",
              "    <tr>\n",
              "      <th>1467</th>\n",
              "      <td>2</td>\n",
              "      <td>4</td>\n",
              "      <td>2</td>\n",
              "      <td>4</td>\n",
              "      <td>2</td>\n",
              "      <td>3</td>\n",
              "      <td>0</td>\n",
              "    </tr>\n",
              "    <tr>\n",
              "      <th>1468</th>\n",
              "      <td>4</td>\n",
              "      <td>2</td>\n",
              "      <td>2</td>\n",
              "      <td>3</td>\n",
              "      <td>4</td>\n",
              "      <td>2</td>\n",
              "      <td>0</td>\n",
              "    </tr>\n",
              "    <tr>\n",
              "      <th>1469</th>\n",
              "      <td>2</td>\n",
              "      <td>4</td>\n",
              "      <td>3</td>\n",
              "      <td>3</td>\n",
              "      <td>1</td>\n",
              "      <td>4</td>\n",
              "      <td>0</td>\n",
              "    </tr>\n",
              "  </tbody>\n",
              "</table>\n",
              "<p>1470 rows × 7 columns</p>\n",
              "</div>"
            ],
            "text/plain": [
              "      EnvironmentSatisfaction  JobInvolvement  JobSatisfaction  \\\n",
              "0                           2               3                4   \n",
              "1                           3               2                2   \n",
              "2                           4               2                3   \n",
              "3                           4               3                3   \n",
              "4                           1               3                2   \n",
              "...                       ...             ...              ...   \n",
              "1465                        3               4                4   \n",
              "1466                        4               2                1   \n",
              "1467                        2               4                2   \n",
              "1468                        4               2                2   \n",
              "1469                        2               4                3   \n",
              "\n",
              "      PerformanceRating  RelationshipSatisfaction  WorkLifeBalance  \\\n",
              "0                     3                         1                1   \n",
              "1                     4                         4                3   \n",
              "2                     3                         2                3   \n",
              "3                     3                         3                3   \n",
              "4                     3                         4                3   \n",
              "...                 ...                       ...              ...   \n",
              "1465                  3                         3                3   \n",
              "1466                  3                         1                3   \n",
              "1467                  4                         2                3   \n",
              "1468                  3                         4                2   \n",
              "1469                  3                         1                4   \n",
              "\n",
              "      Attrition_Yes  \n",
              "0                 1  \n",
              "1                 0  \n",
              "2                 1  \n",
              "3                 0  \n",
              "4                 0  \n",
              "...             ...  \n",
              "1465              0  \n",
              "1466              0  \n",
              "1467              0  \n",
              "1468              0  \n",
              "1469              0  \n",
              "\n",
              "[1470 rows x 7 columns]"
            ]
          },
          "metadata": {
            "tags": []
          },
          "execution_count": 14
        }
      ]
    },
    {
      "cell_type": "markdown",
      "metadata": {
        "id": "UvH1p5Q7u2nr",
        "colab_type": "text"
      },
      "source": [
        "Então é novamente necessário colocar os dados na escala apropriada. Estamos repetindo este processo pois pegamos os dados originais do dataset para começar este novo modelo.\n"
      ]
    },
    {
      "cell_type": "code",
      "metadata": {
        "id": "hfRD3IKFTFE-",
        "colab_type": "code",
        "colab": {
          "base_uri": "https://localhost:8080/",
          "height": 238
        },
        "outputId": "35b890a7-31b2-402d-99b3-898ce57ff4d9"
      },
      "source": [
        "scaler = StandardScaler()\n",
        "dfMLstd = scaler.fit_transform(dfMLdum)\n",
        "dfMLstd"
      ],
      "execution_count": 15,
      "outputs": [
        {
          "output_type": "execute_result",
          "data": {
            "text/plain": [
              "array([[-0.66053067,  0.37967213,  1.15325359, ..., -1.58417824,\n",
              "        -2.49382042,  2.28090588],\n",
              "       [ 0.25462493, -1.02616674, -0.66085318, ...,  1.19143799,\n",
              "         0.33809616, -0.4384223 ],\n",
              "       [ 1.16978053, -1.02616674,  0.2462002 , ..., -0.65897283,\n",
              "         0.33809616,  2.28090588],\n",
              "       ...,\n",
              "       [-0.66053067,  1.78551099, -0.66085318, ..., -0.65897283,\n",
              "         0.33809616, -0.4384223 ],\n",
              "       [ 1.16978053, -1.02616674, -0.66085318, ...,  1.19143799,\n",
              "        -1.07786213, -0.4384223 ],\n",
              "       [-0.66053067,  1.78551099,  0.2462002 , ..., -1.58417824,\n",
              "         1.75405446, -0.4384223 ]])"
            ]
          },
          "metadata": {
            "tags": []
          },
          "execution_count": 15
        }
      ]
    },
    {
      "cell_type": "markdown",
      "metadata": {
        "id": "9IrupjnW2dOy",
        "colab_type": "text"
      },
      "source": [
        "### Redução de Dimensionalidade"
      ]
    },
    {
      "cell_type": "markdown",
      "metadata": {
        "id": "e95niOvPvSoT",
        "colab_type": "text"
      },
      "source": [
        "Agora que as variáveis possuem escalas similares podemos realizar uma redução de dimensionalidade utilizando PCA (Principal Component Analysis), para aumentar a velocidade do modelo de clusterização e melhorar a visualização dos grupos de dados posteriormente.\n",
        "\n",
        "Para definir quantos componentes serão utilizados é importante verificar os resultados de variação explicada deles. Portanto vamos reduzir a dimensionalidade e analisar a melhor quantidade de componentes."
      ]
    },
    {
      "cell_type": "code",
      "metadata": {
        "id": "JBuydYoyUyhN",
        "colab_type": "code",
        "colab": {
          "base_uri": "https://localhost:8080/",
          "height": 51
        },
        "outputId": "a4fcd87c-7982-4c3e-88af-f252db6ac266"
      },
      "source": [
        "pca = PCA()\n",
        "pca.fit(dfMLstd)\n",
        "pca"
      ],
      "execution_count": 16,
      "outputs": [
        {
          "output_type": "execute_result",
          "data": {
            "text/plain": [
              "PCA(copy=True, iterated_power='auto', n_components=None, random_state=None,\n",
              "    svd_solver='auto', tol=0.0, whiten=False)"
            ]
          },
          "metadata": {
            "tags": []
          },
          "execution_count": 16
        }
      ]
    },
    {
      "cell_type": "code",
      "metadata": {
        "id": "_A3EO5oGVS5r",
        "colab_type": "code",
        "colab": {
          "base_uri": "https://localhost:8080/",
          "height": 467
        },
        "outputId": "161f183a-7647-480b-eef5-113bea40e85a"
      },
      "source": [
        "fig = px.scatter(\n",
        "    x = range(1,8), \n",
        "    y = pca.explained_variance_ratio_.cumsum()\n",
        ")\n",
        "\n",
        "fig.show('png')"
      ],
      "execution_count": 17,
      "outputs": [
        {
          "output_type": "display_data",
          "data": {
            "image/png": "[encoded data removed]"
          },
          "metadata": {
            "tags": []
          }
        }
      ]
    },
    {
      "cell_type": "markdown",
      "metadata": {
        "id": "OCxs1RErwxMe",
        "colab_type": "text"
      },
      "source": [
        "Esse comportamento linear dos resultados mostra que não é possível explicar toda a variação existente utilizando somente um ou dois componentes. Nessa situação a redução de dimensionalidade deixa de ser uma alternativa muito benéfica pois teremos que utilizar uma quantidade muito parecida de componentes, mas vamos realizar mesmo assim para este exemplo.\n"
      ]
    },
    {
      "cell_type": "code",
      "metadata": {
        "id": "2hmrNWXGVspw",
        "colab_type": "code",
        "colab": {}
      },
      "source": [
        "pca = PCA(n_components=6)\n",
        "pca.fit(dfMLstd)\n",
        "scorespca = pca.transform(dfMLstd)"
      ],
      "execution_count": 18,
      "outputs": []
    },
    {
      "cell_type": "markdown",
      "metadata": {
        "id": "oGz_G_NV2j6H",
        "colab_type": "text"
      },
      "source": [
        "### Clusterização"
      ]
    },
    {
      "cell_type": "markdown",
      "metadata": {
        "id": "08cfC_uAxMh6",
        "colab_type": "text"
      },
      "source": [
        "Com o número de componentes principais definido, é hora de aplicar o modelo de clusterização. Assim como no PCA, não sabemos qual o número ideal de clusters para agrupar os colaboradores. Naturalmente é preciso que seja um número razoável para que o time de RH consiga de fato realizar tratativas diferentes para cada grupo, mas ainda existe uma certa flexibilidade nesse valor. Portanto podemos utilizar um método chamado \"Elbow Method\" e testar a qualidade do modelo com quantidades de 1 a 10 grupos, para definir um bom número. Essa qualidade é avaliada a partir de uma métrica chamada Within Cluster Sum of Squares (WCSS).\n"
      ]
    },
    {
      "cell_type": "code",
      "metadata": {
        "id": "Sc_WCXO1Ywhc",
        "colab_type": "code",
        "colab": {}
      },
      "source": [
        "\n",
        "wcss = []\n",
        "for i in range (1, 10):\n",
        "  kmeans = KMeans(n_clusters = i, init = 'k-means++', n_init = 10)\n",
        "  kmeans.fit(scorespca)\n",
        "  wcss.append(kmeans.inertia_)\n"
      ],
      "execution_count": 19,
      "outputs": []
    },
    {
      "cell_type": "markdown",
      "metadata": {
        "id": "VWnTZ9zIyN2c",
        "colab_type": "text"
      },
      "source": [
        "\n",
        "\n",
        "Com os resultados capturados é possível plotá-los em um gráfico e buscar um resultado baixo de WCSS."
      ]
    },
    {
      "cell_type": "code",
      "metadata": {
        "id": "N3JoASNxZeOF",
        "colab_type": "code",
        "colab": {
          "base_uri": "https://localhost:8080/",
          "height": 467
        },
        "outputId": "0a51a64a-2a3f-4ae8-f963-c82c52c0a00c"
      },
      "source": [
        "fig = px.scatter(\n",
        "    x=range(1,10),\n",
        "    y=wcss,\n",
        ")\n",
        "\n",
        "fig.update_traces(mode='markers+lines')\n",
        "fig.show('png')"
      ],
      "execution_count": 20,
      "outputs": [
        {
          "output_type": "display_data",
          "data": {
            "image/png": "[encoded data removed]"
          },
          "metadata": {
            "tags": []
          }
        }
      ]
    },
    {
      "cell_type": "markdown",
      "metadata": {
        "id": "xWZLOQASygIs",
        "colab_type": "text"
      },
      "source": [
        "Uma vez que não existe um valor de clusters no qual o benefício incremental reduz drasticamente (chamado informalmente de joelho, ou cotovelo no gráfico) a decisão passa a ser mais prática do que técnica. Vamos escolher 4 grupos para prosseguir. "
      ]
    },
    {
      "cell_type": "code",
      "metadata": {
        "id": "jKGZwOJnZrLJ",
        "colab_type": "code",
        "colab": {
          "base_uri": "https://localhost:8080/",
          "height": 68
        },
        "outputId": "619b0aee-1eec-4fe7-829f-e7f468212e06"
      },
      "source": [
        "kmeans = KMeans(n_clusters=4, init='k-means++', n_init=10)\n",
        "kmeans.fit(scorespca)"
      ],
      "execution_count": 21,
      "outputs": [
        {
          "output_type": "execute_result",
          "data": {
            "text/plain": [
              "KMeans(algorithm='auto', copy_x=True, init='k-means++', max_iter=300,\n",
              "       n_clusters=4, n_init=10, n_jobs=None, precompute_distances='auto',\n",
              "       random_state=None, tol=0.0001, verbose=0)"
            ]
          },
          "metadata": {
            "tags": []
          },
          "execution_count": 21
        }
      ]
    },
    {
      "cell_type": "markdown",
      "metadata": {
        "id": "lAvpy5UX2sFz",
        "colab_type": "text"
      },
      "source": [
        "### Análise dos Agrupamentos"
      ]
    },
    {
      "cell_type": "markdown",
      "metadata": {
        "id": "kaWsHW4DzAp2",
        "colab_type": "text"
      },
      "source": [
        "Com o modelo criado e treinado é possível agrupar as informações dos funcionários com os grupos nos quais eles foram alocados a partir de seus comportamentos. "
      ]
    },
    {
      "cell_type": "code",
      "metadata": {
        "id": "2bzyvw3Za5Ii",
        "colab_type": "code",
        "colab": {
          "base_uri": "https://localhost:8080/",
          "height": 439
        },
        "outputId": "81f11537-7327-4d85-c0f7-058b785a8721"
      },
      "source": [
        "dfpca = pd.DataFrame(scorespca)\n",
        "dfClusters = pd.concat([dfML, dfpca], axis=1) \n",
        "dfClusters.columns.values[-6:] = ['PC1', 'PC2', 'PC3', 'PC4', 'PC5', 'PC6']\n",
        "dfClusters['Clusters'] = kmeans.labels_\n",
        "dfClusters"
      ],
      "execution_count": 22,
      "outputs": [
        {
          "output_type": "execute_result",
          "data": {
            "text/html": [
              "<div>\n",
              "<style scoped>\n",
              "    .dataframe tbody tr th:only-of-type {\n",
              "        vertical-align: middle;\n",
              "    }\n",
              "\n",
              "    .dataframe tbody tr th {\n",
              "        vertical-align: top;\n",
              "    }\n",
              "\n",
              "    .dataframe thead th {\n",
              "        text-align: right;\n",
              "    }\n",
              "</style>\n",
              "<table border=\"1\" class=\"dataframe\">\n",
              "  <thead>\n",
              "    <tr style=\"text-align: right;\">\n",
              "      <th></th>\n",
              "      <th>Attrition</th>\n",
              "      <th>EnvironmentSatisfaction</th>\n",
              "      <th>JobInvolvement</th>\n",
              "      <th>JobSatisfaction</th>\n",
              "      <th>PerformanceRating</th>\n",
              "      <th>RelationshipSatisfaction</th>\n",
              "      <th>WorkLifeBalance</th>\n",
              "      <th>PC1</th>\n",
              "      <th>PC2</th>\n",
              "      <th>PC3</th>\n",
              "      <th>PC4</th>\n",
              "      <th>PC5</th>\n",
              "      <th>PC6</th>\n",
              "      <th>Clusters</th>\n",
              "    </tr>\n",
              "  </thead>\n",
              "  <tbody>\n",
              "    <tr>\n",
              "      <th>0</th>\n",
              "      <td>Yes</td>\n",
              "      <td>2</td>\n",
              "      <td>3</td>\n",
              "      <td>4</td>\n",
              "      <td>3</td>\n",
              "      <td>1</td>\n",
              "      <td>1</td>\n",
              "      <td>2.286289</td>\n",
              "      <td>0.820560</td>\n",
              "      <td>-2.313658</td>\n",
              "      <td>-1.565529</td>\n",
              "      <td>0.815479</td>\n",
              "      <td>-0.172240</td>\n",
              "      <td>2</td>\n",
              "    </tr>\n",
              "    <tr>\n",
              "      <th>1</th>\n",
              "      <td>No</td>\n",
              "      <td>3</td>\n",
              "      <td>2</td>\n",
              "      <td>2</td>\n",
              "      <td>4</td>\n",
              "      <td>4</td>\n",
              "      <td>3</td>\n",
              "      <td>0.177376</td>\n",
              "      <td>0.425147</td>\n",
              "      <td>1.134580</td>\n",
              "      <td>1.743134</td>\n",
              "      <td>-0.506709</td>\n",
              "      <td>1.918954</td>\n",
              "      <td>3</td>\n",
              "    </tr>\n",
              "    <tr>\n",
              "      <th>2</th>\n",
              "      <td>Yes</td>\n",
              "      <td>4</td>\n",
              "      <td>2</td>\n",
              "      <td>3</td>\n",
              "      <td>3</td>\n",
              "      <td>2</td>\n",
              "      <td>3</td>\n",
              "      <td>1.550333</td>\n",
              "      <td>0.131707</td>\n",
              "      <td>1.342675</td>\n",
              "      <td>-1.345244</td>\n",
              "      <td>0.104729</td>\n",
              "      <td>-0.044301</td>\n",
              "      <td>2</td>\n",
              "    </tr>\n",
              "    <tr>\n",
              "      <th>3</th>\n",
              "      <td>No</td>\n",
              "      <td>4</td>\n",
              "      <td>3</td>\n",
              "      <td>3</td>\n",
              "      <td>3</td>\n",
              "      <td>3</td>\n",
              "      <td>3</td>\n",
              "      <td>-1.170903</td>\n",
              "      <td>-0.134403</td>\n",
              "      <td>0.482299</td>\n",
              "      <td>-0.522554</td>\n",
              "      <td>0.203667</td>\n",
              "      <td>0.170734</td>\n",
              "      <td>0</td>\n",
              "    </tr>\n",
              "    <tr>\n",
              "      <th>4</th>\n",
              "      <td>No</td>\n",
              "      <td>1</td>\n",
              "      <td>3</td>\n",
              "      <td>2</td>\n",
              "      <td>3</td>\n",
              "      <td>4</td>\n",
              "      <td>3</td>\n",
              "      <td>-0.173228</td>\n",
              "      <td>-1.269541</td>\n",
              "      <td>-0.676698</td>\n",
              "      <td>0.923029</td>\n",
              "      <td>-1.092484</td>\n",
              "      <td>-0.462070</td>\n",
              "      <td>0</td>\n",
              "    </tr>\n",
              "    <tr>\n",
              "      <th>...</th>\n",
              "      <td>...</td>\n",
              "      <td>...</td>\n",
              "      <td>...</td>\n",
              "      <td>...</td>\n",
              "      <td>...</td>\n",
              "      <td>...</td>\n",
              "      <td>...</td>\n",
              "      <td>...</td>\n",
              "      <td>...</td>\n",
              "      <td>...</td>\n",
              "      <td>...</td>\n",
              "      <td>...</td>\n",
              "      <td>...</td>\n",
              "      <td>...</td>\n",
              "    </tr>\n",
              "    <tr>\n",
              "      <th>1465</th>\n",
              "      <td>No</td>\n",
              "      <td>3</td>\n",
              "      <td>4</td>\n",
              "      <td>4</td>\n",
              "      <td>3</td>\n",
              "      <td>3</td>\n",
              "      <td>3</td>\n",
              "      <td>-1.656786</td>\n",
              "      <td>0.037275</td>\n",
              "      <td>-0.909724</td>\n",
              "      <td>0.061123</td>\n",
              "      <td>-0.015548</td>\n",
              "      <td>-0.569114</td>\n",
              "      <td>0</td>\n",
              "    </tr>\n",
              "    <tr>\n",
              "      <th>1466</th>\n",
              "      <td>No</td>\n",
              "      <td>4</td>\n",
              "      <td>2</td>\n",
              "      <td>1</td>\n",
              "      <td>3</td>\n",
              "      <td>1</td>\n",
              "      <td>3</td>\n",
              "      <td>0.358040</td>\n",
              "      <td>-0.119681</td>\n",
              "      <td>1.742891</td>\n",
              "      <td>-0.732771</td>\n",
              "      <td>1.687785</td>\n",
              "      <td>-0.342815</td>\n",
              "      <td>1</td>\n",
              "    </tr>\n",
              "    <tr>\n",
              "      <th>1467</th>\n",
              "      <td>No</td>\n",
              "      <td>2</td>\n",
              "      <td>4</td>\n",
              "      <td>2</td>\n",
              "      <td>4</td>\n",
              "      <td>2</td>\n",
              "      <td>3</td>\n",
              "      <td>-0.210453</td>\n",
              "      <td>0.398288</td>\n",
              "      <td>-0.639925</td>\n",
              "      <td>2.752365</td>\n",
              "      <td>1.420781</td>\n",
              "      <td>0.077255</td>\n",
              "      <td>3</td>\n",
              "    </tr>\n",
              "    <tr>\n",
              "      <th>1468</th>\n",
              "      <td>No</td>\n",
              "      <td>4</td>\n",
              "      <td>2</td>\n",
              "      <td>2</td>\n",
              "      <td>3</td>\n",
              "      <td>4</td>\n",
              "      <td>2</td>\n",
              "      <td>-0.266629</td>\n",
              "      <td>-0.692339</td>\n",
              "      <td>0.454244</td>\n",
              "      <td>-1.159048</td>\n",
              "      <td>-0.214566</td>\n",
              "      <td>1.726569</td>\n",
              "      <td>0</td>\n",
              "    </tr>\n",
              "    <tr>\n",
              "      <th>1469</th>\n",
              "      <td>No</td>\n",
              "      <td>2</td>\n",
              "      <td>4</td>\n",
              "      <td>3</td>\n",
              "      <td>3</td>\n",
              "      <td>1</td>\n",
              "      <td>4</td>\n",
              "      <td>-0.934020</td>\n",
              "      <td>0.158804</td>\n",
              "      <td>-0.114172</td>\n",
              "      <td>0.969373</td>\n",
              "      <td>0.914389</td>\n",
              "      <td>-2.564792</td>\n",
              "      <td>1</td>\n",
              "    </tr>\n",
              "  </tbody>\n",
              "</table>\n",
              "<p>1470 rows × 14 columns</p>\n",
              "</div>"
            ],
            "text/plain": [
              "     Attrition  EnvironmentSatisfaction  JobInvolvement  JobSatisfaction  \\\n",
              "0          Yes                        2               3                4   \n",
              "1           No                        3               2                2   \n",
              "2          Yes                        4               2                3   \n",
              "3           No                        4               3                3   \n",
              "4           No                        1               3                2   \n",
              "...        ...                      ...             ...              ...   \n",
              "1465        No                        3               4                4   \n",
              "1466        No                        4               2                1   \n",
              "1467        No                        2               4                2   \n",
              "1468        No                        4               2                2   \n",
              "1469        No                        2               4                3   \n",
              "\n",
              "      PerformanceRating  RelationshipSatisfaction  WorkLifeBalance       PC1  \\\n",
              "0                     3                         1                1  2.286289   \n",
              "1                     4                         4                3  0.177376   \n",
              "2                     3                         2                3  1.550333   \n",
              "3                     3                         3                3 -1.170903   \n",
              "4                     3                         4                3 -0.173228   \n",
              "...                 ...                       ...              ...       ...   \n",
              "1465                  3                         3                3 -1.656786   \n",
              "1466                  3                         1                3  0.358040   \n",
              "1467                  4                         2                3 -0.210453   \n",
              "1468                  3                         4                2 -0.266629   \n",
              "1469                  3                         1                4 -0.934020   \n",
              "\n",
              "           PC2       PC3       PC4       PC5       PC6  Clusters  \n",
              "0     0.820560 -2.313658 -1.565529  0.815479 -0.172240         2  \n",
              "1     0.425147  1.134580  1.743134 -0.506709  1.918954         3  \n",
              "2     0.131707  1.342675 -1.345244  0.104729 -0.044301         2  \n",
              "3    -0.134403  0.482299 -0.522554  0.203667  0.170734         0  \n",
              "4    -1.269541 -0.676698  0.923029 -1.092484 -0.462070         0  \n",
              "...        ...       ...       ...       ...       ...       ...  \n",
              "1465  0.037275 -0.909724  0.061123 -0.015548 -0.569114         0  \n",
              "1466 -0.119681  1.742891 -0.732771  1.687785 -0.342815         1  \n",
              "1467  0.398288 -0.639925  2.752365  1.420781  0.077255         3  \n",
              "1468 -0.692339  0.454244 -1.159048 -0.214566  1.726569         0  \n",
              "1469  0.158804 -0.114172  0.969373  0.914389 -2.564792         1  \n",
              "\n",
              "[1470 rows x 14 columns]"
            ]
          },
          "metadata": {
            "tags": []
          },
          "execution_count": 22
        }
      ]
    },
    {
      "cell_type": "markdown",
      "metadata": {
        "id": "rlmfjKeRzTbF",
        "colab_type": "text"
      },
      "source": [
        "Podemos visualizar os agrupamentos de colaboradores em gráficos de dispersão 2D e 3D para buscar algumas informações. Se utilizarmos os componentes principais do PCA como eixos as diferenças entre os grupos ficam mais evidentes mas o gráfico perde significância prática.\n"
      ]
    },
    {
      "cell_type": "code",
      "metadata": {
        "id": "o7F9qa7TcH33",
        "colab_type": "code",
        "colab": {
          "base_uri": "https://localhost:8080/",
          "height": 467
        },
        "outputId": "675cf4be-2206-4266-b5c2-aba3019f5b45"
      },
      "source": [
        "fig = px.scatter(dfClusters,\n",
        "           x= 'PC4',\n",
        "           y= 'PC6',\n",
        "           color = 'Clusters',\n",
        "          #  hover_data=['MonthlyIncome']\n",
        ")\n",
        "\n",
        "fig.show('png')"
      ],
      "execution_count": 23,
      "outputs": [
        {
          "output_type": "display_data",
          "data": {
            "image/png": "[encoded data removed]"
          },
          "metadata": {
            "tags": []
          }
        }
      ]
    },
    {
      "cell_type": "code",
      "metadata": {
        "id": "QEsI4WnEIOGG",
        "colab_type": "code",
        "colab": {
          "base_uri": "https://localhost:8080/",
          "height": 467
        },
        "outputId": "c64afebc-082e-4a8f-f330-51d829adfac2"
      },
      "source": [
        "fig = px.scatter_3d(dfClusters,\n",
        "           x= 'PC1',\n",
        "           y= 'PC3',\n",
        "           z= 'PC4',\n",
        "           color = 'Clusters',\n",
        "          #  hover_data=['MonthlyIncome']\n",
        ")\n",
        "\n",
        "fig.show('png')"
      ],
      "execution_count": 24,
      "outputs": [
        {
          "output_type": "display_data",
          "data": {
            "image/png": "[encoded data removed]"
          },
          "metadata": {
            "tags": []
          }
        }
      ]
    },
    {
      "cell_type": "markdown",
      "metadata": {
        "id": "pH5DyaGMz6YO",
        "colab_type": "text"
      },
      "source": [
        "Na representação alguns grupos parecem misturados, mas isso não é uma realidade. Para conseguir visualizar os resultados precisamos representar resultados multidimensionais em 2D ou 3D, o que pode gerar essa impressão de que estão misturados. Mas no espaço multidimensional eles possuem suas diferenças claras.\n",
        "\n",
        "Para encontrar essas diferenças e identificar os perfis dos funcionários de cada agrupamento podemos utilizar diversos métodos. Um dos métodos se chama análise de categorias paralelas e permite que vejamos um resumo do comportamento desses agrupamentos em diversas variáveis.\n",
        "\n",
        "Nesses gráficos a altura da barra de cada cor representa quanto do total de dados de uma determinada variável é composta por um determinado cluster. Ou seja, quando vemos abaixo a maior parte da categoria `Yes` na cor laranja em `Attrition` significa que a maior parte dos funcionários que tiveram conflitos pertencem ao agrupamento da cor laranja (identificado por um número no final do gráfico).\n",
        "\n",
        "OBS: Este gráfico não é visível no GitHub. Para visualizá-lo você deve acessar o Notebook do Google Colab no início deste artigo ou neste [link](https://colab.research.google.com/drive/1VsMQZQwWWhOdia4D47nZAM5BuyPsCAoa?usp=sharing)."
      ]
    },
    {
      "cell_type": "code",
      "metadata": {
        "id": "hUh_cjpD3Rsx",
        "colab_type": "code",
        "colab": {
          "base_uri": "https://localhost:8080/",
          "height": 566
        },
        "outputId": "bce16030-98ad-4129-e0dc-be182caf3cc1"
      },
      "source": [
        "fig = px.parallel_categories(dfClusters, width = 2000, color='Clusters')\n",
        "\n",
        "\n",
        "py.iplot(fig)"
      ],
      "execution_count": 26,
      "outputs": [
        {
          "output_type": "execute_result",
          "data": {
            "text/html": [
              "\n",
              "        <iframe\n",
              "            width=\"2000px\"\n",
              "            height=\"525px\"\n",
              "            src=\"https://plotly.com/~diegopesco/13.embed\"\n",
              "            frameborder=\"0\"\n",
              "            allowfullscreen\n",
              "        ></iframe>\n",
              "        "
            ],
            "text/plain": [
              "<IPython.lib.display.IFrame at 0x7f5e54a43da0>"
            ]
          },
          "metadata": {
            "tags": []
          },
          "execution_count": 26
        }
      ]
    },
    {
      "cell_type": "markdown",
      "metadata": {
        "id": "LpMjqlgKEKln",
        "colab_type": "text"
      },
      "source": [
        "Podemos ver a partir dos dados que existem diferenças bastante claras entre os grupos:\n",
        "\n",
        "\n",
        "1. O grupo 2 (laranja) é composto principalmente por pessoas que tiveram desentendimentos recentemente. Esses são os colaboradores que o RH deve atingir com medidas de redução de danos, para resolver os conflitos. Nenhum dos funcionários deste grupo deu um score máximo para envolvimento com o trabalho, o que pode ser um indício que eles estão desconectados com a empresa, e não vêem muito propósito em suas atividades, ou simplesmente estão desmotivados.\n",
        "\n",
        "2. O grupo 3 (amarelo) é o grupo dos funcionários de alta performance. Estes podem ser considerados os verdadeiros talentos da companhia, aqueles que ela não deseja perder sob nenhuma circunstância. Uma pequena parte das pessoas deste grupo teve conflitos recentemente e não estão satisfeitos com seus relacionamentos no trabalho. Portanto é necessário que um trabalho mais dedicado seja realizado para resolver esses impasses e mantê-los engajados e motivados. Mudança de cargos, mediação de conflitos são algumas das opções.\n",
        "\n",
        "3. O grupo 0 (azul) é composto pelos funcionários que possuem bom relacionamento na empresa. Eles não tiveram atritos recentemente e deram scores altos para sua percepção dos relacionamentos na empresa. Naturalmente existem outros pontos de insatisfação que podem ser melhorados, mas como o objetivo da análise é em relacionamentos não entraremos em detalhes. \n",
        "\n",
        "4. O grupo 1 (roxo) é a zona de atenção. Esses funcionários não tiveram conflitos recentemente mas deram scores baixos em sua percepção de relacionamentos na companhia. Isso significa que estão desconfortáveis com suas relações e provavelmente terão atritos se nada for feito para ajudá-los.\n",
        "\n",
        "Para resumir, o grupo 0 é a referência, onde os relacionamentos estão indo bem. O grupo 1 é a zona de atenção, onde um bom trabalho da equipe de RH vai realmente reduzir as taxas de conflitos. O grupo 3 é o grupo de alta performance, que em geral está bem em termos de relacionamentos, mas alguns casos específicos precisam ser tratados para evitar que os conflitos que ocorreram sejam causadores de um desligamento indesejado. E o grupo 2 é o grupo dos funcionários que mais tiveram desentendimentos recentemente. Esse é o grupo no qual uma estratégia de minimização de danos pode ser aplicada para melhorar a performance e o bem estar desses colaboradores.\n",
        "\n",
        "Agora que os perfis estão bem definidos podemos investigar as informações mais gerais dos funcionários e ver se existem padrões interessantes detectados nos grupos.\n"
      ]
    },
    {
      "cell_type": "code",
      "metadata": {
        "id": "BFeHu2IwhH1q",
        "colab_type": "code",
        "colab": {
          "base_uri": "https://localhost:8080/",
          "height": 566
        },
        "outputId": "7c611e88-6159-443a-e431-15a9c778a456"
      },
      "source": [
        "dfFull = pd.concat([df, dfpca], axis=1) \n",
        "dfFull.columns.values[-2:] = ['PC1', 'PC2']\n",
        "dfFull['Clusters'] = kmeans.labels_\n",
        "dfFull.drop(['EmployeeCount', 'JobLevel', 'Over18', 'StandardHours', 'StockOptionLevel'], axis=1, inplace=True)\n",
        "\n",
        "fig = px.parallel_categories(dfFull, width = 3000, color='Clusters')\n",
        "\n",
        "py.iplot(fig)"
      ],
      "execution_count": 27,
      "outputs": [
        {
          "output_type": "execute_result",
          "data": {
            "text/html": [
              "\n",
              "        <iframe\n",
              "            width=\"3000px\"\n",
              "            height=\"525px\"\n",
              "            src=\"https://plotly.com/~diegopesco/15.embed\"\n",
              "            frameborder=\"0\"\n",
              "            allowfullscreen\n",
              "        ></iframe>\n",
              "        "
            ],
            "text/plain": [
              "<IPython.lib.display.IFrame at 0x7f5e5742b940>"
            ]
          },
          "metadata": {
            "tags": []
          },
          "execution_count": 27
        }
      ]
    },
    {
      "cell_type": "markdown",
      "metadata": {
        "id": "Urch0buc6KbE",
        "colab_type": "text"
      },
      "source": [
        "Existe uma quantidade massiva de dados para analisar, então é importante que isso seja feito com atenção para identificar padrões. Em geral os grupos estão bem distribuídos em termos de dados demográficos, mas algumas conclusões podem ser realizadas:\n",
        "\n",
        "\n",
        "1. O grupo de alta performance teve um claramente um aumento mais significativo de salário, o que mostra que a companhia baseia seus aumentos em performance. Também é possível perceber que os funcionários que tiveram mais conflitos tiveram os aumentos mais baixos. Seriam os aumentos mais baixos a causa de uma insatisfação que culminou em um desentendimento? Ou os conflitos foram de certa maneira repreendidos com um aumento mais baixo?\n",
        "\n",
        "2. A maior parte dos colaboradores de posições hierárquicas mais altas não tiveram muitos atritos recentemente, mas muitos deles estão no grupo de atenção. Isso é um alerta que precisa ser levado em consideração.\n",
        "\n",
        "Para concluir essa seção, todos os funcionários foram devidamente agrupados e o time de RH possui bastante informação sobre cada um deles para desenvolver estratégias por grupo de pessoas.\n",
        "\n"
      ]
    },
    {
      "cell_type": "markdown",
      "metadata": {
        "id": "CfK6OXN0exVD",
        "colab_type": "text"
      },
      "source": [
        "# Conclusão\n",
        "\n",
        "Neste notebook realizei a análise de dados fictícios de RH criados pela IBM e criei dois modelos de Machine Learning a partir deles. \n",
        "\n",
        "Bastante informação sobre os padrões de comportamento dos funcionários foi capturada já na etapa de análise exploratória. O modelo classificador criado prevê com acurácia razoável quando um conflito irá acontecer. O modelo de clusterização agrupou os funcionários a partir de seus perfis ou de seus sentimentos com relação à empresa neste momento.\n",
        "\n",
        "Esta análise é o ponto de partida para diferentes estratégias e projetos dentro de uma companhia, dependendo de quais objetivos se deseja atingir. É importante ressaltar que os dados utilizados não são difíceis de obter. Departamentos de RH já possuem informações básicas sobre seus funcionários e muitos deles aplicam pesquisas de clima para monitorar o engajamento dos colaboradores. Então não existe esforço adicional em termos de coleta de dados, que é a etapa normalmente mais cara e demorada de um projeto. Basta que os dados sejam preparados e analisados de maneira adequada para que mais informação seja agregada ao estudo e os resultados de retenção de talentos e de satisfação no trabalho sejam melhorados."
      ]
    },
    {
      "cell_type": "code",
      "metadata": {
        "id": "D4benmEHPj9P",
        "colab_type": "code",
        "colab": {}
      },
      "source": [
        ""
      ],
      "execution_count": null,
      "outputs": []
    }
  ]
}